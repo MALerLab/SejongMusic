{
 "cells": [
  {
   "cell_type": "code",
   "execution_count": 1,
   "metadata": {},
   "outputs": [
    {
     "name": "stdout",
     "output_type": "stream",
     "text": [
      "/home/teo/userdata/SejongMusic\n"
     ]
    }
   ],
   "source": [
    "%cd ..\n",
    "%load_ext autoreload\n",
    "%autoreload 2"
   ]
  },
  {
   "cell_type": "code",
   "execution_count": 2,
   "metadata": {},
   "outputs": [],
   "source": [
    "import music21\n",
    "from music21 import converter\n",
    "from typing import List, Tuple, Union"
   ]
  },
  {
   "cell_type": "code",
   "execution_count": 47,
   "metadata": {},
   "outputs": [],
   "source": [
    "score_fn = 'music_score/chwipunghyeong.musicxml'\n",
    "score = converter.parse(score_fn)"
   ]
  },
  {
   "cell_type": "code",
   "execution_count": 3,
   "metadata": {},
   "outputs": [],
   "source": [
    "def divde_to_three_groups(notes):\n",
    "  first_group = []\n",
    "  second_group = []\n",
    "  third_group = []\n",
    "  for note in notes:\n",
    "    if note.offset < 1:\n",
    "      first_group.append(note)\n",
    "    elif note.offset < 2.5:\n",
    "      second_group.append(note)\n",
    "    else:\n",
    "      third_group.append(note)\n",
    "  return first_group, second_group, third_group\n",
    "\n",
    "def select_longest_note(notes: List[music21.note.Note]):\n",
    "  longest_note = None\n",
    "  for note in notes:\n",
    "    if longest_note is None or note.duration.quarterLength > longest_note.duration.quarterLength:\n",
    "      longest_note = note\n",
    "  return longest_note\n",
    "\n",
    "def convert_odd_measure(measure):\n",
    "  notes = [note for note in measure.flat.notesAndRests]\n",
    "  first_group, second_group, third_group = divde_to_three_groups(notes)\n",
    "  # preserve first_group\n",
    "  # elongate the longest note in second_group\n",
    "  longest_note = select_longest_note(second_group)\n",
    "  longest_note.duration.quarterLength += 0.5\n",
    "  # elongate the longest note in third_group\n",
    "  longest_note = select_longest_note(third_group)\n",
    "  longest_note.duration.quarterLength += 0.5\n",
    "  return measure\n",
    "\n",
    "def convert_even_measure(measure):\n",
    "  notes = [note for note in measure.flat.notesAndRests]\n",
    "  first_group, second_group, third_group = divde_to_three_groups(notes)\n",
    "  # elongate the longest note in first_group\n",
    "  for note in first_group:\n",
    "    note.duration.quarterLength *= 2\n",
    "  return measure\n",
    "\n",
    "# convert_odd_measure(score.parts[0].measure(1))\n",
    "      "
   ]
  },
  {
   "cell_type": "code",
   "execution_count": 4,
   "metadata": {},
   "outputs": [
    {
     "ename": "NameError",
     "evalue": "name 'score' is not defined",
     "output_type": "error",
     "traceback": [
      "\u001b[0;31m---------------------------------------------------------------------------\u001b[0m",
      "\u001b[0;31mNameError\u001b[0m                                 Traceback (most recent call last)",
      "Cell \u001b[0;32mIn[4], line 1\u001b[0m\n\u001b[0;32m----> 1\u001b[0m \u001b[38;5;28mlen\u001b[39m(\u001b[43mscore\u001b[49m\u001b[38;5;241m.\u001b[39mparts[\u001b[38;5;241m0\u001b[39m])\n",
      "\u001b[0;31mNameError\u001b[0m: name 'score' is not defined"
     ]
    }
   ],
   "source": [
    "len(score.parts[0])"
   ]
  },
  {
   "cell_type": "code",
   "execution_count": 5,
   "metadata": {},
   "outputs": [
    {
     "data": {
      "text/plain": [
       "PosixPath('/home/teo/userdata/SejongMusic/music_score/chwipunghyeong_edited.musicxml')"
      ]
     },
     "execution_count": 5,
     "metadata": {},
     "output_type": "execute_result"
    }
   ],
   "source": [
    "import copy\n",
    "\n",
    "score_fn = 'music_score/chwipunghyeong.musicxml'\n",
    "score = converter.parse(score_fn)\n",
    "new_score = music21.stream.Score(id='mainScore')\n",
    "stream = music21.stream.Stream()\n",
    "\n",
    "# add time signature to stream\n",
    "stream.append(music21.meter.TimeSignature('30/4'))\n",
    "\n",
    "for measure_idx in range(1, 133):\n",
    "  measure = score.parts[0].measure(measure_idx)\n",
    "  if measure_idx % 2 == 1:\n",
    "    measure = convert_odd_measure(measure)\n",
    "  else:\n",
    "    measure = convert_even_measure(measure)\n",
    "  for note in measure.flat.notesAndRests:\n",
    "    note.duration.quarterLength *= 1.5\n",
    "    note.pitch.ps += 11\n",
    "    stream.append(note)\n",
    "\n",
    "new_score.insert(0, stream)\n",
    "for _ in range(4):\n",
    "  new_score.insert(0, copy.copy(stream))\n",
    "\n",
    "new_score.write('musicxml', 'music_score/chwipunghyeong_edited.musicxml')"
   ]
  },
  {
   "cell_type": "code",
   "execution_count": 66,
   "metadata": {},
   "outputs": [],
   "source": [
    "note.pitch.ps += 1"
   ]
  },
  {
   "cell_type": "code",
   "execution_count": 67,
   "metadata": {},
   "outputs": [
    {
     "data": {
      "text/plain": [
       "<music21.pitch.Pitch F#4>"
      ]
     },
     "execution_count": 67,
     "metadata": {},
     "output_type": "execute_result"
    }
   ],
   "source": [
    "note.pitch"
   ]
  },
  {
   "cell_type": "code",
   "execution_count": 61,
   "metadata": {},
   "outputs": [
    {
     "data": {
      "text/plain": [
       "PosixPath('/home/teo/userdata/SejongMusic/music_score/chwipunghyeong_edited.musicxml')"
      ]
     },
     "execution_count": 61,
     "metadata": {},
     "output_type": "execute_result"
    }
   ],
   "source": [
    "stream.write('musicxml', 'music_score/chwipunghyeong_edited.musicxml')"
   ]
  }
 ],
 "metadata": {
  "kernelspec": {
   "display_name": "SejongMusic-0Xd-sAL0",
   "language": "python",
   "name": "python3"
  },
  "language_info": {
   "codemirror_mode": {
    "name": "ipython",
    "version": 3
   },
   "file_extension": ".py",
   "mimetype": "text/x-python",
   "name": "python",
   "nbconvert_exporter": "python",
   "pygments_lexer": "ipython3",
   "version": "3.8.10"
  }
 },
 "nbformat": 4,
 "nbformat_minor": 2
}
