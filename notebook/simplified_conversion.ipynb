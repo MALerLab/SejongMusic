{
 "cells": [
  {
   "cell_type": "code",
   "execution_count": 1,
   "metadata": {},
   "outputs": [
    {
     "name": "stdout",
     "output_type": "stream",
     "text": [
      "/home/teo/userdata/git_libraries/Yeominrak\n"
     ]
    }
   ],
   "source": [
    "%cd .."
   ]
  },
  {
   "cell_type": "code",
   "execution_count": 2,
   "metadata": {},
   "outputs": [],
   "source": [
    "from pathlib import Path\n",
    "import music21\n",
    "from music21 import converter, stream, note as m21_note \n",
    "from typing import List, Set, Dict, Tuple\n",
    "import torch\n",
    "from collections import defaultdict, Counter\n",
    "import copy\n",
    "import numpy as np\n",
    "\n",
    "from yeominrak_processing import AlignedScore, SamplingScore, pack_collate, ShiftedAlignedScore, TestScore, Gnote\n",
    "from model_zoo import Seq2seq, Converter, AttentionSeq2seq, QkvAttnSeq2seq, get_emb_total_size\n",
    "import random as random\n",
    "from loss import nll_loss\n",
    "from trainer import Trainer\n",
    "from decode import MidiDecoder\n",
    "from torch.nn.utils.rnn import pack_sequence, PackedSequence, pad_packed_sequence, pack_padded_sequence\n",
    "import torch\n",
    "from torch.utils.data import Dataset, DataLoader\n",
    "from omegaconf import OmegaConf\n",
    "from metric import make_dynamic_template, convert_note_to_sampling, get_similarity, get_correspondence\n",
    "from constants import get_dynamic"
   ]
  },
  {
   "cell_type": "code",
   "execution_count": 3,
   "metadata": {},
   "outputs": [],
   "source": [
    "config = OmegaConf.load('yamls/baseline.yaml')\n",
    "config = get_emb_total_size(config)\n",
    "device = 'cpu'\n",
    "train_dataset = ShiftedAlignedScore(xml_path='0_edited.musicxml', is_valid=False, min_meas=4, max_meas=4, slice_measure_num=4)\n",
    "val_dataset = ShiftedAlignedScore(xml_path='0_edited.musicxml', is_valid= True, slice_measure_num=4)\n"
   ]
  },
  {
   "cell_type": "code",
   "execution_count": 5,
   "metadata": {},
   "outputs": [],
   "source": [
    "class BlockDataset:\n",
    "  def __init__(self, dataset: ShiftedAlignedScore):\n",
    "    self.data = dataset\n",
    "    return\n",
    "  \n",
    "  def __len__(self):\n",
    "    return \n",
    "  \n",
    "  def __getitem__(self, idx):\n",
    "\n",
    "    return\n",
    "  \n",
    "\n",
    "block_set = BlockDataset(train_dataset)\n"
   ]
  },
  {
   "cell_type": "code",
   "execution_count": 8,
   "metadata": {},
   "outputs": [
    {
     "data": {
      "text/plain": [
       "([Gnote: 46.0, 1.0, 3.0, middle,\n",
       "  Gnote: 34.0, 1.0, 4.0, weak,\n",
       "  Gnote: 46.0, 1.0, 5.0, strong],\n",
       " [Gnote: 48.0, 1.0, 6.0, weak, Gnote: 46.0, 1.0, 7.0, middle],\n",
       " [Gnote: 41.0, 1.0, 0.0, strong,\n",
       "  Gnote: 46.0, 0.5, 1.0, weak,\n",
       "  Gnote: 41.0, 0.5, 1.5, weak,\n",
       "  Gnote: 39.0, 1.0, 2.0, weak])"
      ]
     },
     "execution_count": 8,
     "metadata": {},
     "output_type": "execute_result"
    }
   ],
   "source": [
    "BLOCK_ANCHOR = [\n",
    "  [0, 1.5, 2.5, 4],\n",
    "  [0, 3, 6, 8],\n",
    "  [0, 3, 6, 8, 10],\n",
    "  [0, 3, 6, 8, 10],\n",
    "  [0, 3, 6, 8, 10],\n",
    "  [0, 3, 6, 8, 10],\n",
    "  [0, 3, 5, 8, 10],\n",
    "  [0, 3, 5, 8, 10]\n",
    "]\n",
    "\n",
    "def get_block_from_measures(measures: List[Gnote], measure_idx, block_idx, part_idx):\n",
    "  anchor_point = BLOCK_ANCHOR[part_idx]\n",
    "  block_start = anchor_point[block_idx]\n",
    "  block_end = anchor_point[block_idx+1]\n",
    "\n",
    "  selected_measure = measures[measure_idx]\n",
    "  selected_notes = []\n",
    "  for note in selected_measure:\n",
    "    if note.measure_offset >= block_start and note.measure_offset < block_end:\n",
    "      selected_notes.append(note)\n",
    "  return selected_notes\n",
    "\n",
    "def get_continuous_block(measures: List[Gnote], measure_idx, block_idx, part_idx):\n",
    "  anchor_point = BLOCK_ANCHOR[part_idx]\n",
    "\n",
    "  current_block = get_block_from_measures(measures, measure_idx, block_idx, part_idx)\n",
    "  prev_block_idx = block_idx - 1\n",
    "  prev_block_measure_idx = measure_idx\n",
    "  if prev_block_idx < 0:\n",
    "    prev_block_measure_idx -= 1\n",
    "    prev_block_idx = len(anchor_point) - 2\n",
    "  prev_block = get_block_from_measures(measures, prev_block_measure_idx, prev_block_idx, part_idx)\n",
    "\n",
    "  next_block_idx = block_idx + 1\n",
    "  next_block_measure_idx = measure_idx\n",
    "  if next_block_idx >= len(anchor_point) - 1:\n",
    "    next_block_measure_idx += 1\n",
    "    next_block_idx = 0\n",
    "  next_block = get_block_from_measures(measures, next_block_measure_idx, next_block_idx, part_idx)\n",
    "\n",
    "  return prev_block, current_block, next_block\n",
    "\n",
    "\n",
    "get_continuous_block(block_set.data.parts[7].measures, 5, 2, 1)"
   ]
  },
  {
   "cell_type": "code",
   "execution_count": 7,
   "metadata": {},
   "outputs": [
    {
     "name": "stdout",
     "output_type": "stream",
     "text": [
      "2 42 9.0\n",
      "2 49 9.0\n",
      "2 56 9.0\n",
      "2 108 9.0\n",
      "3 42 9.0\n",
      "3 49 9.0\n",
      "3 56 9.0\n",
      "3 84 9.0\n",
      "3 108 9.0\n",
      "4 42 4.0\n",
      "4 49 9.0\n",
      "4 54 6.0\n",
      "4 64 2.0\n",
      "5 13 6.0\n",
      "5 25 6.0\n",
      "5 49 9.0\n",
      "5 51 7.0\n",
      "5 89 6.0\n",
      "5 114 9.0\n",
      "[(3, 43), (3, 50), (3, 57), (3, 109), (4, 43), (4, 50), (4, 57), (4, 85), (4, 109), (5, 43), (5, 50), (5, 55), (5, 65), (6, 14), (6, 26), (6, 50), (6, 52), (6, 90), (6, 115)]\n"
     ]
    }
   ],
   "source": [
    "part_measure_with_errors = []\n",
    "\n",
    "for part_idx, part in enumerate(train_dataset.parts):\n",
    "  for measuer_idx, measure in enumerate(part.measures):\n",
    "    if measure == []:\n",
    "      continue\n",
    "    duration = sum([note.duration for note in measure])\n",
    "    if part_idx in [0] and abs(duration-4) > 0.1 \\\n",
    "    or part_idx in [1] and abs(duration-8) > 0.1 \\\n",
    "    or part_idx in [2,3,4,5,6,7] and abs(duration-10) > 0.1:\n",
    "      print(part_idx, measuer_idx, duration)\n",
    "      part_measure_with_errors.append((part_idx+1, measuer_idx+1))\n",
    "\n",
    "print(part_measure_with_errors)\n"
   ]
  },
  {
   "cell_type": "code",
   "execution_count": 24,
   "metadata": {},
   "outputs": [
    {
     "name": "stdout",
     "output_type": "stream",
     "text": [
      "0 Counter({53.0: 37, 48.0: 36, 46.0: 36, 44.0: 34, 51.0: 29, 41.0: 9, 39.0: 7, 56.0: 6})\n",
      "1 Counter({46.0: 112, 48.0: 103, 53.0: 92, 44.0: 85, 51.0: 83, 56.0: 44, 41.0: 27, 39.0: 19, 58.0: 7})\n",
      "2 Counter({51.0: 181, 48.0: 174, 46.0: 161, 53.0: 158, 56.0: 92, 44.0: 89, 41.0: 36, 58.0: 26, 39.0: 17, 60.0: 6, 49.0: 4})\n",
      "3 Counter({51.0: 174, 48.0: 168, 46.0: 168, 53.0: 141, 44.0: 98, 56.0: 75, 41.0: 51, 39.0: 21, 58.0: 20, 60.0: 5, 49.0: 4, 63.0: 1})\n",
      "4 Counter({51.0: 79, 46.0: 76, 48.0: 67, 53.0: 52, 44.0: 51, 39.0: 35, 56.0: 33, 41.0: 33, 58.0: 4, 49.0: 2, 60.0: 1})\n",
      "5 Counter({51.0: 134, 46.0: 123, 53.0: 109, 48.0: 108, 56.0: 64, 44.0: 64, 39.0: 49, 41.0: 37, 58.0: 18, 60.0: 4, 55.0: 2, 49.0: 2, 63.0: 1})\n",
      "6 Counter({51.0: 294, 46.0: 282, 48.0: 231, 53.0: 196, 56.0: 162, 44.0: 154, 39.0: 88, 41.0: 62, 58.0: 41, 60.0: 9, 49.0: 8, 34.0: 5, 63.0: 3})\n",
      "7 Counter({46.0: 298, 51.0: 286, 48.0: 222, 53.0: 196, 44.0: 148, 56.0: 144, 39.0: 97, 41.0: 65, 58.0: 39, 60.0: 11, 49.0: 9, 34.0: 7, 63.0: 7})\n"
     ]
    }
   ],
   "source": [
    "from collections import Counter\n",
    "for part_idx, part in enumerate(train_dataset.parts):\n",
    "  notes = [note.pitch for measure in part.measures for note in measure] \n",
    "  counter = Counter(notes)\n",
    "  print(part_idx, counter)"
   ]
  },
  {
   "cell_type": "code",
   "execution_count": 20,
   "metadata": {},
   "outputs": [],
   "source": [
    "with open('part_measure_with_errors.txt', 'w') as file:\n",
    "  for item in part_measure_with_errors:\n",
    "    file.write(f\"파트: {item[0]}, 마디: {item[1]}\\n\")\n"
   ]
  },
  {
   "cell_type": "code",
   "execution_count": 19,
   "metadata": {},
   "outputs": [
    {
     "data": {
      "text/plain": [
       "23"
      ]
     },
     "execution_count": 19,
     "metadata": {},
     "output_type": "execute_result"
    }
   ],
   "source": [
    "len(part_measure_with_errors)"
   ]
  },
  {
   "cell_type": "code",
   "execution_count": 9,
   "metadata": {},
   "outputs": [
    {
     "data": {
      "text/plain": [
       "[[Gnote: 51.0, 4.0, 0.0, strong],\n",
       " [Gnote: 51.0, 4.0, 0.0, strong],\n",
       " [Gnote: 48.0, 4.0, 0.0, strong],\n",
       " [Gnote: 46.0, 2.5, 0.0, strong, Gnote: 48.0, 1.5, 2.5, strong],\n",
       " [Gnote: 53.0, 4.0, 0.0, strong],\n",
       " [Gnote: 53.0, 4.0, 0.0, strong],\n",
       " [Gnote: 53.0, 4.0, 0.0, strong],\n",
       " [Gnote: 53.0, 4.0, 0.0, strong],\n",
       " [Gnote: 51.0, 4.0, 0.0, strong],\n",
       " [Gnote: 51.0, 4.0, 0.0, strong],\n",
       " [Gnote: 53.0, 4.0, 0.0, strong],\n",
       " [Gnote: 53.0, 2.5, 0.0, strong, Gnote: 51.0, 1.5, 2.5, strong],\n",
       " [Gnote: 48.0, 4.0, 0.0, strong],\n",
       " [Gnote: 46.0, 2.5, 0.0, strong, Gnote: 44.0, 1.5, 2.5, strong],\n",
       " [Gnote: 46.0, 4.0, 0.0, strong],\n",
       " [Gnote: 48.0, 2.5, 0.0, strong, Gnote: 46.0, 1.5, 2.5, strong],\n",
       " [Gnote: 44.0, 4.0, 0.0, strong],\n",
       " [Gnote: 44.0, 2.5, 0.0, strong,\n",
       "  Gnote: 46.0, 1.0, 2.5, strong,\n",
       "  Gnote: 44.0, 0.5, 3.5, weak],\n",
       " [Gnote: 41.0, 4.0, 0.0, strong],\n",
       " [Gnote: 39.0, 2.5, 0.0, strong, Gnote: 41.0, 1.5, 2.5, strong],\n",
       " [Gnote: 44.0, 2.5, 0.0, strong, Gnote: 46.0, 1.5, 2.5, strong],\n",
       " [Gnote: 48.0, 4.0, 0.0, strong],\n",
       " [Gnote: 48.0, 4.0, 0.0, strong],\n",
       " [Gnote: 48.0, 4.0, 0.0, strong],\n",
       " [Gnote: 46.0, 4.0, 0.0, strong],\n",
       " [Gnote: 46.0, 4.0, 0.0, strong],\n",
       " [Gnote: 44.0, 4.0, 0.0, strong],\n",
       " [Gnote: 44.0, 4.0, 0.0, strong],\n",
       " [Gnote: 41.0, 4.0, 0.0, strong],\n",
       " [Gnote: 44.0, 2.5, 0.0, strong, Gnote: 41.0, 1.5, 2.5, strong],\n",
       " [Gnote: 39.0, 4.0, 0.0, strong],\n",
       " [Gnote: 39.0, 4.0, 0.0, strong],\n",
       " [Gnote: 51.0, 4.0, 0.0, strong],\n",
       " [Gnote: 51.0, 4.0, 0.0, strong],\n",
       " [Gnote: 53.0, 4.0, 0.0, strong],\n",
       " [Gnote: 53.0, 4.0, 0.0, strong],\n",
       " [Gnote: 56.0, 4.0, 0.0, strong],\n",
       " [Gnote: 53.0, 4.0, 0.0, strong],\n",
       " [Gnote: 53.0, 4.0, 0.0, strong],\n",
       " [Gnote: 53.0, 4.0, 0.0, strong],\n",
       " [Gnote: 51.0, 4.0, 0.0, strong],\n",
       " [Gnote: 51.0, 4.0, 0.0, strong],\n",
       " [Gnote: 53.0, 4.0, 0.0, strong],\n",
       " [Gnote: 53.0, 2.5, 0.0, strong, Gnote: 51.0, 1.5, 2.5, strong],\n",
       " [Gnote: 44.0, 4.0, 0.0, strong],\n",
       " [Gnote: 46.0, 4.0, 0.0, strong],\n",
       " [Gnote: 46.0, 4.0, 0.0, strong],\n",
       " [Gnote: 46.0, 4.0, 0.0, strong],\n",
       " [Gnote: 46.0, 4.0, 0.0, strong],\n",
       " [Gnote: 46.0, 4.0, 0.0, strong],\n",
       " [Gnote: 48.0, 4.0, 0.0, strong],\n",
       " [Gnote: 48.0, 4.0, 0.0, strong],\n",
       " [Gnote: 51.0, 4.0, 0.0, strong],\n",
       " [Gnote: 51.0, 2.5, 0.0, strong,\n",
       "  Gnote: 53.0, 1.0, 2.5, strong,\n",
       "  Gnote: 51.0, 0.5, 3.5, weak],\n",
       " [Gnote: 48.0, 4.0, 0.0, strong],\n",
       " [Gnote: 53.0, 2.5, 0.0, strong, Gnote: 51.0, 1.5, 2.5, strong],\n",
       " [Gnote: 46.0, 4.0, 0.0, strong],\n",
       " [Gnote: 46.0, 4.0, 0.0, strong],\n",
       " [Gnote: 48.0, 4.0, 0.0, strong],\n",
       " [Gnote: 48.0, 2.5, 0.0, strong, Gnote: 46.0, 1.5, 2.5, strong],\n",
       " [Gnote: 44.0, 4.0, 0.0, strong],\n",
       " [Gnote: 44.0, 4.0, 0.0, strong],\n",
       " [Gnote: 44.0, 4.0, 0.0, strong],\n",
       " [Gnote: 44.0, 4.0, 0.0, strong],\n",
       " [Gnote: 56.0, 4.0, 0.0, strong],\n",
       " [Gnote: 56.0, 4.0, 0.0, strong],\n",
       " [Gnote: 53.0, 4.0, 0.0, strong],\n",
       " [Gnote: 53.0, 4.0, 0.0, strong],\n",
       " [Gnote: 56.0, 4.0, 0.0, strong],\n",
       " [Gnote: 53.0, 4.0, 0.0, strong],\n",
       " [Gnote: 53.0, 4.0, 0.0, strong],\n",
       " [Gnote: 53.0, 4.0, 0.0, strong],\n",
       " [Gnote: 51.0, 4.0, 0.0, strong],\n",
       " [Gnote: 51.0, 4.0, 0.0, strong],\n",
       " [Gnote: 53.0, 2.5, 0.0, strong, Gnote: 56.0, 1.5, 2.5, strong],\n",
       " [Gnote: 53.0, 2.5, 0.0, strong, Gnote: 51.0, 1.5, 2.5, strong],\n",
       " [Gnote: 46.0, 4.0, 0.0, strong],\n",
       " [Gnote: 48.0, 4.0, 0.0, strong],\n",
       " [Gnote: 48.0, 4.0, 0.0, strong],\n",
       " [Gnote: 48.0, 4.0, 0.0, strong],\n",
       " [Gnote: 48.0, 4.0, 0.0, strong],\n",
       " [Gnote: 48.0, 4.0, 0.0, strong],\n",
       " [Gnote: 53.0, 4.0, 0.0, strong],\n",
       " [Gnote: 53.0, 4.0, 0.0, strong],\n",
       " [Gnote: 48.0, 4.0, 0.0, strong],\n",
       " [Gnote: 46.0, 2.5, 0.0, strong, Gnote: 44.0, 1.5, 2.5, strong],\n",
       " [Gnote: 46.0, 4.0, 0.0, strong],\n",
       " [Gnote: 48.0, 2.5, 0.0, strong, Gnote: 46.0, 1.5, 2.5, strong],\n",
       " [Gnote: 44.0, 4.0, 0.0, strong],\n",
       " [Gnote: 44.0, 4.0, 0.0, strong],\n",
       " [Gnote: 46.0, 4.0, 0.0, strong],\n",
       " [Gnote: 44.0, 4.0, 0.0, strong],\n",
       " [Gnote: 41.0, 4.0, 0.0, strong],\n",
       " [Gnote: 44.0, 2.5, 0.0, strong, Gnote: 41.0, 1.5, 2.5, strong],\n",
       " [Gnote: 39.0, 4.0, 0.0, strong],\n",
       " [Gnote: 39.0, 4.0, 0.0, strong],\n",
       " [Gnote: 53.0, 4.0, 0.0, strong],\n",
       " [Gnote: 53.0, 4.0, 0.0, strong],\n",
       " [Gnote: 48.0, 4.0, 0.0, strong],\n",
       " [Gnote: 48.0, 4.0, 0.0, strong],\n",
       " [Gnote: 51.0, 4.0, 0.0, strong],\n",
       " [Gnote: 53.0, 4.0, 0.0, strong],\n",
       " [Gnote: 53.0, 4.0, 0.0, strong],\n",
       " [Gnote: 53.0, 4.0, 0.0, strong],\n",
       " [Gnote: 46.0, 4.0, 0.0, strong],\n",
       " [Gnote: 46.0, 4.0, 0.0, strong],\n",
       " [Gnote: 44.0, 4.0, 0.0, strong],\n",
       " [Gnote: 44.0, 4.0, 0.0, strong],\n",
       " [Gnote: 44.0, 2.5, 0.0, strong, Gnote: 48.0, 1.5, 2.5, strong],\n",
       " [Gnote: 46.0, 2.5, 0.0, strong, Gnote: 44.0, 1.5, 2.5, strong],\n",
       " [Gnote: 46.0, 4.0, 0.0, strong],\n",
       " [Gnote: 46.0, 4.0, 0.0, strong],\n",
       " [Gnote: 48.0, 4.0, 0.0, strong],\n",
       " [Gnote: 48.0, 4.0, 0.0, strong],\n",
       " [Gnote: 46.0, 4.0, 0.0, strong],\n",
       " [Gnote: 48.0, 4.0, 0.0, strong],\n",
       " [Gnote: 51.0, 4.0, 0.0, strong],\n",
       " [Gnote: 51.0, 2.5, 0.0, strong,\n",
       "  Gnote: 53.0, 1.0, 2.5, strong,\n",
       "  Gnote: 51.0, 0.5, 3.5, weak],\n",
       " [Gnote: 48.0, 4.0, 0.0, strong],\n",
       " [Gnote: 53.0, 2.5, 0.0, strong, Gnote: 51.0, 1.5, 2.5, strong],\n",
       " [Gnote: 46.0, 4.0, 0.0, strong],\n",
       " [Gnote: 46.0, 4.0, 0.0, strong],\n",
       " [Gnote: 48.0, 4.0, 0.0, strong],\n",
       " [Gnote: 48.0, 2.5, 0.0, strong, Gnote: 46.0, 1.5, 2.5, strong],\n",
       " [Gnote: 44.0, 4.0, 0.0, strong],\n",
       " [Gnote: 44.0, 4.0, 0.0, strong],\n",
       " [Gnote: 44.0, 4.0, 0.0, strong],\n",
       " [Gnote: 44.0, 4.0, 0.0, strong],\n",
       " [Gnote: 53.0, 4.0, 0.0, strong],\n",
       " [Gnote: 53.0, 4.0, 0.0, strong],\n",
       " [Gnote: 56.0, 4.0, 0.0, strong],\n",
       " [Gnote: 53.0, 2.5, 0.0, strong, Gnote: 51.0, 1.5, 2.5, strong],\n",
       " [Gnote: 48.0, 4.0, 0.0, strong],\n",
       " [Gnote: 51.0, 4.0, 0.0, strong],\n",
       " [Gnote: 51.0, 4.0, 0.0, strong],\n",
       " [Gnote: 53.0, 2.5, 0.0, strong, Gnote: 51.0, 1.5, 2.5, strong],\n",
       " [Gnote: 48.0, 4.0, 0.0, strong],\n",
       " [Gnote: 48.0, 2.5, 0.0, strong, Gnote: 46.0, 1.5, 2.5, strong],\n",
       " [Gnote: 44.0, 2.5, 0.0, strong,\n",
       "  Gnote: 46.0, 1.0, 2.5, strong,\n",
       "  Gnote: 44.0, 0.5, 3.5, weak],\n",
       " [Gnote: 41.0, 4.0, 0.0, strong],\n",
       " [Gnote: 44.0, 4.0, 0.0, strong],\n",
       " [Gnote: 48.0, 4.0, 0.0, strong],\n",
       " [Gnote: 48.0, 4.0, 0.0, strong],\n",
       " [Gnote: 48.0, 4.0, 0.0, strong],\n",
       " [Gnote: 51.0, 4.0, 0.0, strong],\n",
       " [Gnote: 51.0, 4.0, 0.0, strong],\n",
       " [Gnote: 53.0, 4.0, 0.0, strong],\n",
       " [Gnote: 53.0, 2.5, 0.0, strong, Gnote: 51.0, 1.5, 2.5, strong],\n",
       " [Gnote: 48.0, 4.0, 0.0, strong],\n",
       " [Gnote: 46.0, 2.5, 0.0, strong, Gnote: 44.0, 1.5, 2.5, strong],\n",
       " [Gnote: 46.0, 4.0, 0.0, strong],\n",
       " [Gnote: 48.0, 2.5, 0.0, strong, Gnote: 46.0, 1.5, 2.5, strong],\n",
       " [Gnote: 44.0, 4.0, 0.0, strong],\n",
       " [Gnote: 44.0, 4.0, 0.0, strong],\n",
       " [Gnote: 46.0, 4.0, 0.0, strong],\n",
       " [Gnote: 44.0, 4.0, 0.0, strong],\n",
       " [Gnote: 41.0, 4.0, 0.0, strong],\n",
       " [Gnote: 44.0, 2.5, 0.0, strong, Gnote: 41.0, 1.5, 2.5, strong],\n",
       " [Gnote: 39.0, 4.0, 0.0, strong],\n",
       " [Gnote: 39.0, 4.0, 0.0, strong]]"
      ]
     },
     "execution_count": 9,
     "metadata": {},
     "output_type": "execute_result"
    }
   ],
   "source": [
    "train_dataset.parts[0].measures"
   ]
  }
 ],
 "metadata": {
  "kernelspec": {
   "display_name": "Python 3",
   "language": "python",
   "name": "python3"
  },
  "language_info": {
   "codemirror_mode": {
    "name": "ipython",
    "version": 3
   },
   "file_extension": ".py",
   "mimetype": "text/x-python",
   "name": "python",
   "nbconvert_exporter": "python",
   "pygments_lexer": "ipython3",
   "version": "3.8.10"
  }
 },
 "nbformat": 4,
 "nbformat_minor": 2
}
