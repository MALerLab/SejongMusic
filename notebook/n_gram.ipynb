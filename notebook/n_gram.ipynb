{
 "cells": [
  {
   "cell_type": "code",
   "execution_count": 10,
   "metadata": {},
   "outputs": [
    {
     "name": "stdout",
     "output_type": "stream",
     "text": [
      "/home/danbi/userdata/DANBI/gugakwon/Yeominrak\n",
      "The autoreload extension is already loaded. To reload it, use:\n",
      "  %reload_ext autoreload\n"
     ]
    }
   ],
   "source": [
    "%cd '/home/danbi/userdata/DANBI/gugakwon/Yeominrak'\n",
    "%load_ext autoreload\n",
    "%autoreload 2\n",
    "import torch\n",
    "import torch.nn as nn\n",
    "from torch.utils.data import DataLoader\n",
    "from music21 import converter, stream, note as m21_note \n",
    "from yeominrak_processing import Gnote, Part, Tokenizer\n",
    "import random as random\n",
    "from typing import List, Set, Dict, Tuple\n",
    "import music21 as m21\n",
    "from loss import nll_loss\n",
    "from torch.optim import Adam\n",
    "from decode import MidiDecoder\n",
    "from collections import Counter, defaultdict"
   ]
  },
  {
   "cell_type": "code",
   "execution_count": 2,
   "metadata": {},
   "outputs": [],
   "source": [
    "class BasicWork:\n",
    "    def __init__(self, xml_path='0_edited.musicxml') -> None:\n",
    "        self.xml_path = xml_path\n",
    "        self.score = converter.parse(xml_path)\n",
    "        self.parts = [Part(part, i) for i, part in enumerate(self.score.parts)]\n",
    "        self.tokenizer = Tokenizer(self.parts)\n",
    "        self.vocab = self.tokenizer.vocab\n",
    "        self.vocab_size_dict = self.tokenizer.vocab_size_dict\n",
    "        self.offset_list = [part_list.measure_duration for part_list in self.parts]\n",
    "        self.measure_offset_vocab = []\n",
    "        self.measure_features = [self.get_feature(i) for i in range(len(self.parts))]\n",
    "        max_len = max([len(part) for part in self.measure_features])\n",
    "        self.measure_features = [part + [[] for _ in range(max_len - len(part))] for part in self.measure_features]\n",
    "        self.part_templates = self._get_part_templates()\n",
    "        \n",
    "    def get_feature(self, part_idx):\n",
    "      part = self.parts[part_idx]\n",
    "      measure_set = []\n",
    "      for measure_idx, measure in enumerate(part.measures):\n",
    "          each_measure = []\n",
    "          for note in measure:\n",
    "              each_measure.append([part_idx, note.pitch, note.duration, note.measure_offset, note.dynamic])\n",
    "          if part_idx in [2,3,4,5,6,7] and sum([note[2] for note in each_measure]) < 10.0:\n",
    "              each_measure = []\n",
    "          measure_set.append(each_measure) \n",
    "      return measure_set      \n",
    "\n",
    "    def _get_part_templates(self):\n",
    "        whole_part_templates = []\n",
    "        for part in self.measure_features:\n",
    "            part_templates = []\n",
    "            for measure in part:\n",
    "                temp = [note[2] for note in measure]\n",
    "                part_templates.append(temp)\n",
    "            # part_templates = set(tuple(temp) for temp in part_templates)\n",
    "            whole_part_templates.append(part_templates)\n",
    "        return whole_part_templates\n"
   ]
  },
  {
   "cell_type": "code",
   "execution_count": 28,
   "metadata": {},
   "outputs": [],
   "source": [
    "class Bigram(BasicWork):\n",
    "  def __init__(self, part_idx, xml_path='0_edited.musicxml', window_size=2, sample_len=1000 ) -> None:\n",
    "    super().__init__(xml_path)\n",
    "    self.part_idx = part_idx\n",
    "    self.window_size = window_size\n",
    "    self.sample_len = sample_len\n",
    "    self.part_pitches = [note[1] for measure in self.measure_features[part_idx] for note in measure]\n",
    "    # self.part_pitches = self.get_pitches_per_part()\n",
    "    self.part_windowed_pitches = self.get_windowed_pitches()\n",
    "    self.pitch2idx = {k:i for i, k in enumerate(self.vocab['pitch'])}\n",
    "  def __len__(self):\n",
    "    return len(self.part_pitches)\n",
    "  \n",
    "  def get_windowed_pitches(self):\n",
    "    windowed_pitches = []\n",
    "    for i in range(len(self.part_pitches) - self.window_size):\n",
    "      windowed_pitches.append(tuple(self.part_pitches[i:i+self.window_size]))\n",
    "    return [('start', self.part_pitches[0])] + windowed_pitches + [(self.part_pitches[-1], 'end')]\n",
    "  \n",
    "  def __getitem__(self, idx):\n",
    "    pair_set = self.part_windowed_pitches[idx]\n",
    "    return pair_set\n",
    "    # return torch.LongTensor([self.pitch2idx[pair_set[0]]]), torch.LongTensor([self.pitch2idx[pair_set[1]]])\n",
    "  \n",
    "  \n",
    "bigram = Bigram(7)\n",
    "len(bigram)\n",
    "bigrams = [bigram[i] for i in range(len(bigram))]"
   ]
  },
  {
   "cell_type": "code",
   "execution_count": 32,
   "metadata": {},
   "outputs": [
    {
     "data": {
      "text/plain": [
       "(48.0, 46.0)"
      ]
     },
     "execution_count": 32,
     "metadata": {},
     "output_type": "execute_result"
    }
   ],
   "source": [
    "bigrams[8]"
   ]
  },
  {
   "cell_type": "code",
   "execution_count": 29,
   "metadata": {},
   "outputs": [],
   "source": [
    "bigram_counts = Counter(bigrams)\n",
    "unigram_counts = Counter(word for word, _ in bigrams)\n",
    "\n",
    "# 조건부 확률 계산\n",
    "bigram_model = defaultdict(dict)\n",
    "for (w1, w2), count in bigram_counts.items():\n",
    "    bigram_model[w1][w2] = count / unigram_counts[w1]\n"
   ]
  },
  {
   "cell_type": "code",
   "execution_count": 83,
   "metadata": {},
   "outputs": [
    {
     "data": {
      "text/plain": [
       "{51.0: 1.0}"
      ]
     },
     "execution_count": 83,
     "metadata": {},
     "output_type": "execute_result"
    }
   ],
   "source": [
    "bigram_model['start']"
   ]
  },
  {
   "cell_type": "code",
   "execution_count": 58,
   "metadata": {},
   "outputs": [
    {
     "data": {
      "text/plain": [
       "[51.0, 46.0, 48.0, 53.0, 39.0, 56.0, 58.0, 49.0]"
      ]
     },
     "execution_count": 58,
     "metadata": {},
     "output_type": "execute_result"
    }
   ],
   "source": [
    "[i for i in pitch_prob.keys()]"
   ]
  },
  {
   "cell_type": "code",
   "execution_count": 100,
   "metadata": {},
   "outputs": [],
   "source": [
    "def generate(bigram_model, max_len=20):\n",
    "  pitch = ['start']\n",
    "  whole_pitches = [pitch[0]]\n",
    "  for _ in range(max_length):\n",
    "    pitch_prob = bigram_model[pitch[0]]\n",
    "    pitch = random.choices([i for i in pitch_prob.keys()], weights=[i for i in pitch_prob.values()])\n",
    "    if pitch == 'end':\n",
    "      break\n",
    "    whole_pitches.append(pitch[0])\n",
    "    \n",
    "  return whole_pitches"
   ]
  },
  {
   "cell_type": "code",
   "execution_count": 106,
   "metadata": {},
   "outputs": [],
   "source": [
    "dataloader = DataLoader(bigram, batch_size=1, shuffle=False)"
   ]
  },
  {
   "cell_type": "code",
   "execution_count": 127,
   "metadata": {},
   "outputs": [
    {
     "data": {
      "image/png": "[encoded data removed]",
      "text/plain": [
       "<IPython.core.display.Image object>"
      ]
     },
     "metadata": {
      "image/png": {
       "height": 80,
       "width": 748
      }
     },
     "output_type": "display_data"
    }
   ],
   "source": [
    "decoder = MidiDecoder(dataloader)\n",
    "part_idx = 7\n",
    "template = bigram.part_templates[7]\n",
    "result = generate(bigram_model, max_len=20)[1:-1]\n",
    "random_tamplate = random.choice(template)\n",
    "set_result = [[part_idx, result[i], random_tamplate[i]] for i in range(len(random_tamplate))]\n",
    "decoder(set_result).show()"
   ]
  },
  {
   "cell_type": "code",
   "execution_count": 101,
   "metadata": {},
   "outputs": [
    {
     "data": {
      "text/plain": [
       "['start',\n",
       " 51.0,\n",
       " 48.0,\n",
       " 46.0,\n",
       " 44.0,\n",
       " 39.0,\n",
       " 53.0,\n",
       " 51.0,\n",
       " 39.0,\n",
       " 46.0,\n",
       " 48.0,\n",
       " 48.0,\n",
       " 48.0,\n",
       " 53.0,\n",
       " 53.0,\n",
       " 56.0,\n",
       " 53.0,\n",
       " 56.0,\n",
       " 53.0,\n",
       " 39.0,\n",
       " 53.0]"
      ]
     },
     "execution_count": 101,
     "metadata": {},
     "output_type": "execute_result"
    }
   ],
   "source": [
    "generate(bigram_model, max_len=20)"
   ]
  },
  {
   "cell_type": "code",
   "execution_count": 36,
   "metadata": {},
   "outputs": [
    {
     "data": {
      "text/plain": [
       "{51.0: 0.2517482517482518,\n",
       " 46.0: 0.08391608391608392,\n",
       " 48.0: 0.3881118881118881,\n",
       " 53.0: 0.15384615384615385,\n",
       " 39.0: 0.045454545454545456,\n",
       " 56.0: 0.04895104895104895,\n",
       " 58.0: 0.013986013986013986,\n",
       " 49.0: 0.013986013986013986}"
      ]
     },
     "execution_count": 36,
     "metadata": {},
     "output_type": "execute_result"
    }
   ],
   "source": [
    "bigram_model[51.0]"
   ]
  },
  {
   "cell_type": "code",
   "execution_count": 16,
   "metadata": {},
   "outputs": [
    {
     "data": {
      "text/plain": [
       "Counter({51.0: 286,\n",
       "         46.0: 298,\n",
       "         48.0: 222,\n",
       "         53.0: 196,\n",
       "         56.0: 144,\n",
       "         49.0: 9,\n",
       "         34.0: 7,\n",
       "         44.0: 148,\n",
       "         41.0: 65,\n",
       "         39.0: 97,\n",
       "         58.0: 39,\n",
       "         60.0: 11,\n",
       "         63.0: 7})"
      ]
     },
     "execution_count": 16,
     "metadata": {},
     "output_type": "execute_result"
    }
   ],
   "source": [
    "from collections import Counter\n",
    "Counter(bigram.part_pitches)"
   ]
  },
  {
   "cell_type": "code",
   "execution_count": 5,
   "metadata": {},
   "outputs": [],
   "source": [
    "\n",
    "class Generator(nn.Module):\n",
    "  def __init__(self, input_dim=1, hidden_size=16):\n",
    "    super().__init__()\n",
    "    self.emb = nn.Embedding(num_embeddings=17, embedding_dim=hidden_size//2)\n",
    "    self.layer1 = nn.Linear(in_features=hidden_size//2, out_features=hidden_size)\n",
    "    self.layer2 = nn.Linear(in_features=hidden_size, out_features=17)\n",
    "  def forward(self, x):\n",
    "    # x = x.transpose(0,1)\n",
    "    x = self.emb(x)\n",
    "    hidden = self.layer1(x)\n",
    "    hidden = torch.relu(hidden)\n",
    "    out = self.layer2(hidden)\n",
    "    return out.softmax(dim = -1)\n",
    "\n",
    "model = Generator()"
   ]
  },
  {
   "cell_type": "code",
   "execution_count": 6,
   "metadata": {},
   "outputs": [],
   "source": [
    "\n",
    "\n",
    "dataloader = DataLoader(bigram, batch_size=16, shuffle=True, drop_last=True)\n",
    "batch = next(iter(dataloader))\n",
    "optimizer = Adam(model.parameters(), lr=0.001)\n"
   ]
  },
  {
   "cell_type": "code",
   "execution_count": 8,
   "metadata": {},
   "outputs": [
    {
     "name": "stdout",
     "output_type": "stream",
     "text": [
      "epoch: 0, loss: 1.5717185735702515\n",
      "epoch: 25, loss: 1.5471525192260742\n",
      "epoch: 50, loss: 1.4083056449890137\n",
      "epoch: 75, loss: 1.8745546340942383\n",
      "epoch: 100, loss: 1.5264832973480225\n",
      "epoch: 125, loss: 1.6528211832046509\n",
      "epoch: 150, loss: 1.5180364847183228\n",
      "epoch: 175, loss: 1.5632874965667725\n"
     ]
    }
   ],
   "source": [
    "for epoch in range(200):\n",
    "  for batch in dataloader:\n",
    "    pred = model(batch[0])\n",
    "    loss = nll_loss(pred, batch[1].squeeze())\n",
    "    optimizer.zero_grad()\n",
    "    loss.backward()\n",
    "    optimizer.step()\n",
    "  if epoch % 25 == 0:  \n",
    "    print(f'epoch: {epoch}, loss: {loss}')"
   ]
  },
  {
   "cell_type": "code",
   "execution_count": 9,
   "metadata": {},
   "outputs": [],
   "source": [
    "def inference(model, start, end, max_len=20):\n",
    "  model.eval()\n",
    "  with torch.no_grad():\n",
    "    idx = start\n",
    "    result = []\n",
    "    for _ in range(max_len):\n",
    "      pred = model(torch.LongTensor([idx]))\n",
    "      idx = pred.multinomial(1).item()\n",
    "      result.append(idx)\n",
    "      if idx == end:\n",
    "        break\n",
    "  return result"
   ]
  },
  {
   "cell_type": "code",
   "execution_count": 10,
   "metadata": {},
   "outputs": [
    {
     "data": {
      "text/plain": [
       "[11, 10, 11, 10, 8, 6, 8, 7, 7, 7, 6, 5, 7, 6, 8, 11, 10, 11, 10, 8]"
      ]
     },
     "execution_count": 10,
     "metadata": {},
     "output_type": "execute_result"
    }
   ],
   "source": [
    "result = inference(model, 0, 16, max_len=20)\n",
    "result"
   ]
  },
  {
   "cell_type": "code",
   "execution_count": 11,
   "metadata": {},
   "outputs": [],
   "source": [
    "decoder = MidiDecoder(dataloader)"
   ]
  },
  {
   "cell_type": "code",
   "execution_count": 19,
   "metadata": {},
   "outputs": [
    {
     "data": {
      "image/png": "[encoded data removed]",
      "text/plain": [
       "<IPython.core.display.Image object>"
      ]
     },
     "metadata": {
      "image/png": {
       "height": 90,
       "width": 748
      }
     },
     "output_type": "display_data"
    }
   ],
   "source": [
    "part_idx = 7\n",
    "template = bigram.part_templates[7]\n",
    "result = inference(model, 0, 16, max_len=30)\n",
    "result = [bigram.vocab['pitch'][pitch] for pitch in result]\n",
    "random_tamplate = random.choice(template)\n",
    "set_result = [[part_idx, result[i], random_tamplate[i]] for i in range(len(random_tamplate))]\n",
    "decoder(set_result).show()"
   ]
  },
  {
   "cell_type": "code",
   "execution_count": 13,
   "metadata": {},
   "outputs": [
    {
     "name": "stdout",
     "output_type": "stream",
     "text": [
      "part_0 templates: 160\n",
      "part_1 templates: 160\n",
      "part_2 templates: 160\n",
      "part_3 templates: 160\n",
      "part_4 templates: 160\n",
      "part_5 templates: 160\n",
      "part_6 templates: 160\n",
      "part_7 templates: 160\n"
     ]
    }
   ],
   "source": [
    "# 각 tempate 별로 몇개의 종류가 있는지!\n",
    "dataset = BasicWork()\n",
    "for idx, data in enumerate(dataset.part_templates):\n",
    "  print(f'part_{idx} templates:', len(data))"
   ]
  }
 ],
 "metadata": {
  "kernelspec": {
   "display_name": "Python 3",
   "language": "python",
   "name": "python3"
  },
  "language_info": {
   "codemirror_mode": {
    "name": "ipython",
    "version": 3
   },
   "file_extension": ".py",
   "mimetype": "text/x-python",
   "name": "python",
   "nbconvert_exporter": "python",
   "pygments_lexer": "ipython3",
   "version": "3.8.10"
  }
 },
 "nbformat": 4,
 "nbformat_minor": 2
}
