{
 "cells": [
  {
   "cell_type": "code",
   "execution_count": 1,
   "metadata": {},
   "outputs": [
    {
     "name": "stdout",
     "output_type": "stream",
     "text": [
      "/home/danbi/userdata/DANBI/gugakwon/Yeominrak\n"
     ]
    }
   ],
   "source": [
    "%cd '/home/danbi/userdata/DANBI/gugakwon/Yeominrak'\n",
    "%load_ext autoreload\n",
    "%autoreload 2\n",
    "\n",
    "from pathlib import Path\n",
    "import music21\n",
    "from music21 import converter, stream, note as m21_note \n",
    "from typing import List, Set, Dict, Tuple\n",
    "import torch\n",
    "from collections import defaultdict, Counter\n",
    "import copy\n",
    "import numpy as np\n",
    "\n",
    "from yeominrak_processing import AlignedScore, SamplingScore, pack_collate, ShiftedAlignedScore\n",
    "from model import Seq2seq, Converter, AttentionSeq2seq, QkvAttnSeq2seq, get_emb_total_size\n",
    "import random as random\n",
    "from loss import nll_loss\n",
    "from trainer import Trainer\n",
    "from decode import MidiDecoder\n",
    "from torch.nn.utils.rnn import pack_sequence, PackedSequence, pad_packed_sequence, pack_padded_sequence\n",
    "import torch\n",
    "from torch.utils.data import Dataset, DataLoader\n",
    "from omegaconf import OmegaConf"
   ]
  },
  {
   "cell_type": "code",
   "execution_count": 2,
   "metadata": {},
   "outputs": [],
   "source": [
    "config = OmegaConf.load('yamls/baseline.yaml')\n",
    "config = get_emb_total_size(config)"
   ]
  },
  {
   "cell_type": "code",
   "execution_count": 3,
   "metadata": {},
   "outputs": [],
   "source": [
    "train_dataset = ShiftedAlignedScore(is_valid= False)\n",
    "val_dataset = ShiftedAlignedScore(is_valid= True)\n",
    "train_loader = DataLoader(train_dataset, batch_size=64 , shuffle=True, collate_fn=pack_collate)\n",
    "valid_loader = DataLoader(val_dataset, batch_size=1, shuffle=False, collate_fn=pack_collate, drop_last=True)"
   ]
  },
  {
   "cell_type": "code",
   "execution_count": 4,
   "metadata": {},
   "outputs": [],
   "source": [
    "batch = next(iter(valid_loader))"
   ]
  },
  {
   "cell_type": "code",
   "execution_count": 9,
   "metadata": {},
   "outputs": [],
   "source": [
    "device = 'cuda'\n",
    "model = QkvAttnSeq2seq(train_dataset.tokenizer, config.model).to(device)\n",
    "optimizer = torch.optim.Adam(model.parameters(), lr=1e-3)\n",
    "loss_fn = nll_loss\n",
    "trainer = Trainer(model, optimizer, loss_fn, train_loader, valid_loader, device, save_log=False)"
   ]
  },
  {
   "cell_type": "code",
   "execution_count": 10,
   "metadata": {},
   "outputs": [
    {
     "data": {
      "application/vnd.jupyter.widget-view+json": {
       "model_id": "8742299e61e44eb883365534426995ae",
       "version_major": 2,
       "version_minor": 0
      },
      "text/plain": [
       "  0%|          | 0/200 [00:00<?, ?it/s]"
      ]
     },
     "metadata": {},
     "output_type": "display_data"
    },
    {
     "name": "stdout",
     "output_type": "stream",
     "text": [
      "Best Model Saved! Accuracy: 0.09333726238488148\n",
      "Best Model Saved! Accuracy: 0.21208503733013537\n",
      "Best Model Saved! Accuracy: 0.2191807634734805\n",
      "Best Model Saved! Accuracy: 0.2696596781680815\n",
      "Best Model Saved! Accuracy: 0.28599883439519297\n",
      "Best Model Saved! Accuracy: 0.30444138624110606\n",
      "Best Model Saved! Accuracy: 0.32780290152839153\n",
      "Best Model Saved! Accuracy: 0.38325917106029145\n",
      "Best Model Saved! Accuracy: 0.39881466702194973\n",
      "Best Model Saved! Accuracy: 0.4007152441396136\n",
      "Best Model Saved! Accuracy: 0.4265686873039813\n",
      "Best Model Saved! Accuracy: 0.42914520483147917\n",
      "Best Model Saved! Accuracy: 0.4576601469388583\n",
      "Best Model Saved! Accuracy: 0.49509029589561815\n",
      "Best Model Saved! Accuracy: 0.5020316461212819\n",
      "Best Model Saved! Accuracy: 0.5159352331971381\n",
      "Best Model Saved! Accuracy: 0.5289929735167831\n",
      "Best Model Saved! Accuracy: 0.5364832433880053\n",
      "Best Model Saved! Accuracy: 0.5433158725805783\n",
      "Best Model Saved! Accuracy: 0.5501284821102748\n",
      "Best Model Saved! Accuracy: 0.5573365186530452\n",
      "Best Model Saved! Accuracy: 0.5613160050344924\n",
      "Best Model Saved! Accuracy: 0.5692207566787398\n",
      "Best Model Saved! Accuracy: 0.5724096556519527\n",
      "Best Model Saved! Accuracy: 0.5882361105540377\n",
      "Best Model Saved! Accuracy: 0.5937515915457093\n",
      "Best Model Saved! Accuracy: 0.5975608246406566\n",
      "Best Model Saved! Accuracy: 0.6063372510361308\n",
      "Best Model Saved! Accuracy: 0.6139254344576472\n",
      "Best Model Saved! Accuracy: 0.6199918307131193\n",
      "Best Model Saved! Accuracy: 0.6213778523582444\n",
      "Best Model Saved! Accuracy: 0.6215568752753625\n",
      "Best Model Saved! Accuracy: 0.6309814036984907\n",
      "Best Model Saved! Accuracy: 0.6406035384886924\n",
      "Best Model Saved! Accuracy: 0.641120061337148\n",
      "Best Model Saved! Accuracy: 0.6421853564010425\n",
      "Best Model Saved! Accuracy: 0.6516670275984\n",
      "Best Model Saved! Accuracy: 0.6635321442744411\n",
      "Best Model Saved! Accuracy: 0.6687166534575497\n",
      "Best Model Saved! Accuracy: 0.6724608304860403\n",
      "Best Model Saved! Accuracy: 0.6733474239216535\n",
      "Best Model Saved! Accuracy: 0.6743599916008878\n",
      "Best Model Saved! Accuracy: 0.6747970856304188\n",
      "Best Model Saved! Accuracy: 0.6766396983553845\n",
      "Best Model Saved! Accuracy: 0.6810331534841338\n",
      "Best Model Saved! Accuracy: 0.6818134599086978\n",
      "Best Model Saved! Accuracy: 0.6875730442397108\n",
      "Best Model Saved! Accuracy: 0.6900680186604554\n",
      "Best Model Saved! Accuracy: 0.6966759739378785\n",
      "Best Model Saved! Accuracy: 0.6971796524877757\n",
      "Best Model Saved! Accuracy: 0.7008554167587782\n",
      "Best Model Saved! Accuracy: 0.7020545674887413\n",
      "Best Model Saved! Accuracy: 0.7090279776764369\n",
      "Best Model Saved! Accuracy: 0.7131644144319214\n",
      "Best Model Saved! Accuracy: 0.7234370272325454\n",
      "Best Model Saved! Accuracy: 0.7253697047324497\n",
      "Best Model Saved! Accuracy: 0.7261685091026828\n",
      "Best Model Saved! Accuracy: 0.7344876414694342\n",
      "Best Model Saved! Accuracy: 0.7346870734825915\n"
     ]
    },
    {
     "data": {
      "text/plain": [
       "[tensor([[[1.0445e-05, 2.9580e-07, 4.5249e-06,  ..., 3.6224e-02,\n",
       "           3.6224e-02, 3.6224e-02],\n",
       "          [4.5399e-01, 2.8030e-01, 1.1517e-02,  ..., 5.2962e-02,\n",
       "           5.2962e-02, 5.2962e-02],\n",
       "          [3.8942e-01, 5.8511e-01, 3.9006e-02,  ..., 5.2578e-02,\n",
       "           5.2578e-02, 5.2578e-02],\n",
       "          ...,\n",
       "          [0.0000e+00, 0.0000e+00, 0.0000e+00,  ..., 0.0000e+00,\n",
       "           0.0000e+00, 0.0000e+00],\n",
       "          [0.0000e+00, 0.0000e+00, 0.0000e+00,  ..., 0.0000e+00,\n",
       "           0.0000e+00, 0.0000e+00],\n",
       "          [0.0000e+00, 0.0000e+00, 0.0000e+00,  ..., 0.0000e+00,\n",
       "           0.0000e+00, 0.0000e+00]],\n",
       " \n",
       "         [[3.4783e-03, 7.5710e-01, 3.8386e-03,  ..., 6.9320e-02,\n",
       "           6.9320e-02, 6.9320e-02],\n",
       "          [9.8989e-01, 1.0459e-01, 3.3059e-02,  ..., 9.5555e-02,\n",
       "           9.5555e-02, 9.5555e-02],\n",
       "          [5.3796e-03, 1.1850e-03, 3.7917e-01,  ..., 7.5495e-02,\n",
       "           7.5495e-02, 7.5495e-02],\n",
       "          ...,\n",
       "          [0.0000e+00, 0.0000e+00, 0.0000e+00,  ..., 0.0000e+00,\n",
       "           0.0000e+00, 0.0000e+00],\n",
       "          [0.0000e+00, 0.0000e+00, 0.0000e+00,  ..., 0.0000e+00,\n",
       "           0.0000e+00, 0.0000e+00],\n",
       "          [0.0000e+00, 0.0000e+00, 0.0000e+00,  ..., 0.0000e+00,\n",
       "           0.0000e+00, 0.0000e+00]],\n",
       " \n",
       "         [[8.4479e-04, 8.3414e-03, 4.1217e-04,  ..., 1.3658e-01,\n",
       "           1.3658e-01, 1.3658e-01],\n",
       "          [6.6575e-02, 7.2895e-03, 6.5429e-05,  ..., 2.3241e-01,\n",
       "           2.3241e-01, 2.3241e-01],\n",
       "          [5.3118e-01, 4.7737e-01, 8.4664e-03,  ..., 1.9081e-01,\n",
       "           1.9081e-01, 1.9081e-01],\n",
       "          ...,\n",
       "          [0.0000e+00, 0.0000e+00, 0.0000e+00,  ..., 0.0000e+00,\n",
       "           0.0000e+00, 0.0000e+00],\n",
       "          [0.0000e+00, 0.0000e+00, 0.0000e+00,  ..., 0.0000e+00,\n",
       "           0.0000e+00, 0.0000e+00],\n",
       "          [0.0000e+00, 0.0000e+00, 0.0000e+00,  ..., 0.0000e+00,\n",
       "           0.0000e+00, 0.0000e+00]],\n",
       " \n",
       "         ...,\n",
       " \n",
       "         [[6.9417e-03, 3.3510e-01, 9.9900e-01,  ..., 1.8953e-01,\n",
       "           1.8953e-01, 1.8953e-01],\n",
       "          [9.9195e-01, 6.6483e-01, 9.8880e-04,  ..., 2.6441e-01,\n",
       "           2.6441e-01, 2.6441e-01],\n",
       "          [1.0995e-03, 1.0900e-05, 1.1341e-05,  ..., 1.5575e-01,\n",
       "           1.5575e-01, 1.5575e-01],\n",
       "          ...,\n",
       "          [0.0000e+00, 0.0000e+00, 0.0000e+00,  ..., 0.0000e+00,\n",
       "           0.0000e+00, 0.0000e+00],\n",
       "          [0.0000e+00, 0.0000e+00, 0.0000e+00,  ..., 0.0000e+00,\n",
       "           0.0000e+00, 0.0000e+00],\n",
       "          [0.0000e+00, 0.0000e+00, 0.0000e+00,  ..., 0.0000e+00,\n",
       "           0.0000e+00, 0.0000e+00]],\n",
       " \n",
       "         [[9.3847e-04, 2.1913e-02, 3.1084e-05,  ..., 7.9983e-02,\n",
       "           7.9983e-02, 7.9983e-02],\n",
       "          [3.8725e-01, 9.7800e-01, 2.2075e-01,  ..., 1.3194e-01,\n",
       "           1.3194e-01, 1.3194e-01],\n",
       "          [3.6292e-01, 3.1652e-05, 7.6412e-01,  ..., 1.2727e-01,\n",
       "           1.2727e-01, 1.2727e-01],\n",
       "          ...,\n",
       "          [0.0000e+00, 0.0000e+00, 0.0000e+00,  ..., 0.0000e+00,\n",
       "           0.0000e+00, 0.0000e+00],\n",
       "          [0.0000e+00, 0.0000e+00, 0.0000e+00,  ..., 0.0000e+00,\n",
       "           0.0000e+00, 0.0000e+00],\n",
       "          [0.0000e+00, 0.0000e+00, 0.0000e+00,  ..., 0.0000e+00,\n",
       "           0.0000e+00, 0.0000e+00]],\n",
       " \n",
       "         [[9.5997e-05, 6.0086e-03, 1.5372e-03,  ..., 1.5030e-01,\n",
       "           1.5030e-01, 1.5030e-01],\n",
       "          [8.1304e-02, 8.8872e-01, 4.3773e-01,  ..., 2.3676e-01,\n",
       "           2.3676e-01, 2.3676e-01],\n",
       "          [8.9200e-01, 1.0505e-01, 5.4320e-01,  ..., 2.1244e-01,\n",
       "           2.1244e-01, 2.1244e-01],\n",
       "          ...,\n",
       "          [0.0000e+00, 0.0000e+00, 0.0000e+00,  ..., 0.0000e+00,\n",
       "           0.0000e+00, 0.0000e+00],\n",
       "          [0.0000e+00, 0.0000e+00, 0.0000e+00,  ..., 0.0000e+00,\n",
       "           0.0000e+00, 0.0000e+00],\n",
       "          [0.0000e+00, 0.0000e+00, 0.0000e+00,  ..., 0.0000e+00,\n",
       "           0.0000e+00, 0.0000e+00]]], device='cuda:0',\n",
       "        grad_fn=<SoftmaxBackward0>),\n",
       " tensor([[[1.8390e-05, 1.4744e-06, 9.2860e-05,  ..., 4.4564e-02,\n",
       "           4.4564e-02, 4.4564e-02],\n",
       "          [7.7574e-01, 1.3665e-01, 2.2067e-02,  ..., 5.9817e-02,\n",
       "           5.9817e-02, 5.9817e-02],\n",
       "          [1.7965e-01, 7.3786e-01, 2.5263e-02,  ..., 5.2831e-02,\n",
       "           5.2831e-02, 5.2831e-02],\n",
       "          ...,\n",
       "          [0.0000e+00, 0.0000e+00, 0.0000e+00,  ..., 0.0000e+00,\n",
       "           0.0000e+00, 0.0000e+00],\n",
       "          [0.0000e+00, 0.0000e+00, 0.0000e+00,  ..., 0.0000e+00,\n",
       "           0.0000e+00, 0.0000e+00],\n",
       "          [0.0000e+00, 0.0000e+00, 0.0000e+00,  ..., 0.0000e+00,\n",
       "           0.0000e+00, 0.0000e+00]],\n",
       " \n",
       "         [[1.8692e-01, 6.1993e-04, 1.3693e-04,  ..., 3.3432e-02,\n",
       "           3.3432e-02, 3.3432e-02],\n",
       "          [7.3148e-01, 3.6884e-03, 1.1673e-05,  ..., 2.9793e-02,\n",
       "           2.9793e-02, 2.9793e-02],\n",
       "          [3.9950e-03, 6.8090e-03, 4.1260e-03,  ..., 5.5615e-02,\n",
       "           5.5615e-02, 5.5615e-02],\n",
       "          ...,\n",
       "          [0.0000e+00, 0.0000e+00, 0.0000e+00,  ..., 0.0000e+00,\n",
       "           0.0000e+00, 0.0000e+00],\n",
       "          [0.0000e+00, 0.0000e+00, 0.0000e+00,  ..., 0.0000e+00,\n",
       "           0.0000e+00, 0.0000e+00],\n",
       "          [0.0000e+00, 0.0000e+00, 0.0000e+00,  ..., 0.0000e+00,\n",
       "           0.0000e+00, 0.0000e+00]],\n",
       " \n",
       "         [[1.6411e-01, 8.3533e-01, 2.0087e-03,  ..., 4.7039e-08,\n",
       "           1.8186e-09, 3.1156e-14],\n",
       "          [2.4449e-01, 7.8150e-02, 1.5499e-02,  ..., 2.5170e-09,\n",
       "           1.3380e-08, 2.7152e-14],\n",
       "          [9.9715e-02, 5.8216e-03, 9.8220e-01,  ..., 1.8207e-07,\n",
       "           5.0148e-07, 7.1537e-15],\n",
       "          ...,\n",
       "          [0.0000e+00, 0.0000e+00, 0.0000e+00,  ..., 0.0000e+00,\n",
       "           0.0000e+00, 0.0000e+00],\n",
       "          [0.0000e+00, 0.0000e+00, 0.0000e+00,  ..., 0.0000e+00,\n",
       "           0.0000e+00, 0.0000e+00],\n",
       "          [0.0000e+00, 0.0000e+00, 0.0000e+00,  ..., 0.0000e+00,\n",
       "           0.0000e+00, 0.0000e+00]],\n",
       " \n",
       "         ...,\n",
       " \n",
       "         [[2.9986e-04, 5.3545e-02, 4.9830e-02,  ..., 2.3422e-01,\n",
       "           2.3422e-01, 2.3422e-01],\n",
       "          [3.1015e-01, 6.4480e-01, 9.5662e-03,  ..., 1.6142e-01,\n",
       "           1.6142e-01, 1.6142e-01],\n",
       "          [6.8830e-01, 2.9993e-01, 2.3287e-03,  ..., 1.6010e-01,\n",
       "           1.6010e-01, 1.6010e-01],\n",
       "          ...,\n",
       "          [0.0000e+00, 0.0000e+00, 0.0000e+00,  ..., 0.0000e+00,\n",
       "           0.0000e+00, 0.0000e+00],\n",
       "          [0.0000e+00, 0.0000e+00, 0.0000e+00,  ..., 0.0000e+00,\n",
       "           0.0000e+00, 0.0000e+00],\n",
       "          [0.0000e+00, 0.0000e+00, 0.0000e+00,  ..., 0.0000e+00,\n",
       "           0.0000e+00, 0.0000e+00]],\n",
       " \n",
       "         [[6.2247e-06, 3.7515e-06, 4.0357e-03,  ..., 9.5273e-02,\n",
       "           9.5273e-02, 9.5273e-02],\n",
       "          [9.5701e-01, 9.5300e-01, 8.2927e-01,  ..., 1.3693e-01,\n",
       "           1.3693e-01, 1.3693e-01],\n",
       "          [2.7428e-02, 4.2688e-02, 1.6639e-01,  ..., 9.2286e-02,\n",
       "           9.2286e-02, 9.2286e-02],\n",
       "          ...,\n",
       "          [0.0000e+00, 0.0000e+00, 0.0000e+00,  ..., 0.0000e+00,\n",
       "           0.0000e+00, 0.0000e+00],\n",
       "          [0.0000e+00, 0.0000e+00, 0.0000e+00,  ..., 0.0000e+00,\n",
       "           0.0000e+00, 0.0000e+00],\n",
       "          [0.0000e+00, 0.0000e+00, 0.0000e+00,  ..., 0.0000e+00,\n",
       "           0.0000e+00, 0.0000e+00]],\n",
       " \n",
       "         [[5.9396e-06, 2.4952e-05, 2.1664e-03,  ..., 2.1422e-01,\n",
       "           2.1422e-01, 2.1422e-01],\n",
       "          [8.0625e-01, 8.8479e-01, 1.7033e-01,  ..., 2.1525e-01,\n",
       "           2.1525e-01, 2.1525e-01],\n",
       "          [1.8327e-01, 9.0976e-02, 7.7916e-01,  ..., 1.7769e-01,\n",
       "           1.7769e-01, 1.7769e-01],\n",
       "          ...,\n",
       "          [0.0000e+00, 0.0000e+00, 0.0000e+00,  ..., 0.0000e+00,\n",
       "           0.0000e+00, 0.0000e+00],\n",
       "          [0.0000e+00, 0.0000e+00, 0.0000e+00,  ..., 0.0000e+00,\n",
       "           0.0000e+00, 0.0000e+00],\n",
       "          [0.0000e+00, 0.0000e+00, 0.0000e+00,  ..., 0.0000e+00,\n",
       "           0.0000e+00, 0.0000e+00]]], device='cuda:0',\n",
       "        grad_fn=<SoftmaxBackward0>),\n",
       " tensor([[[4.3826e-02, 7.2910e-05, 3.1701e-05,  ..., 1.6664e-01,\n",
       "           1.6664e-01, 1.6664e-01],\n",
       "          [9.5360e-01, 9.5933e-01, 2.5478e-02,  ..., 7.6088e-02,\n",
       "           7.6088e-02, 7.6088e-02],\n",
       "          [1.8116e-03, 1.7950e-02, 8.4761e-01,  ..., 4.9845e-02,\n",
       "           4.9845e-02, 4.9845e-02],\n",
       "          ...,\n",
       "          [0.0000e+00, 0.0000e+00, 0.0000e+00,  ..., 0.0000e+00,\n",
       "           0.0000e+00, 0.0000e+00],\n",
       "          [0.0000e+00, 0.0000e+00, 0.0000e+00,  ..., 0.0000e+00,\n",
       "           0.0000e+00, 0.0000e+00],\n",
       "          [0.0000e+00, 0.0000e+00, 0.0000e+00,  ..., 0.0000e+00,\n",
       "           0.0000e+00, 0.0000e+00]],\n",
       " \n",
       "         [[4.1877e-06, 8.4524e-03, 2.3447e-04,  ..., 1.8736e-01,\n",
       "           1.8736e-01, 1.8736e-01],\n",
       "          [2.6998e-02, 9.8271e-01, 7.1632e-01,  ..., 2.9882e-01,\n",
       "           2.9882e-01, 2.9882e-01],\n",
       "          [9.6440e-01, 8.8335e-03, 2.8344e-01,  ..., 2.3142e-01,\n",
       "           2.3142e-01, 2.3142e-01],\n",
       "          ...,\n",
       "          [0.0000e+00, 0.0000e+00, 0.0000e+00,  ..., 0.0000e+00,\n",
       "           0.0000e+00, 0.0000e+00],\n",
       "          [0.0000e+00, 0.0000e+00, 0.0000e+00,  ..., 0.0000e+00,\n",
       "           0.0000e+00, 0.0000e+00],\n",
       "          [0.0000e+00, 0.0000e+00, 0.0000e+00,  ..., 0.0000e+00,\n",
       "           0.0000e+00, 0.0000e+00]],\n",
       " \n",
       "         [[1.8921e-03, 2.6112e-04, 1.9004e-03,  ..., 4.0588e-01,\n",
       "           4.0588e-01, 4.0588e-01],\n",
       "          [8.6487e-01, 3.4377e-01, 9.8804e-01,  ..., 1.5497e-01,\n",
       "           1.5497e-01, 1.5497e-01],\n",
       "          [1.2988e-01, 6.4690e-01, 8.4215e-03,  ..., 1.8827e-01,\n",
       "           1.8827e-01, 1.8827e-01],\n",
       "          ...,\n",
       "          [0.0000e+00, 0.0000e+00, 0.0000e+00,  ..., 0.0000e+00,\n",
       "           0.0000e+00, 0.0000e+00],\n",
       "          [0.0000e+00, 0.0000e+00, 0.0000e+00,  ..., 0.0000e+00,\n",
       "           0.0000e+00, 0.0000e+00],\n",
       "          [0.0000e+00, 0.0000e+00, 0.0000e+00,  ..., 0.0000e+00,\n",
       "           0.0000e+00, 0.0000e+00]],\n",
       " \n",
       "         ...,\n",
       " \n",
       "         [[1.0046e-03, 3.7035e-05, 2.6895e-01,  ..., 7.3439e-02,\n",
       "           7.3439e-02, 7.3439e-02],\n",
       "          [4.8039e-02, 7.9231e-01, 2.8323e-01,  ..., 1.1306e-01,\n",
       "           1.1306e-01, 1.1306e-01],\n",
       "          [3.8101e-02, 1.7936e-04, 4.4046e-01,  ..., 1.1873e-01,\n",
       "           1.1873e-01, 1.1873e-01],\n",
       "          ...,\n",
       "          [0.0000e+00, 0.0000e+00, 0.0000e+00,  ..., 0.0000e+00,\n",
       "           0.0000e+00, 0.0000e+00],\n",
       "          [0.0000e+00, 0.0000e+00, 0.0000e+00,  ..., 0.0000e+00,\n",
       "           0.0000e+00, 0.0000e+00],\n",
       "          [0.0000e+00, 0.0000e+00, 0.0000e+00,  ..., 0.0000e+00,\n",
       "           0.0000e+00, 0.0000e+00]],\n",
       " \n",
       "         [[1.1811e-05, 3.4327e-05, 5.4691e-05,  ..., 2.6413e-02,\n",
       "           2.6413e-02, 2.6413e-02],\n",
       "          [9.9783e-01, 9.9644e-01, 1.2528e-04,  ..., 3.1901e-02,\n",
       "           3.1901e-02, 3.1901e-02],\n",
       "          [1.6756e-04, 2.1862e-04, 9.8972e-01,  ..., 4.3282e-02,\n",
       "           4.3282e-02, 4.3282e-02],\n",
       "          ...,\n",
       "          [0.0000e+00, 0.0000e+00, 0.0000e+00,  ..., 0.0000e+00,\n",
       "           0.0000e+00, 0.0000e+00],\n",
       "          [0.0000e+00, 0.0000e+00, 0.0000e+00,  ..., 0.0000e+00,\n",
       "           0.0000e+00, 0.0000e+00],\n",
       "          [0.0000e+00, 0.0000e+00, 0.0000e+00,  ..., 0.0000e+00,\n",
       "           0.0000e+00, 0.0000e+00]],\n",
       " \n",
       "         [[1.4117e-03, 3.3865e-06, 2.3164e-03,  ..., 2.3380e-01,\n",
       "           2.3380e-01, 2.3380e-01],\n",
       "          [9.7115e-01, 9.9269e-01, 8.9798e-01,  ..., 2.5991e-01,\n",
       "           2.5991e-01, 2.5991e-01],\n",
       "          [1.9827e-02, 6.9876e-03, 6.8563e-02,  ..., 1.9589e-01,\n",
       "           1.9589e-01, 1.9589e-01],\n",
       "          ...,\n",
       "          [0.0000e+00, 0.0000e+00, 0.0000e+00,  ..., 0.0000e+00,\n",
       "           0.0000e+00, 0.0000e+00],\n",
       "          [0.0000e+00, 0.0000e+00, 0.0000e+00,  ..., 0.0000e+00,\n",
       "           0.0000e+00, 0.0000e+00],\n",
       "          [0.0000e+00, 0.0000e+00, 0.0000e+00,  ..., 0.0000e+00,\n",
       "           0.0000e+00, 0.0000e+00]]], device='cuda:0',\n",
       "        grad_fn=<SoftmaxBackward0>)]"
      ]
     },
     "execution_count": 10,
     "metadata": {},
     "output_type": "execute_result"
    }
   ],
   "source": [
    "trainer.train_by_num_epoch(200)"
   ]
  },
  {
   "cell_type": "code",
   "execution_count": 35,
   "metadata": {},
   "outputs": [
    {
     "name": "stdout",
     "output_type": "stream",
     "text": [
      "tensor(5)\n",
      "tensor([[ 5,  1,  1,  1,  1,  1],\n",
      "        [ 5, 10,  9,  3,  3,  3],\n",
      "        [ 5,  8,  6,  7,  5,  3],\n",
      "        [ 5,  7, 11, 11,  4,  3],\n",
      "        [ 5,  7,  9, 22,  3,  3],\n",
      "        [ 5,  8,  6, 29,  4,  3],\n",
      "        [ 5, 11,  6, 32,  5,  3],\n",
      "        [ 5, 10,  9,  3,  3,  4],\n",
      "        [ 5,  4,  6,  7,  5,  4],\n",
      "        [ 5, 10, 11, 11,  4,  4],\n",
      "        [ 5, 10,  6, 22,  3,  4],\n",
      "        [ 5, 13,  6, 25,  5,  4],\n",
      "        [ 5, 11,  6, 29,  4,  4],\n",
      "        [ 5, 13,  6, 32,  5,  4],\n",
      "        [ 5,  2,  2,  2,  2,  2]])\n"
     ]
    }
   ],
   "source": [
    "print(sample[0][0])\n",
    "input_part_idx = sample[0][0]\n",
    "src, output, attn_map = model.shifted_inference(sample, input_part_idx+1)"
   ]
  },
  {
   "cell_type": "code",
   "execution_count": 10,
   "metadata": {},
   "outputs": [
    {
     "data": {
      "text/plain": [
       "<All keys matched successfully>"
      ]
     },
     "execution_count": 10,
     "metadata": {},
     "output_type": "execute_result"
    }
   ],
   "source": [
    "state = torch.load('best_model.pt')\n",
    "model.load_state_dict(state)"
   ]
  },
  {
   "cell_type": "code",
   "execution_count": null,
   "metadata": {},
   "outputs": [],
   "source": [
    "len(attn_map)"
   ]
  },
  {
   "cell_type": "code",
   "execution_count": 493,
   "metadata": {},
   "outputs": [
    {
     "ename": "NameError",
     "evalue": "name 'attn_map' is not defined",
     "output_type": "error",
     "traceback": [
      "\u001b[0;31m---------------------------------------------------------------------------\u001b[0m",
      "\u001b[0;31mNameError\u001b[0m                                 Traceback (most recent call last)",
      "\u001b[1;32m/home/danbi/userdata/DANBI/gugakwon/Yeominrak/notebook/data_processing.ipynb 셀 9\u001b[0m line \u001b[0;36m<module>\u001b[0;34m\u001b[0m\n\u001b[1;32m      <a href='vscode-notebook-cell://ssh-remote%2B163.239.103.19/home/danbi/userdata/DANBI/gugakwon/Yeominrak/notebook/data_processing.ipynb#X21sdnNjb2RlLXJlbW90ZQ%3D%3D?line=0'>1</a>\u001b[0m \u001b[39mimport\u001b[39;00m \u001b[39mmatplotlib\u001b[39;00m\u001b[39m.\u001b[39;00m\u001b[39mpyplot\u001b[39;00m \u001b[39mas\u001b[39;00m \u001b[39mplt\u001b[39;00m\n\u001b[0;32m----> <a href='vscode-notebook-cell://ssh-remote%2B163.239.103.19/home/danbi/userdata/DANBI/gugakwon/Yeominrak/notebook/data_processing.ipynb#X21sdnNjb2RlLXJlbW90ZQ%3D%3D?line=2'>3</a>\u001b[0m plt\u001b[39m.\u001b[39mimshow(attn_map[\u001b[39m0\u001b[39m][\u001b[39m5\u001b[39m]\u001b[39m.\u001b[39mdetach()\u001b[39m.\u001b[39mcpu()\u001b[39m.\u001b[39mnumpy())\n",
      "\u001b[0;31mNameError\u001b[0m: name 'attn_map' is not defined"
     ]
    }
   ],
   "source": [
    "import matplotlib.pyplot as plt\n",
    "\n",
    "plt.imshow(attn_map[0][5].detach().cpu().numpy())"
   ]
  },
  {
   "cell_type": "code",
   "execution_count": 12,
   "metadata": {},
   "outputs": [
    {
     "data": {
      "text/plain": [
       "[<matplotlib.lines.Line2D at 0x7f4f1e695880>]"
      ]
     },
     "execution_count": 12,
     "metadata": {},
     "output_type": "execute_result"
    },
    {
     "data": {
      "image/png": "[encoded data removed]",
      "text/plain": [
       "<Figure size 432x288 with 2 Axes>"
      ]
     },
     "metadata": {
      "image/png": {
       "height": 248,
       "width": 372
      },
      "needs_background": "light"
     },
     "output_type": "display_data"
    }
   ],
   "source": [
    "from matplotlib import pyplot as plt\n",
    "\n",
    "plt.subplot(2,1,1)\n",
    "plt.plot(trainer.training_loss)\n",
    "plt.subplot(2,1,2)\n",
    "plt.plot(trainer.validation_loss)"
   ]
  },
  {
   "cell_type": "code",
   "execution_count": 12,
   "metadata": {},
   "outputs": [
    {
     "data": {
      "text/plain": [
       "[<matplotlib.lines.Line2D at 0x7f6da4711490>]"
      ]
     },
     "execution_count": 12,
     "metadata": {},
     "output_type": "execute_result"
    },
    {
     "data": {
      "image/png": "[encoded data removed]",
      "text/plain": [
       "<Figure size 432x288 with 1 Axes>"
      ]
     },
     "metadata": {
      "image/png": {
       "height": 248,
       "width": 372
      },
      "needs_background": "light"
     },
     "output_type": "display_data"
    }
   ],
   "source": [
    "plt.plot(trainer.validation_acc)"
   ]
  },
  {
   "cell_type": "markdown",
   "metadata": {},
   "source": [
    "## Inference"
   ]
  },
  {
   "cell_type": "code",
   "execution_count": 5,
   "metadata": {},
   "outputs": [
    {
     "data": {
      "text/plain": [
       "[0, 7, 14, 21, 28, 35, 42, 49, 56]"
      ]
     },
     "execution_count": 5,
     "metadata": {},
     "output_type": "execute_result"
    }
   ],
   "source": [
    "selected_idx_list = [i for i in range(63)][0::7]\n",
    "selected_idx_list"
   ]
  },
  {
   "cell_type": "code",
   "execution_count": 6,
   "metadata": {},
   "outputs": [
    {
     "data": {
      "text/plain": [
       "defaultdict(list,\n",
       "            {0: [0, 1, 2, 3, 4, 5, 6, 7, 8, 9, 10, 11, 12, 13],\n",
       "             1: [14, 15, 16, 17, 18, 19, 20, 21, 22, 23, 24, 25, 26, 27],\n",
       "             2: [28, 29, 30, 31, 32, 33, 34],\n",
       "             3: [35, 36, 37, 38, 39, 40, 41],\n",
       "             5: [42, 43, 44, 45, 46, 47, 48, 49, 50, 51, 52, 53, 54, 55],\n",
       "             6: [56, 57, 58, 59, 60, 61, 62]})"
      ]
     },
     "execution_count": 6,
     "metadata": {},
     "output_type": "execute_result"
    }
   ],
   "source": [
    "valid_loader = DataLoader(val_dataset, batch_size=len(val_dataset), shuffle=False, collate_fn=pack_collate)\n",
    "model.to('cpu')\n",
    "val_part_idx_info = defaultdict(list)\n",
    "for i, val in enumerate(val_dataset):\n",
    "    val_part_idx_info[int(val[0][0][0])].append(i)\n",
    "val_part_idx_info"
   ]
  },
  {
   "cell_type": "code",
   "execution_count": 7,
   "metadata": {},
   "outputs": [
    {
     "data": {
      "text/plain": [
       "63"
      ]
     },
     "execution_count": 7,
     "metadata": {},
     "output_type": "execute_result"
    }
   ],
   "source": [
    "len(valid_loader.dataset)"
   ]
  },
  {
   "cell_type": "code",
   "execution_count": 37,
   "metadata": {},
   "outputs": [
    {
     "name": "stdout",
     "output_type": "stream",
     "text": [
      "tensor([[ 5,  1,  1,  1,  1,  1],\n",
      "        [ 5, 10,  9,  3,  3,  3],\n",
      "        [ 5,  8,  6,  7,  5,  3],\n",
      "        [ 5,  7, 11, 11,  4,  3],\n",
      "        [ 5,  7,  9, 22,  3,  3],\n",
      "        [ 5,  8,  6, 29,  4,  3],\n",
      "        [ 5, 11,  6, 32,  5,  3],\n",
      "        [ 5, 10,  9,  3,  3,  4],\n",
      "        [ 5,  4,  6,  7,  5,  4],\n",
      "        [ 5, 10, 11, 11,  4,  4],\n",
      "        [ 5, 10,  6, 22,  3,  4],\n",
      "        [ 5, 13,  6, 25,  5,  4],\n",
      "        [ 5, 11,  6, 29,  4,  4],\n",
      "        [ 5, 13,  6, 32,  5,  4],\n",
      "        [ 5,  2,  2,  2,  2,  2]])\n"
     ]
    },
    {
     "data": {
      "text/plain": [
       "PosixPath('/home/danbi/userdata/DANBI/gugakwon/Yeominrak/source_and_output-1.png')"
      ]
     },
     "execution_count": 37,
     "metadata": {},
     "output_type": "execute_result"
    }
   ],
   "source": [
    "import matplotlib.pyplot as plt\n",
    "valid_dataset_idx = 0\n",
    "output_part_idx = 1\n",
    "\n",
    "sample = valid_loader.dataset[valid_dataset_idx][0]\n",
    "# src, output, attention_map = model.inference(sample, output_part_idx)\n",
    "src, output, attention_map = model.shifted_inference(sample, output_part_idx)\n",
    "\n",
    "decoder = MidiDecoder(valid_loader)\n",
    "src_midi = decoder(src)\n",
    "output_midi = decoder(output)\n",
    "\n",
    "merged_midi = stream.Stream()\n",
    "for element in src_midi:\n",
    "    merged_midi.append(element)\n",
    "for element in output_midi:\n",
    "    merged_midi.append(element)\n",
    "\n",
    "merged_midi.write('musicxml.png', \"source_and_output.png\")\n",
    "\n",
    "# output_midi.show()\n"
   ]
  },
  {
   "cell_type": "code",
   "execution_count": 18,
   "metadata": {},
   "outputs": [
    {
     "data": {
      "text/plain": [
       "tensor([[ 0,  1,  1,  1,  1,  1],\n",
       "        [ 0,  6, 10,  3,  3,  3],\n",
       "        [ 0,  5,  7,  9,  3,  3],\n",
       "        [ 0,  4, 12,  3,  3,  4],\n",
       "        [ 0,  2,  2,  2,  2,  2]])"
      ]
     },
     "execution_count": 18,
     "metadata": {},
     "output_type": "execute_result"
    }
   ],
   "source": [
    "\n",
    "sample"
   ]
  },
  {
   "cell_type": "code",
   "execution_count": 56,
   "metadata": {},
   "outputs": [
    {
     "ename": "KeyError",
     "evalue": "6",
     "output_type": "error",
     "traceback": [
      "\u001b[0;31m---------------------------------------------------------------------------\u001b[0m",
      "\u001b[0;31mKeyError\u001b[0m                                  Traceback (most recent call last)",
      "\u001b[1;32m/home/danbi/userdata/DANBI/gugakwon/Yeominrak/notebook/data_processing.ipynb 셀 21\u001b[0m line \u001b[0;36m<module>\u001b[0;34m\u001b[0m\n\u001b[0;32m----> <a href='vscode-notebook-cell://ssh-remote%2B163.239.103.19/home/danbi/userdata/DANBI/gugakwon/Yeominrak/notebook/data_processing.ipynb#Y100sdnNjb2RlLXJlbW90ZQ%3D%3D?line=0'>1</a>\u001b[0m output \u001b[39m=\u001b[39m [val_dataset\u001b[39m.\u001b[39mtokenizer(note) \u001b[39mfor\u001b[39;00m note \u001b[39min\u001b[39;00m output]\n",
      "\u001b[1;32m/home/danbi/userdata/DANBI/gugakwon/Yeominrak/notebook/data_processing.ipynb 셀 21\u001b[0m line \u001b[0;36m<listcomp>\u001b[0;34m(.0)\u001b[0m\n\u001b[0;32m----> <a href='vscode-notebook-cell://ssh-remote%2B163.239.103.19/home/danbi/userdata/DANBI/gugakwon/Yeominrak/notebook/data_processing.ipynb#Y100sdnNjb2RlLXJlbW90ZQ%3D%3D?line=0'>1</a>\u001b[0m output \u001b[39m=\u001b[39m [val_dataset\u001b[39m.\u001b[39;49mtokenizer(note) \u001b[39mfor\u001b[39;00m note \u001b[39min\u001b[39;00m output]\n",
      "File \u001b[0;32m~/userdata/DANBI/gugakwon/Yeominrak/yeominrak_processing.py:220\u001b[0m, in \u001b[0;36mTokenizer.__call__\u001b[0;34m(self, note_feature)\u001b[0m\n\u001b[1;32m    218\u001b[0m \u001b[39mdef\u001b[39;00m \u001b[39m__call__\u001b[39m(\u001b[39mself\u001b[39m, note_feature:\u001b[39mlist\u001b[39m):\n\u001b[1;32m    219\u001b[0m     \u001b[39m# key_types = ['index', 'pitch', 'duration', 'offset', 'dynamic']\u001b[39;00m\n\u001b[0;32m--> 220\u001b[0m     converted_lists \u001b[39m=\u001b[39m [\u001b[39mself\u001b[39m\u001b[39m.\u001b[39mtok2idx[\u001b[39mself\u001b[39m\u001b[39m.\u001b[39mkey_types[i]][element] \u001b[39mfor\u001b[39;00m i, element \u001b[39min\u001b[39;00m \u001b[39menumerate\u001b[39m(note_feature)]\n\u001b[1;32m    221\u001b[0m     \u001b[39m# key_types = ['index', 'pitch', 'duration', 'offset', 'dynamic']\u001b[39;00m\n\u001b[1;32m    222\u001b[0m     \u001b[39m# converted_lists = [self.tok2idx[self.key_types[i]][element] for i, element in enumerate(note_feature)]\u001b[39;00m\n\u001b[1;32m    224\u001b[0m     \u001b[39mreturn\u001b[39;00m converted_lists\n",
      "File \u001b[0;32m~/userdata/DANBI/gugakwon/Yeominrak/yeominrak_processing.py:220\u001b[0m, in \u001b[0;36m<listcomp>\u001b[0;34m(.0)\u001b[0m\n\u001b[1;32m    218\u001b[0m \u001b[39mdef\u001b[39;00m \u001b[39m__call__\u001b[39m(\u001b[39mself\u001b[39m, note_feature:\u001b[39mlist\u001b[39m):\n\u001b[1;32m    219\u001b[0m     \u001b[39m# key_types = ['index', 'pitch', 'duration', 'offset', 'dynamic']\u001b[39;00m\n\u001b[0;32m--> 220\u001b[0m     converted_lists \u001b[39m=\u001b[39m [\u001b[39mself\u001b[39;49m\u001b[39m.\u001b[39;49mtok2idx[\u001b[39mself\u001b[39;49m\u001b[39m.\u001b[39;49mkey_types[i]][element] \u001b[39mfor\u001b[39;00m i, element \u001b[39min\u001b[39;00m \u001b[39menumerate\u001b[39m(note_feature)]\n\u001b[1;32m    221\u001b[0m     \u001b[39m# key_types = ['index', 'pitch', 'duration', 'offset', 'dynamic']\u001b[39;00m\n\u001b[1;32m    222\u001b[0m     \u001b[39m# converted_lists = [self.tok2idx[self.key_types[i]][element] for i, element in enumerate(note_feature)]\u001b[39;00m\n\u001b[1;32m    224\u001b[0m     \u001b[39mreturn\u001b[39;00m converted_lists\n",
      "\u001b[0;31mKeyError\u001b[0m: 6"
     ]
    }
   ],
   "source": [
    "\n",
    "output = [val_dataset.tokenizer(note) for note in output]\n",
    "\n"
   ]
  },
  {
   "cell_type": "code",
   "execution_count": 32,
   "metadata": {},
   "outputs": [
    {
     "data": {
      "text/plain": [
       "[[1, 6, 9, 7, 5],\n",
       " [1, 4, 6, 11, 4],\n",
       " [1, 6, 9, 19, 3],\n",
       " [1, 9, 6, 22, 5],\n",
       " [1, 6, 6, 25, 5],\n",
       " [1, 5, 6, 3, 3],\n",
       " [1, 6, 13, 19, 3],\n",
       " [1, 10, 11, 3, 3],\n",
       " [1, 11, 13, 19, 3],\n",
       " [1, 11, 11, 3, 3],\n",
       " [1, 13, 9, 7, 5],\n",
       " [1, 13, 6, 11, 4],\n",
       " [1, 14, 9, 19, 3],\n",
       " [1, 14, 9, 25, 5],\n",
       " [1, 5, 6, 3, 3],\n",
       " [1, 11, 13, 19, 3],\n",
       " [1, 13, 11, 3, 3],\n",
       " [1, 11, 9, 7, 5],\n",
       " [1, 13, 6, 11, 4],\n",
       " [1, 14, 9, 19, 3],\n",
       " [1, 13, 6, 22, 5],\n",
       " [1, 14, 6, 25, 5],\n",
       " [1, 13, 6, 3, 3]]"
      ]
     },
     "execution_count": 32,
     "metadata": {},
     "output_type": "execute_result"
    }
   ],
   "source": [
    "output"
   ]
  },
  {
   "cell_type": "code",
   "execution_count": 63,
   "metadata": {},
   "outputs": [
    {
     "name": "stdout",
     "output_type": "stream",
     "text": [
      "0\n",
      "tensor([[ 1,  6,  9,  7,  5],\n",
      "        [ 1,  5,  6, 11,  4],\n",
      "        [ 1,  6,  9, 19,  3],\n",
      "        [ 1,  5,  9, 25,  5],\n",
      "        [ 1,  6,  6,  3,  3],\n",
      "        [ 1,  5, 13, 19,  3],\n",
      "        [ 1,  5, 11,  3,  3],\n",
      "        [ 1,  7,  9,  7,  5],\n",
      "        [ 1,  6,  6, 11,  4],\n",
      "        [ 1,  5,  9, 19,  3],\n",
      "        [ 1,  6,  6, 22,  5],\n",
      "        [ 1,  6,  6, 25,  5],\n",
      "        [ 1,  5,  6,  3,  3],\n",
      "        [ 1, 11,  9,  7,  5],\n",
      "        [ 1, 13,  6, 11,  4],\n",
      "        [ 1, 10, 11, 22,  5],\n",
      "        [ 1,  5,  9,  3,  3],\n",
      "        [ 1, 11,  6,  5,  5],\n",
      "        [ 1, 10,  6,  7,  5],\n",
      "        [ 1,  4,  6, 11,  4],\n",
      "        [ 1, 14,  9, 19,  3],\n",
      "        [ 1, 13,  6, 22,  5],\n",
      "        [ 1, 11,  6, 25,  5],\n",
      "        [ 1, 10,  6,  3,  3]])\n"
     ]
    },
    {
     "ename": "IndexError",
     "evalue": "index 5 is out of bounds for dimension 1 with size 5",
     "output_type": "error",
     "traceback": [
      "\u001b[0;31m---------------------------------------------------------------------------\u001b[0m",
      "\u001b[0;31mIndexError\u001b[0m                                Traceback (most recent call last)",
      "\u001b[1;32m/home/danbi/userdata/DANBI/gugakwon/Yeominrak/notebook/data_processing.ipynb 셀 23\u001b[0m line \u001b[0;36m<module>\u001b[0;34m\u001b[0m\n\u001b[1;32m      <a href='vscode-notebook-cell://ssh-remote%2B163.239.103.19/home/danbi/userdata/DANBI/gugakwon/Yeominrak/notebook/data_processing.ipynb#X31sdnNjb2RlLXJlbW90ZQ%3D%3D?line=4'>5</a>\u001b[0m sample \u001b[39m=\u001b[39m valid_loader\u001b[39m.\u001b[39mdataset[valid_dataset_idx][\u001b[39m0\u001b[39m]\n\u001b[1;32m      <a href='vscode-notebook-cell://ssh-remote%2B163.239.103.19/home/danbi/userdata/DANBI/gugakwon/Yeominrak/notebook/data_processing.ipynb#X31sdnNjb2RlLXJlbW90ZQ%3D%3D?line=6'>7</a>\u001b[0m \u001b[39mfor\u001b[39;00m i \u001b[39min\u001b[39;00m \u001b[39mrange\u001b[39m(\u001b[39m7\u001b[39m):    \n\u001b[0;32m----> <a href='vscode-notebook-cell://ssh-remote%2B163.239.103.19/home/danbi/userdata/DANBI/gugakwon/Yeominrak/notebook/data_processing.ipynb#X31sdnNjb2RlLXJlbW90ZQ%3D%3D?line=7'>8</a>\u001b[0m   src, output, attention_map \u001b[39m=\u001b[39m model\u001b[39m.\u001b[39;49mshifted_inference(sample, output_part_idx)\n\u001b[1;32m      <a href='vscode-notebook-cell://ssh-remote%2B163.239.103.19/home/danbi/userdata/DANBI/gugakwon/Yeominrak/notebook/data_processing.ipynb#X31sdnNjb2RlLXJlbW90ZQ%3D%3D?line=8'>9</a>\u001b[0m   \u001b[39mif\u001b[39;00m i \u001b[39m==\u001b[39m \u001b[39m0\u001b[39m:\n\u001b[1;32m     <a href='vscode-notebook-cell://ssh-remote%2B163.239.103.19/home/danbi/userdata/DANBI/gugakwon/Yeominrak/notebook/data_processing.ipynb#X31sdnNjb2RlLXJlbW90ZQ%3D%3D?line=9'>10</a>\u001b[0m     src_midi \u001b[39m=\u001b[39m decoder(src)\n",
      "File \u001b[0;32m~/userdata/DANBI/gugakwon/Yeominrak/model.py:585\u001b[0m, in \u001b[0;36mQkvAttnSeq2seq.shifted_inference\u001b[0;34m(self, src, part_idx)\u001b[0m\n\u001b[1;32m    579\u001b[0m \u001b[39mdef\u001b[39;00m \u001b[39mshifted_inference\u001b[39m(\u001b[39mself\u001b[39m, src, part_idx):\n\u001b[1;32m    580\u001b[0m   \u001b[39mwith\u001b[39;00m torch\u001b[39m.\u001b[39minference_mode():\n\u001b[1;32m    581\u001b[0m     \u001b[39m# print(src)\u001b[39;00m\n\u001b[1;32m    582\u001b[0m     \u001b[39m# enc_emb = self.encoder._get_embedding(src)\u001b[39;00m\n\u001b[1;32m    583\u001b[0m     \u001b[39m# enc_emb = enc_emb.unsqueeze(0)\u001b[39;00m\n\u001b[1;32m    584\u001b[0m     \u001b[39m# encode_out, encode_last_hidden = self.encoder.rnn(enc_emb)\u001b[39;00m\n\u001b[0;32m--> 585\u001b[0m     encode_out, encode_last_hidden \u001b[39m=\u001b[39m \u001b[39mself\u001b[39;49m\u001b[39m.\u001b[39;49mencoder(src\u001b[39m.\u001b[39;49munsqueeze(\u001b[39m0\u001b[39;49m)) \u001b[39m# \u001b[39;00m\n\u001b[1;32m    587\u001b[0m     \u001b[39m# Setup for 0th step\u001b[39;00m\n\u001b[1;32m    588\u001b[0m     start_token \u001b[39m=\u001b[39m torch\u001b[39m.\u001b[39mLongTensor([[part_idx, \u001b[39m1\u001b[39m, \u001b[39m1\u001b[39m, \u001b[39m3\u001b[39m, \u001b[39m3\u001b[39m, \u001b[39m3\u001b[39m]]) \u001b[39m# start token idx is 1\u001b[39;00m\n",
      "File \u001b[0;32m~/.local/lib/python3.8/site-packages/torch/nn/modules/module.py:1501\u001b[0m, in \u001b[0;36mModule._call_impl\u001b[0;34m(self, *args, **kwargs)\u001b[0m\n\u001b[1;32m   1496\u001b[0m \u001b[39m# If we don't have any hooks, we want to skip the rest of the logic in\u001b[39;00m\n\u001b[1;32m   1497\u001b[0m \u001b[39m# this function, and just call forward.\u001b[39;00m\n\u001b[1;32m   1498\u001b[0m \u001b[39mif\u001b[39;00m \u001b[39mnot\u001b[39;00m (\u001b[39mself\u001b[39m\u001b[39m.\u001b[39m_backward_hooks \u001b[39mor\u001b[39;00m \u001b[39mself\u001b[39m\u001b[39m.\u001b[39m_backward_pre_hooks \u001b[39mor\u001b[39;00m \u001b[39mself\u001b[39m\u001b[39m.\u001b[39m_forward_hooks \u001b[39mor\u001b[39;00m \u001b[39mself\u001b[39m\u001b[39m.\u001b[39m_forward_pre_hooks\n\u001b[1;32m   1499\u001b[0m         \u001b[39mor\u001b[39;00m _global_backward_pre_hooks \u001b[39mor\u001b[39;00m _global_backward_hooks\n\u001b[1;32m   1500\u001b[0m         \u001b[39mor\u001b[39;00m _global_forward_hooks \u001b[39mor\u001b[39;00m _global_forward_pre_hooks):\n\u001b[0;32m-> 1501\u001b[0m     \u001b[39mreturn\u001b[39;00m forward_call(\u001b[39m*\u001b[39;49margs, \u001b[39m*\u001b[39;49m\u001b[39m*\u001b[39;49mkwargs)\n\u001b[1;32m   1502\u001b[0m \u001b[39m# Do not call functions when jit is used\u001b[39;00m\n\u001b[1;32m   1503\u001b[0m full_backward_hooks, non_full_backward_hooks \u001b[39m=\u001b[39m [], []\n",
      "File \u001b[0;32m~/userdata/DANBI/gugakwon/Yeominrak/model.py:190\u001b[0m, in \u001b[0;36mEncoder.forward\u001b[0;34m(self, input_seq)\u001b[0m\n\u001b[1;32m    188\u001b[0m \u001b[39mdef\u001b[39;00m \u001b[39mforward\u001b[39m(\u001b[39mself\u001b[39m, input_seq):\n\u001b[0;32m--> 190\u001b[0m   emb \u001b[39m=\u001b[39m \u001b[39mself\u001b[39;49m\u001b[39m.\u001b[39;49m_get_embedding(input_seq)\n\u001b[1;32m    191\u001b[0m   out, last_hidden \u001b[39m=\u001b[39m \u001b[39mself\u001b[39m\u001b[39m.\u001b[39mrnn(emb)\n\u001b[1;32m    193\u001b[0m   \u001b[39mif\u001b[39;00m \u001b[39mself\u001b[39m\u001b[39m.\u001b[39mrnn\u001b[39m.\u001b[39mbidirectional:\n",
      "File \u001b[0;32m~/userdata/DANBI/gugakwon/Yeominrak/model.py:185\u001b[0m, in \u001b[0;36mEncoder._get_embedding\u001b[0;34m(self, input_seq)\u001b[0m\n\u001b[1;32m    182\u001b[0m   emb \u001b[39m=\u001b[39m PackedSequence(\u001b[39mself\u001b[39m\u001b[39m.\u001b[39memb(input_seq[\u001b[39m0\u001b[39m]), input_seq[\u001b[39m1\u001b[39m], input_seq[\u001b[39m2\u001b[39m], input_seq[\u001b[39m3\u001b[39m])\n\u001b[1;32m    183\u001b[0m \u001b[39melse\u001b[39;00m:\n\u001b[0;32m--> 185\u001b[0m   emb \u001b[39m=\u001b[39m \u001b[39mself\u001b[39;49m\u001b[39m.\u001b[39;49memb(input_seq)\n\u001b[1;32m    186\u001b[0m \u001b[39mreturn\u001b[39;00m emb\n",
      "File \u001b[0;32m~/.local/lib/python3.8/site-packages/torch/nn/modules/module.py:1501\u001b[0m, in \u001b[0;36mModule._call_impl\u001b[0;34m(self, *args, **kwargs)\u001b[0m\n\u001b[1;32m   1496\u001b[0m \u001b[39m# If we don't have any hooks, we want to skip the rest of the logic in\u001b[39;00m\n\u001b[1;32m   1497\u001b[0m \u001b[39m# this function, and just call forward.\u001b[39;00m\n\u001b[1;32m   1498\u001b[0m \u001b[39mif\u001b[39;00m \u001b[39mnot\u001b[39;00m (\u001b[39mself\u001b[39m\u001b[39m.\u001b[39m_backward_hooks \u001b[39mor\u001b[39;00m \u001b[39mself\u001b[39m\u001b[39m.\u001b[39m_backward_pre_hooks \u001b[39mor\u001b[39;00m \u001b[39mself\u001b[39m\u001b[39m.\u001b[39m_forward_hooks \u001b[39mor\u001b[39;00m \u001b[39mself\u001b[39m\u001b[39m.\u001b[39m_forward_pre_hooks\n\u001b[1;32m   1499\u001b[0m         \u001b[39mor\u001b[39;00m _global_backward_pre_hooks \u001b[39mor\u001b[39;00m _global_backward_hooks\n\u001b[1;32m   1500\u001b[0m         \u001b[39mor\u001b[39;00m _global_forward_hooks \u001b[39mor\u001b[39;00m _global_forward_pre_hooks):\n\u001b[0;32m-> 1501\u001b[0m     \u001b[39mreturn\u001b[39;00m forward_call(\u001b[39m*\u001b[39;49margs, \u001b[39m*\u001b[39;49m\u001b[39m*\u001b[39;49mkwargs)\n\u001b[1;32m   1502\u001b[0m \u001b[39m# Do not call functions when jit is used\u001b[39;00m\n\u001b[1;32m   1503\u001b[0m full_backward_hooks, non_full_backward_hooks \u001b[39m=\u001b[39m [], []\n",
      "File \u001b[0;32m~/userdata/DANBI/gugakwon/Yeominrak/model.py:46\u001b[0m, in \u001b[0;36mMultiEmbedding.forward\u001b[0;34m(self, x)\u001b[0m\n\u001b[1;32m     42\u001b[0m \u001b[39mdef\u001b[39;00m \u001b[39mforward\u001b[39m(\u001b[39mself\u001b[39m, x):\n\u001b[1;32m     43\u001b[0m   \u001b[39m# num_embeddings = torch.tensor([x.num_embeddings for x in self.layers])\u001b[39;00m\n\u001b[1;32m     44\u001b[0m   \u001b[39m# max_indices = torch.max(x, dim=0)[0].cpu()\u001b[39;00m\n\u001b[1;32m     45\u001b[0m   \u001b[39m# assert (num_embeddings > max_indices).all(), f'num_embeddings: {num_embeddings}, max_indices: {max_indices}'\u001b[39;00m\n\u001b[0;32m---> 46\u001b[0m   \u001b[39mreturn\u001b[39;00m torch\u001b[39m.\u001b[39mcat([module(x[\u001b[39m.\u001b[39m\u001b[39m.\u001b[39m\u001b[39m.\u001b[39m, i]) \u001b[39mfor\u001b[39;00m i, module \u001b[39min\u001b[39;00m \u001b[39menumerate\u001b[39m(\u001b[39mself\u001b[39m\u001b[39m.\u001b[39mlayers)], dim\u001b[39m=\u001b[39m\u001b[39m-\u001b[39m\u001b[39m1\u001b[39m)\n",
      "File \u001b[0;32m~/userdata/DANBI/gugakwon/Yeominrak/model.py:46\u001b[0m, in \u001b[0;36m<listcomp>\u001b[0;34m(.0)\u001b[0m\n\u001b[1;32m     42\u001b[0m \u001b[39mdef\u001b[39;00m \u001b[39mforward\u001b[39m(\u001b[39mself\u001b[39m, x):\n\u001b[1;32m     43\u001b[0m   \u001b[39m# num_embeddings = torch.tensor([x.num_embeddings for x in self.layers])\u001b[39;00m\n\u001b[1;32m     44\u001b[0m   \u001b[39m# max_indices = torch.max(x, dim=0)[0].cpu()\u001b[39;00m\n\u001b[1;32m     45\u001b[0m   \u001b[39m# assert (num_embeddings > max_indices).all(), f'num_embeddings: {num_embeddings}, max_indices: {max_indices}'\u001b[39;00m\n\u001b[0;32m---> 46\u001b[0m   \u001b[39mreturn\u001b[39;00m torch\u001b[39m.\u001b[39mcat([module(x[\u001b[39m.\u001b[39;49m\u001b[39m.\u001b[39;49m\u001b[39m.\u001b[39;49m, i]) \u001b[39mfor\u001b[39;00m i, module \u001b[39min\u001b[39;00m \u001b[39menumerate\u001b[39m(\u001b[39mself\u001b[39m\u001b[39m.\u001b[39mlayers)], dim\u001b[39m=\u001b[39m\u001b[39m-\u001b[39m\u001b[39m1\u001b[39m)\n",
      "\u001b[0;31mIndexError\u001b[0m: index 5 is out of bounds for dimension 1 with size 5"
     ]
    }
   ],
   "source": [
    "valid_dataset_idx = 0\n",
    "output_part_idx = 1\n",
    "decoder = MidiDecoder(valid_loader)\n",
    "merged_midi = stream.Stream()\n",
    "sample = valid_loader.dataset[valid_dataset_idx][0]\n",
    "\n",
    "for i in range(7):    \n",
    "  src, output, attention_map = model.shifted_inference(sample, output_part_idx)\n",
    "  if i == 0:\n",
    "    src_midi = decoder(src)\n",
    "    for element in src_midi:\n",
    "      merged_midi.append(element)\n",
    "  print(i)\n",
    "  output_midi = decoder(output)\n",
    "  for element in output_midi:\n",
    "    merged_midi.append(element)\n",
    "  sample = [val_dataset.tokenizer(note) for note in output]\n",
    "  sample = torch.Tensor(sample).long()\n",
    "  print(sample)\n",
    "  output_part_idx += 1\n",
    "\n",
    "merged_midi.write('musicxml.png', \"source_and_output.png\")\n",
    "\n",
    "\n",
    "# src, output, attention_map = model.inference(sample, output_part_idx)\n",
    "\n",
    "\n",
    "\n",
    "\n",
    "\n"
   ]
  },
  {
   "cell_type": "code",
   "execution_count": null,
   "metadata": {},
   "outputs": [],
   "source": [
    "import matplotlib.pyplot as plt\n",
    "plt.subplot(2,1,1)\n"
   ]
  },
  {
   "cell_type": "markdown",
   "metadata": {},
   "source": [
    "## Attention map"
   ]
  },
  {
   "cell_type": "code",
   "execution_count": null,
   "metadata": {},
   "outputs": [],
   "source": [
    "# src = attn_map[0][0].shape[0]\n",
    "# output = attn_map[0][0].shape[1]\n",
    "plt.figure(figsize=(15, 15))\n",
    "x_axis_label = ['start']+[i for i, x in enumerate(src)]+['end']\n",
    "y_axis_label = [i for i, x in enumerate(output)]\n",
    "\n",
    "\n",
    "plt.imshow(attention_map.detach())\n",
    "plt.yticks(range(len(x_axis_label)), x_axis_label, fontsize=15,rotation = 45)\n",
    "plt.xticks(range(len(y_axis_label)), y_axis_label, fontsize=15)\n"
   ]
  },
  {
   "cell_type": "code",
   "execution_count": null,
   "metadata": {},
   "outputs": [],
   "source": [
    "plt.figure(figsize=(10,10))\n",
    "plt.imshow(attn_map[3][3].cpu().detach().numpy())"
   ]
  },
  {
   "cell_type": "code",
   "execution_count": null,
   "metadata": {},
   "outputs": [],
   "source": [
    "plt.figure(figsize = (30, 30))\n",
    "wei = abs(model.decoder.proj.weight.detach())\n",
    "plt.imshow(wei)"
   ]
  },
  {
   "cell_type": "code",
   "execution_count": null,
   "metadata": {},
   "outputs": [],
   "source": []
  },
  {
   "cell_type": "markdown",
   "metadata": {},
   "source": []
  },
  {
   "cell_type": "markdown",
   "metadata": {},
   "source": [
    "# Other works"
   ]
  },
  {
   "cell_type": "code",
   "execution_count": null,
   "metadata": {},
   "outputs": [],
   "source": [
    "score_set = train_dataset = AlignedScore(slice_measure_num = 4, sample_len = 1000, is_valid = False, use_pitch_modification=False)"
   ]
  },
  {
   "cell_type": "code",
   "execution_count": null,
   "metadata": {},
   "outputs": [],
   "source": [
    "import matplotlib.pyplot as plt\n",
    "\n",
    "plt.plot(part5.make_pitch_contour())"
   ]
  },
  {
   "cell_type": "code",
   "execution_count": null,
   "metadata": {},
   "outputs": [],
   "source": [
    "part, i = score_set.score.parts[5], 5\n",
    "part5 = Part(part, i)\n",
    "part5.measure_duration\n",
    "print(part5.measures)\n",
    "\n",
    "# # while True:\n",
    "#   entire_beat = part5.measure_duration\n",
    "#   for measure in part5.measures:\n",
    "#     part = score_set.score.parts[5]\n",
    "# # part5 = Part(part, i) \n",
    "#     current_beat = sum(note.duration for note in measure)\n",
    "#     # print(current_beat, entire_beat)\n",
    "#     if current_beat < entire_beat:\n",
    "#       # print(current_beat, entire_beat)\n",
    "#       # print(measure)\n",
    "#       # print(measure[-1].offset, measure[-1].duration)\n",
    "#       new_note = m21_note.Note(pitch=30, quarterLength=entire_beat - current_beat)\n",
    "#       part.insert(measure[-1].offset+measure[-1].duration, new_note)\n",
    "#       # measure.append(Gnote(m21_note.Note(pitch=30, quarterLength=entire_beat - current_beat, offset=measure[-1].offset+measure[-1].duration), 5))\n",
    "#       print('added!')\n",
    "#       break\n",
    "  \n",
    "#   # sum_list = [sum(note.duration for note in measure) for measure in part5.measures]\n",
    "#   # if sum(sum_list) == len(part5.measures) * entire_beat:\n",
    "#   #   print(\"done?\")\n",
    "#   #   break\n",
    "  \n",
    "# # for i, measure in enumerate(part5.measures):\n",
    "# #   current_beat = sum(note.duration for note in measure)\n",
    "# #   entire_beat = part5.measure_duration\n",
    "# #   if current_beat < entire_beat:\n",
    "# #     print(measure)"
   ]
  },
  {
   "cell_type": "code",
   "execution_count": null,
   "metadata": {},
   "outputs": [],
   "source": [
    "whole_score = converter.parse(file_list[0])\n",
    "\n",
    "by_measure_parse_dic = defaultdict()\n",
    "for part_idx in range(len(whole_score.parts)):\n",
    "  part_dic = defaultdict(list)\n",
    "  for note in whole_score.parts[part_idx].flat.notes:\n",
    "    if not note.duration.isGrace:\n",
    "      part_dic[note.measureNumber].append(note)\n",
    "  by_measure_parse_dic[part_idx] = part_dic\n"
   ]
  },
  {
   "cell_type": "code",
   "execution_count": null,
   "metadata": {},
   "outputs": [],
   "source": [
    "part.measure"
   ]
  },
  {
   "cell_type": "code",
   "execution_count": null,
   "metadata": {},
   "outputs": [],
   "source": [
    "print(score_set.parts[5].make_pitch_contour())"
   ]
  },
  {
   "cell_type": "code",
   "execution_count": null,
   "metadata": {},
   "outputs": [],
   "source": [
    "contours = [part.make_pitch_contour() for part in score_set.parts]"
   ]
  },
  {
   "cell_type": "code",
   "execution_count": null,
   "metadata": {},
   "outputs": [],
   "source": [
    "import matplotlib.pyplot as plt\n",
    "import numpy as np\n",
    "\n",
    "measure_sample = 120\n",
    "measure_by_contour = [contours[-1][i * measure_sample : (i + 1) * measure_sample] for i in range(160)]\n",
    "\n",
    "self_similarity_matrix = np.zeros((160, 160))\n",
    "\n",
    "for i, measure1 in enumerate(measure_by_contour):\n",
    "    for j, measure2 in enumerate(measure_by_contour):\n",
    "        similarity = np.sum(measure1 == measure2) / measure_sample  # Calculate similarity\n",
    "        self_similarity_matrix[i, j] = similarity\n",
    "\n",
    "plt.figure(figsize=(12, 12))\n",
    "plt.imshow(self_similarity_matrix, cmap='viridis', origin='lower')\n",
    "plt.colorbar()\n",
    "plt.title('Self-Similarity Matrix')\n",
    "plt.show()\n"
   ]
  },
  {
   "cell_type": "code",
   "execution_count": null,
   "metadata": {},
   "outputs": [],
   "source": [
    "import matplotlib.pyplot as plt\n",
    "\n",
    "measure_start = 0\n",
    "measure_end = 30\n",
    "\n",
    "sampling_rate = 12\n",
    "\n",
    "start_idx = measure_start * 10 * sampling_rate\n",
    "end_idx = measure_end * 10 * sampling_rate\n",
    "\n",
    "plt.figure(figsize = (50, 10))\n",
    "for contour in contours:\n",
    "  plt.plot(contour[start_idx:end_idx])\n"
   ]
  },
  {
   "cell_type": "code",
   "execution_count": null,
   "metadata": {},
   "outputs": [],
   "source": []
  },
  {
   "cell_type": "markdown",
   "metadata": {},
   "source": []
  },
  {
   "cell_type": "code",
   "execution_count": null,
   "metadata": {},
   "outputs": [],
   "source": [
    "len(score_set.parts[0].measures)"
   ]
  },
  {
   "cell_type": "code",
   "execution_count": null,
   "metadata": {},
   "outputs": [],
   "source": [
    "12/5"
   ]
  },
  {
   "cell_type": "code",
   "execution_count": null,
   "metadata": {},
   "outputs": [],
   "source": [
    "score_set.parts[-1].measure_duration"
   ]
  },
  {
   "cell_type": "code",
   "execution_count": null,
   "metadata": {},
   "outputs": [],
   "source": [
    "min([note.duration for note in score_set.parts[-3].tie_cleaned_notes])"
   ]
  },
  {
   "cell_type": "code",
   "execution_count": null,
   "metadata": {},
   "outputs": [],
   "source": [
    "for i, part in enumerate(train_dataset.parts):\n",
    "  for j, measure in enumerate(part.measures):\n",
    "    for note in measure:\n",
    "      if note.pitch == 49:\n",
    "        print(i, j, note)\n"
   ]
  }
 ],
 "metadata": {
  "kernelspec": {
   "display_name": "Python 3",
   "language": "python",
   "name": "python3"
  },
  "language_info": {
   "codemirror_mode": {
    "name": "ipython",
    "version": 3
   },
   "file_extension": ".py",
   "mimetype": "text/x-python",
   "name": "python",
   "nbconvert_exporter": "python",
   "pygments_lexer": "ipython3",
   "version": "3.8.10"
  },
  "orig_nbformat": 4
 },
 "nbformat": 4,
 "nbformat_minor": 2
}
