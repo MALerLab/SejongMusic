{
 "cells": [
  {
   "cell_type": "code",
   "execution_count": 1,
   "metadata": {},
   "outputs": [
    {
     "name": "stdout",
     "output_type": "stream",
     "text": [
      "/home/teo/userdata/SejongMusic\n"
     ]
    }
   ],
   "source": [
    "%cd ..\n",
    "%load_ext autoreload\n",
    "%autoreload 2"
   ]
  },
  {
   "cell_type": "code",
   "execution_count": 2,
   "metadata": {},
   "outputs": [
    {
     "name": "stderr",
     "output_type": "stream",
     "text": [
      "/home/teo/.local/share/virtualenvs/SejongMusic-0Xd-sAL0/lib/python3.8/site-packages/tqdm/auto.py:21: TqdmWarning: IProgress not found. Please update jupyter and ipywidgets. See https://ipywidgets.readthedocs.io/en/stable/user_install.html\n",
      "  from .autonotebook import tqdm as notebook_tqdm\n"
     ]
    }
   ],
   "source": [
    "from pathlib import Path\n",
    "from music21 import converter, stream, note as m21_note \n",
    "import torch\n",
    "\n",
    "from tqdm.auto import tqdm\n",
    "\n",
    "from sejong_music.yeominrak_processing import AlignedScore, SamplingScore, pack_collate, ShiftedAlignedScore, OrchestraScore\n",
    "from sejong_music.model_zoo import Seq2seq, Converter, AttentionSeq2seq, QkvAttnSeq2seq, get_emb_total_size, QkvAttnSeq2seqOrch\n",
    "import random as random\n",
    "from sejong_music.decode import MidiDecoder, OrchestraDecoder\n",
    "import torch\n",
    "from torch.utils.data import Dataset, DataLoader\n",
    "from omegaconf import OmegaConf\n",
    "from fractions import Fraction\n"
   ]
  },
  {
   "cell_type": "code",
   "execution_count": 3,
   "metadata": {},
   "outputs": [],
   "source": [
    "\n",
    "save_name = 'use_gugakwon'\n",
    "state = torch.load('outputs/2024-03-07/11-03-56/epoch600_model.pt')\n",
    "state_alt = torch.load('outputs/2024-03-07/11-03-56/best_loss_model.pt')\n",
    "\n",
    "config = OmegaConf.load('yamls/orchestration.yaml')\n",
    "config = get_emb_total_size(config)\n",
    "\n",
    "output_dir = Path('gen_results/')\n",
    "output_dir.mkdir(parents=True, exist_ok=True)\n",
    "\n",
    "device = 'cpu'\n"
   ]
  },
  {
   "cell_type": "code",
   "execution_count": 12,
   "metadata": {},
   "outputs": [],
   "source": [
    "val_dataset = OrchestraScore(is_valid= True,\n",
    "                            # valid_measure_num = [i for i in range(93, 99)],\n",
    "                            xml_path='music_score/FullScore_edit2.musicxml', \n",
    "                            use_pitch_modification=False, \n",
    "                            slice_measure_num=config.data.max_meas,\n",
    "                            min_meas=config.data.min_meas,\n",
    "                            feature_types=config.model.features,\n",
    "                              sampling_rate=config.data.sampling_rate)\n",
    "\n"
   ]
  },
  {
   "cell_type": "code",
   "execution_count": null,
   "metadata": {},
   "outputs": [],
   "source": []
  },
  {
   "cell_type": "code",
   "execution_count": 5,
   "metadata": {},
   "outputs": [
    {
     "data": {
      "text/plain": [
       "QkvAttnSeq2seqOrch(\n",
       "  (encoder): Encoder(\n",
       "    (emb): MultiEmbedding(\n",
       "      (layers): ModuleList(\n",
       "        (0): Embedding(8, 32)\n",
       "        (1): Embedding(19, 64)\n",
       "        (2): Embedding(16, 64)\n",
       "        (3): Embedding(36, 32)\n",
       "        (4): Embedding(7, 32)\n",
       "        (5): Embedding(13, 32)\n",
       "      )\n",
       "    )\n",
       "    (rnn): GRU(256, 128, num_layers=2, batch_first=True, dropout=0.2, bidirectional=True)\n",
       "  )\n",
       "  (decoder): QkvAttnDecoder(\n",
       "    (emb): MultiEmbedding(\n",
       "      (layers): ModuleList(\n",
       "        (0): Embedding(5, 32)\n",
       "        (1): Embedding(30, 64)\n",
       "        (2): Embedding(26, 64)\n",
       "        (3): Embedding(107, 32)\n",
       "        (4): Embedding(7, 32)\n",
       "        (5): Embedding(13, 32)\n",
       "      )\n",
       "    )\n",
       "    (rnn): GRU(256, 128, num_layers=2, batch_first=True)\n",
       "    (proj): Linear(in_features=256, out_features=56, bias=True)\n",
       "    (query): Linear(in_features=128, out_features=128, bias=True)\n",
       "    (key): Linear(in_features=128, out_features=128, bias=True)\n",
       "    (value): Linear(in_features=128, out_features=128, bias=True)\n",
       "  )\n",
       ")"
      ]
     },
     "execution_count": 5,
     "metadata": {},
     "output_type": "execute_result"
    }
   ],
   "source": [
    "model = QkvAttnSeq2seqOrch(val_dataset.era_dataset.tokenizer, val_dataset.tokenizer, config.model).to(device)\n",
    "model.is_condition_shifted = True\n",
    "model.load_state_dict(state)\n",
    "model.eval()\n"
   ]
  },
  {
   "cell_type": "code",
   "execution_count": 13,
   "metadata": {},
   "outputs": [
    {
     "data": {
      "text/plain": [
       "{'pad': 0,\n",
       " 'start': 1,\n",
       " 'end': 2,\n",
       " 8.0: 21,\n",
       " 0.25: 4,\n",
       " 0.5: 5,\n",
       " 0.75: 6,\n",
       " 1.0: 7,\n",
       " 1.25: 8,\n",
       " 1.5: 9,\n",
       " 2.0: 10,\n",
       " 2.25: 11,\n",
       " 2.5: 12,\n",
       " 2.75: 13,\n",
       " 3.0: 14,\n",
       " 4.0: 15,\n",
       " 4.25: 16,\n",
       " 4.5: 17,\n",
       " 5.5: 18,\n",
       " 6.0: 19,\n",
       " 7.5: 20,\n",
       " 9.0: 22,\n",
       " 11.5: 23}"
      ]
     },
     "execution_count": 13,
     "metadata": {},
     "output_type": "execute_result"
    }
   ],
   "source": [
    "val_dataset.tokenizer.tok2idx['duration']"
   ]
  },
  {
   "cell_type": "code",
   "execution_count": null,
   "metadata": {},
   "outputs": [],
   "source": [
    "for i in range(30):\n",
    "  offset = round_number(i/3, 3)\n",
    "  if offset in test_set.tokenizer.tok2idx['offset']:\n",
    "     continue\n",
    "  if i < 6:\n",
    "    other_value = i % 3 + 6\n",
    "  else:\n",
    "    other_value = i % 3 + 21\n",
    "  test_set.tokenizer.tok2idx['offset'][offset] = test_set.tokenizer.tok2idx['offset'][round_number(other_value/3, 3)]\n",
    "\n",
    "for i in range(30):\n",
    "  offset = round_number(i/2, 3)\n",
    "  if offset in test_set.tokenizer.tok2idx['offset']:\n",
    "     continue\n",
    "  other_value = i - 2\n",
    "  test_set.tokenizer.tok2idx['offset'][offset] = test_set.tokenizer.tok2idx['offset'][round_number(other_value/2, 3)]\n",
    "\n",
    "if 'offset' in model.tokenizer.tok2idx:\n",
    "  for i in range(120):\n",
    "    if i % 4 == 0:\n",
    "      continue\n",
    "    if i / 4 not in model.tokenizer.tok2idx['offset']:\n",
    "      model.tokenizer.tok2idx['offset'][i/4] = model.tokenizer.tok2idx['offset'][(i-2)/4]\n"
   ]
  },
  {
   "cell_type": "code",
   "execution_count": null,
   "metadata": {},
   "outputs": [],
   "source": [
    "  train_dataset = dataset_class(is_valid= False, \n",
    "                                xml_path=original_wd/'music_score/FullScore.musicxml',\n",
    "                                use_pitch_modification = config.data.use_pitch_modification, \n",
    "                                pitch_modification_ratio=config.data.modification_ratio,\n",
    "                                min_meas=config.data.min_meas, \n",
    "                                max_meas=config.data.max_meas,\n",
    "                                feature_types=config.model.features,\n",
    "                                sampling_rate=config.data.sampling_rate\n",
    "                                )"
   ]
  }
 ],
 "metadata": {
  "kernelspec": {
   "display_name": "SejongMusic-0Xd-sAL0",
   "language": "python",
   "name": "python3"
  },
  "language_info": {
   "codemirror_mode": {
    "name": "ipython",
    "version": 3
   },
   "file_extension": ".py",
   "mimetype": "text/x-python",
   "name": "python",
   "nbconvert_exporter": "python",
   "pygments_lexer": "ipython3",
   "version": "3.8.10"
  }
 },
 "nbformat": 4,
 "nbformat_minor": 2
}
