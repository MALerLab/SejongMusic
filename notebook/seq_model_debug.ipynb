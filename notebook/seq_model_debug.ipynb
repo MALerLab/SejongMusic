{
 "cells": [
  {
   "cell_type": "code",
   "execution_count": 1,
   "metadata": {},
   "outputs": [
    {
     "name": "stdout",
     "output_type": "stream",
     "text": [
      "/home/teo/userdata/SejongMusic\n"
     ]
    }
   ],
   "source": [
    "%cd ..\n",
    "%load_ext autoreload\n",
    "%autoreload 2"
   ]
  },
  {
   "cell_type": "code",
   "execution_count": 12,
   "metadata": {},
   "outputs": [],
   "source": [
    "from make_orchestration_seq import get_argparse\n",
    "import argparse\n",
    "import datetime\n",
    "import copy\n",
    "from pathlib import Path\n",
    "from omegaconf import OmegaConf\n",
    "from fractions import Fraction\n",
    "from tqdm.auto import tqdm\n",
    "\n",
    "import torch\n",
    "from music21 import converter, stream, note as m21_note \n",
    "\n",
    "from sejong_music import model_zoo\n",
    "from sejong_music.yeominrak_processing import OrchestraScoreSeq, ShiftedAlignedScore, TestScore, TestScoreCPH, Tokenizer\n",
    "from sejong_music.model_zoo import QkvAttnSeq2seq, get_emb_total_size, QkvAttnSeq2seqMore\n",
    "from sejong_music.decode import MidiDecoder, OrchestraDecoder\n",
    "from sejong_music.inference_utils import prepare_input_for_next_part, get_measure_specific_output, fix_measure_idx, fill_in_source, get_measure_shifted_output, recover_beat, round_number\n"
   ]
  },
  {
   "cell_type": "code",
   "execution_count": 16,
   "metadata": {},
   "outputs": [],
   "source": [
    "args = get_argparse().parse_args([])"
   ]
  },
  {
   "cell_type": "code",
   "execution_count": 45,
   "metadata": {},
   "outputs": [],
   "source": [
    "inst_codes = ['gmg', 'gyg', 'hg', 'pr', 'dg']\n",
    "states = {}\n",
    "configs = {}\n",
    "gmg_config = OmegaConf.load(f'{args.gmg_state_dir}/config.yaml')\n",
    "for inst_code in inst_codes:\n",
    "  state_dir = getattr(args, f'{inst_code}_state_dir')\n",
    "  states[inst_code] = torch.load(f'{state_dir}/epoch600_model.pt')\n",
    "  configs[inst_code] = OmegaConf.load(f'{state_dir}/config.yaml')\n",
    "tokenizer = Tokenizer(parts=None, feature_types=None, json_fn=f'{args.gmg_state_dir}/tokenizer_vocab.json')\n",
    "era_tokenizer = Tokenizer(parts=None, feature_types=None, json_fn=f'{args.gmg_state_dir}/era_tokenizer_vocab.json')\n"
   ]
  },
  {
   "cell_type": "code",
   "execution_count": 46,
   "metadata": {},
   "outputs": [
    {
     "name": "stdout",
     "output_type": "stream",
     "text": [
      "i/4 not in tokenizer.tok2idx['offset']: 0.75\n",
      "i/4 not in tokenizer.tok2idx['offset']: 1.75\n",
      "i/4 not in tokenizer.tok2idx['offset']: 3.75\n",
      "i/4 not in tokenizer.tok2idx['offset']: 6.25\n",
      "i/4 not in tokenizer.tok2idx['offset']: 6.75\n",
      "i/4 not in tokenizer.tok2idx['offset']: 8.25\n",
      "i/4 not in tokenizer.tok2idx['offset']: 12.75\n",
      "i/4 not in tokenizer.tok2idx['offset']: 13.75\n",
      "i/4 not in tokenizer.tok2idx['offset']: 15.25\n",
      "i/4 not in tokenizer.tok2idx['offset']: 15.75\n",
      "i/4 not in tokenizer.tok2idx['offset']: 18.75\n",
      "i/4 not in tokenizer.tok2idx['offset']: 23.25\n",
      "i/4 not in tokenizer.tok2idx['offset']: 24.75\n",
      "i/4 not in tokenizer.tok2idx['offset']: 25.75\n",
      "i/4 not in tokenizer.tok2idx['offset']: 26.25\n",
      "i/4 not in tokenizer.tok2idx['offset']: 27.25\n",
      "i/4 not in tokenizer.tok2idx['offset']: 27.75\n",
      "i/4 not in tokenizer.tok2idx['offset']: 29.25\n"
     ]
    }
   ],
   "source": [
    "if 'offset' in tokenizer.tok2idx:\n",
    "  for i in range(120):\n",
    "    if i % 4 == 0:\n",
    "      continue\n",
    "    if i / 4 not in tokenizer.tok2idx['offset']:\n",
    "      print(f\"i/4 not in tokenizer.tok2idx['offset']: {i/4}\")\n",
    "      if i >= 6:\n",
    "        tokenizer.tok2idx['offset'][i/4] = tokenizer.tok2idx['offset'][(i-6)/4]\n",
    "      else:\n",
    "        tokenizer.tok2idx['offset'][i/4] = tokenizer.tok2idx['offset'][(i-2)/4]\n"
   ]
  },
  {
   "cell_type": "code",
   "execution_count": 47,
   "metadata": {},
   "outputs": [
    {
     "data": {
      "text/plain": [
       "{'pad': 0,\n",
       " 'start': 1,\n",
       " 'end': 2,\n",
       " 0.0: 3,\n",
       " 0.25: 4,\n",
       " 0.5: 5,\n",
       " 1.0: 6,\n",
       " 1.25: 7,\n",
       " 1.5: 8,\n",
       " 2.0: 9,\n",
       " 2.25: 10,\n",
       " 2.5: 11,\n",
       " 2.75: 12,\n",
       " 3.0: 13,\n",
       " 3.25: 14,\n",
       " 3.5: 15,\n",
       " 4.0: 16,\n",
       " 4.25: 17,\n",
       " 4.5: 18,\n",
       " 4.75: 19,\n",
       " 5.0: 20,\n",
       " 5.25: 21,\n",
       " 5.5: 22,\n",
       " 5.75: 23,\n",
       " 6.0: 24,\n",
       " 6.5: 25,\n",
       " 7.0: 26,\n",
       " 7.25: 27,\n",
       " 7.5: 28,\n",
       " 7.75: 29,\n",
       " 8.0: 30,\n",
       " 8.5: 31,\n",
       " 8.75: 32,\n",
       " 9.0: 33,\n",
       " 9.25: 34,\n",
       " 9.5: 35,\n",
       " 9.75: 36,\n",
       " 10.0: 37,\n",
       " 10.25: 38,\n",
       " 10.5: 39,\n",
       " 10.75: 40,\n",
       " 11.0: 41,\n",
       " 11.25: 42,\n",
       " 11.5: 43,\n",
       " 11.75: 44,\n",
       " 12.0: 45,\n",
       " 12.25: 46,\n",
       " 12.5: 47,\n",
       " 13.0: 48,\n",
       " 13.25: 49,\n",
       " 13.5: 50,\n",
       " 14.0: 51,\n",
       " 14.25: 52,\n",
       " 14.5: 53,\n",
       " 14.75: 54,\n",
       " 15.0: 55,\n",
       " 15.5: 56,\n",
       " 16.0: 57,\n",
       " 16.25: 58,\n",
       " 16.5: 59,\n",
       " 16.75: 60,\n",
       " 17.0: 61,\n",
       " 17.25: 62,\n",
       " 17.5: 63,\n",
       " 17.75: 64,\n",
       " 18.0: 65,\n",
       " 18.25: 66,\n",
       " 18.5: 67,\n",
       " 19.0: 68,\n",
       " 19.25: 69,\n",
       " 19.5: 70,\n",
       " 19.75: 71,\n",
       " 20.0: 72,\n",
       " 20.25: 73,\n",
       " 20.5: 74,\n",
       " 20.75: 75,\n",
       " 21.0: 76,\n",
       " 21.25: 77,\n",
       " 21.5: 78,\n",
       " 21.75: 79,\n",
       " 22.0: 80,\n",
       " 22.25: 81,\n",
       " 22.5: 82,\n",
       " 22.75: 83,\n",
       " 23.0: 84,\n",
       " 23.5: 85,\n",
       " 23.75: 86,\n",
       " 24.0: 87,\n",
       " 24.25: 88,\n",
       " 24.5: 89,\n",
       " 25.0: 90,\n",
       " 25.25: 91,\n",
       " 25.5: 92,\n",
       " 26.0: 93,\n",
       " 26.5: 94,\n",
       " 26.75: 95,\n",
       " 27.0: 96,\n",
       " 27.5: 97,\n",
       " 28.0: 98,\n",
       " 28.25: 99,\n",
       " 28.5: 100,\n",
       " 28.75: 101,\n",
       " 29.0: 102,\n",
       " 29.5: 103,\n",
       " 29.75: 104,\n",
       " 0.75: 4,\n",
       " 1.75: 4,\n",
       " 3.75: 10,\n",
       " 6.25: 19,\n",
       " 6.75: 21,\n",
       " 8.25: 21,\n",
       " 12.75: 42,\n",
       " 13.75: 46,\n",
       " 15.25: 46,\n",
       " 15.75: 52,\n",
       " 18.75: 62,\n",
       " 23.25: 79,\n",
       " 24.75: 79,\n",
       " 25.75: 88,\n",
       " 26.25: 79,\n",
       " 27.25: 88,\n",
       " 27.75: 79,\n",
       " 29.25: 79}"
      ]
     },
     "execution_count": 47,
     "metadata": {},
     "output_type": "execute_result"
    }
   ],
   "source": [
    "tokenizer.tok2idx['offset']"
   ]
  },
  {
   "cell_type": "code",
   "execution_count": 36,
   "metadata": {},
   "outputs": [
    {
     "name": "stdout",
     "output_type": "stream",
     "text": [
      "target_idx: 3, inst: gyg\n"
     ]
    }
   ],
   "source": [
    "tg_idx = 1\n",
    "inst = 'gyg'\n",
    "device = 'cpu'\n",
    "\n",
    "target_idx = len(inst_codes) - tg_idx - 1\n",
    "print(f\"target_idx: {target_idx}, inst: {inst}\")\n",
    "model = getattr(model_zoo, configs[inst].model_class)(tokenizer, tokenizer, configs[inst].model).to(device)\n",
    "model.is_condition_shifted = True\n",
    "model.load_state_dict(states[inst])\n",
    "model.eval()\n",
    "prev_xml_path = 'gen_results/CPH_Orch_0308-2320_seq_gmg.musicxml'\n",
    "\n",
    "next_dataset = OrchestraScoreSeq(is_valid=True,\n",
    "                                xml_path=prev_xml_path,\n",
    "                                valid_measure_num = 'entire',\n",
    "                                slice_measure_num=configs[inst].data.max_meas,\n",
    "                                min_meas=configs[inst].data.min_meas,\n",
    "                                feature_types=configs[inst].model.features,\n",
    "                                sampling_rate=configs[inst].data.sampling_rate,\n",
    "                                target_instrument=target_idx)\n",
    "next_dataset.tokenizer = tokenizer\n",
    "next_dataset.result_pairs = [x for x in next_dataset.result_pairs if x[1] == 1]\n",
    "score = stream.Score(id='mainScore')\n",
    "outputs = []\n",
    "prev_generation = None"
   ]
  },
  {
   "cell_type": "code",
   "execution_count": 39,
   "metadata": {},
   "outputs": [],
   "source": [
    "decoder = OrchestraDecoder(tokenizer)\n"
   ]
  },
  {
   "cell_type": "code",
   "execution_count": 37,
   "metadata": {},
   "outputs": [
    {
     "name": "stderr",
     "output_type": "stream",
     "text": [
      "100%|██████████| 128/128 [00:04<00:00, 25.97it/s]\n"
     ]
    }
   ],
   "source": [
    "score = stream.Score(id='mainScore')\n",
    "outputs = []\n",
    "prev_generation = None\n",
    "for i in tqdm(range(len(next_dataset))):\n",
    "  sample, _, _ = next_dataset[i]\n",
    "  _, output_decoded, (attention_map, output, new_out) = model.shifted_inference(sample, target_idx, prev_generation=prev_generation)\n",
    "  if i == 0:\n",
    "    sel_out = torch.cat([output[0:1]] + [get_measure_specific_output(output, i) for i in range(3,6)], dim=0)\n",
    "  else:\n",
    "    sel_out = get_measure_specific_output(output, 5) \n",
    "    duration = sum([note[2] for note in model.converter(sel_out)])\n",
    "    if abs(duration - 30) > 0.1:\n",
    "      break\n",
    "    \n",
    "  prev_generation = get_measure_shifted_output(output)\n",
    "  outputs.append(sel_out)\n",
    "\n",
    "\n"
   ]
  },
  {
   "cell_type": "code",
   "execution_count": 40,
   "metadata": {},
   "outputs": [
    {
     "ename": "NameError",
     "evalue": "name 'gen_by_insts' is not defined",
     "output_type": "error",
     "traceback": [
      "\u001b[0;31m---------------------------------------------------------------------------\u001b[0m",
      "\u001b[0;31mNameError\u001b[0m                                 Traceback (most recent call last)",
      "Cell \u001b[0;32mIn[40], line 3\u001b[0m\n\u001b[1;32m      1\u001b[0m \u001b[38;5;66;03m# outputs.append(get_measure_specific_output(output, 6)) # add last measure\u001b[39;00m\n\u001b[1;32m      2\u001b[0m \u001b[38;5;66;03m# outputs_tensor = torch.cat(outputs, dim=0)\u001b[39;00m\n\u001b[0;32m----> 3\u001b[0m \u001b[43mgen_by_insts\u001b[49m[inst] \u001b[38;5;241m=\u001b[39m decoder(model\u001b[38;5;241m.\u001b[39mconverter(outputs_tensor))\n\u001b[1;32m      4\u001b[0m \u001b[38;5;28;01mfor\u001b[39;00m _ \u001b[38;5;129;01min\u001b[39;00m \u001b[38;5;28mrange\u001b[39m(target_idx\u001b[38;5;241m+\u001b[39m\u001b[38;5;241m1\u001b[39m):\n\u001b[1;32m      5\u001b[0m   score\u001b[38;5;241m.\u001b[39minsert(\u001b[38;5;241m0\u001b[39m, copy\u001b[38;5;241m.\u001b[39mcopy(gen_by_insts[inst]))\n",
      "\u001b[0;31mNameError\u001b[0m: name 'gen_by_insts' is not defined"
     ]
    }
   ],
   "source": [
    "# outputs.append(get_measure_specific_output(output, 6)) # add last measure\n",
    "# outputs_tensor = torch.cat(outputs, dim=0)\n",
    "gen_by_insts[inst] = decoder(model.converter(outputs_tensor))\n",
    "for _ in range(target_idx+1):\n",
    "  score.insert(0, copy.copy(gen_by_insts[inst]))\n",
    "\n",
    "for prev_inst in reversed(inst_codes[:tg_idx]):\n",
    "  score.insert(0, gen_by_insts[prev_inst])\n",
    "    \n",
    "prev_xml_path = output_dir/ f'{save_name}_seq_{inst}.musicxml'\n"
   ]
  },
  {
   "cell_type": "code",
   "execution_count": null,
   "metadata": {},
   "outputs": [],
   "source": []
  },
  {
   "cell_type": "code",
   "execution_count": 50,
   "metadata": {},
   "outputs": [
    {
     "data": {
      "text/plain": [
       "[[4, 'start', 'start', 'start', 'start', 'start'],\n",
       " [5, 46.0, 3.0, 0.0, 'strong', 0],\n",
       " [5, 46.0, 3.0, 3.0, 'weak', 0],\n",
       " [5, 39.0, 3.0, 6.0, 'weak', 0],\n",
       " [5, 56.0, 3.0, 9.0, 'middle', 0],\n",
       " [5, 58.0, 3.0, 12.0, 'weak', 0],\n",
       " [5, 58.0, 3.0, 15.0, 'strong', 0],\n",
       " [5, 58.0, 1.5, 18.0, 'weak', 0],\n",
       " [5, 58.0, 1.5, 19.5, 'weak', 0],\n",
       " [5, 56.0, 1.5, 21.0, 'middle', 0],\n",
       " [5, 58.0, 1.5, 22.5, 'weak', 0],\n",
       " [5, 56.0, 3.0, 24.0, 'weak', 0],\n",
       " [5, 53.0, 3.0, 27.0, 'weak', 0],\n",
       " [5, 58.0, 3.0, 0.0, 'strong', 1],\n",
       " [5, 58.0, 3.0, 3.0, 'weak', 1],\n",
       " [5, 53.0, 3.0, 6.0, 'weak', 1],\n",
       " [5, 51.0, 3.0, 9.0, 'middle', 1],\n",
       " [5, 53.0, 1.5, 12.0, 'weak', 1],\n",
       " [5, 56.0, 1.5, 13.5, 'weak', 1],\n",
       " [5, 56.0, 3.0, 15.0, 'strong', 1],\n",
       " [5, 53.0, 3.0, 18.0, 'weak', 1],\n",
       " [5, 56.0, 3.0, 21.0, 'middle', 1],\n",
       " [5, 56.0, 3.0, 24.0, 'weak', 1],\n",
       " [5, 39.0, 3.0, 27.0, 'weak', 1],\n",
       " [5, 53.0, 3.0, 0.0, 'strong', 2],\n",
       " [5, 53.0, 1.5, 3.0, 'weak', 2],\n",
       " [5, 51.0, 1.5, 4.5, 'weak', 2],\n",
       " [5, 58.0, 3.0, 6.0, 'weak', 2],\n",
       " [5, 51.0, 3.0, 9.0, 'middle', 2],\n",
       " [5, 53.0, 3.0, 12.0, 'weak', 2],\n",
       " [5, 56.0, 3.0, 15.0, 'strong', 2],\n",
       " [5, 56.0, 3.0, 18.0, 'weak', 2],\n",
       " [5, 56.0, 1.5, 21.0, 'middle', 2],\n",
       " [5, 51.0, 1.5, 22.5, 'weak', 2],\n",
       " [5, 53.0, 3.0, 24.0, 'weak', 2],\n",
       " [5, 51.0, 3.0, 27.0, 'weak', 2],\n",
       " [5, 48.0, 3.0, 0.0, 'strong', 3],\n",
       " [5, 46.0, 3.0, 3.0, 'weak', 3],\n",
       " [5, 51.0, 3.0, 6.0, 'weak', 3],\n",
       " [5, 53.0, 3.0, 9.0, 'middle', 3],\n",
       " [5, 51.0, 1.5, 12.0, 'weak', 3],\n",
       " [5, 53.0, 1.5, 13.5, 'weak', 3],\n",
       " [5, 51.0, 3.0, 15.0, 'strong', 3],\n",
       " [5, 51.0, 3.0, 18.0, 'weak', 3],\n",
       " [5, 51.0, 3.0, 21.0, 'middle', 3],\n",
       " [5, 51.0, 3.0, 24.0, 'weak', 3],\n",
       " [5, 39.0, 3.0, 27.0, 'weak', 3],\n",
       " [4, 'end', 'end', 'end', 'end', 'end']]"
      ]
     },
     "execution_count": 50,
     "metadata": {},
     "output_type": "execute_result"
    }
   ],
   "source": [
    "model.converter(sample)"
   ]
  },
  {
   "cell_type": "code",
   "execution_count": 29,
   "metadata": {},
   "outputs": [
    {
     "data": {
      "text/plain": [
       "{'pad': 0,\n",
       " 'start': 1,\n",
       " 'end': 2,\n",
       " 0.0: 3,\n",
       " 0.25: 4,\n",
       " 0.5: 5,\n",
       " 1.0: 6,\n",
       " 1.25: 7,\n",
       " 1.5: 8,\n",
       " 2.0: 9,\n",
       " 2.25: 10,\n",
       " 2.5: 11,\n",
       " 2.75: 12,\n",
       " 3.0: 13,\n",
       " 3.25: 14,\n",
       " 3.5: 15,\n",
       " 4.0: 16,\n",
       " 4.25: 17,\n",
       " 4.5: 18,\n",
       " 4.75: 19,\n",
       " 5.0: 20,\n",
       " 5.25: 21,\n",
       " 5.5: 22,\n",
       " 5.75: 23,\n",
       " 6.0: 24,\n",
       " 6.5: 25,\n",
       " 7.0: 26,\n",
       " 7.25: 27,\n",
       " 7.5: 28,\n",
       " 7.75: 29,\n",
       " 8.0: 30,\n",
       " 8.5: 31,\n",
       " 8.75: 32,\n",
       " 9.0: 33,\n",
       " 9.25: 34,\n",
       " 9.5: 35,\n",
       " 9.75: 36,\n",
       " 10.0: 37,\n",
       " 10.25: 38,\n",
       " 10.5: 39,\n",
       " 10.75: 40,\n",
       " 11.0: 41,\n",
       " 11.25: 42,\n",
       " 11.5: 43,\n",
       " 11.75: 44,\n",
       " 12.0: 45,\n",
       " 12.25: 46,\n",
       " 12.5: 47,\n",
       " 13.0: 48,\n",
       " 13.25: 49,\n",
       " 13.5: 50,\n",
       " 14.0: 51,\n",
       " 14.25: 52,\n",
       " 14.5: 53,\n",
       " 14.75: 54,\n",
       " 15.0: 55,\n",
       " 15.5: 56,\n",
       " 16.0: 57,\n",
       " 16.25: 58,\n",
       " 16.5: 59,\n",
       " 16.75: 60,\n",
       " 17.0: 61,\n",
       " 17.25: 62,\n",
       " 17.5: 63,\n",
       " 17.75: 64,\n",
       " 18.0: 65,\n",
       " 18.25: 66,\n",
       " 18.5: 67,\n",
       " 19.0: 68,\n",
       " 19.25: 69,\n",
       " 19.5: 70,\n",
       " 19.75: 71,\n",
       " 20.0: 72,\n",
       " 20.25: 73,\n",
       " 20.5: 74,\n",
       " 20.75: 75,\n",
       " 21.0: 76,\n",
       " 21.25: 77,\n",
       " 21.5: 78,\n",
       " 21.75: 79,\n",
       " 22.0: 80,\n",
       " 22.25: 81,\n",
       " 22.5: 82,\n",
       " 22.75: 83,\n",
       " 23.0: 84,\n",
       " 23.5: 85,\n",
       " 23.75: 86,\n",
       " 24.0: 87,\n",
       " 24.25: 88,\n",
       " 24.5: 89,\n",
       " 25.0: 90,\n",
       " 25.25: 91,\n",
       " 25.5: 92,\n",
       " 26.0: 93,\n",
       " 26.5: 94,\n",
       " 26.75: 95,\n",
       " 27.0: 96,\n",
       " 27.5: 97,\n",
       " 28.0: 98,\n",
       " 28.25: 99,\n",
       " 28.5: 100,\n",
       " 28.75: 101,\n",
       " 29.0: 102,\n",
       " 29.5: 103,\n",
       " 29.75: 104}"
      ]
     },
     "execution_count": 29,
     "metadata": {},
     "output_type": "execute_result"
    }
   ],
   "source": [
    "tokenizer.tok2idx['offset']"
   ]
  },
  {
   "cell_type": "code",
   "execution_count": 27,
   "metadata": {},
   "outputs": [
    {
     "data": {
      "text/plain": [
       "[[4, 63.0, 3.0, 3.0, 'weak', 2],\n",
       " [4, 58.0, 1.5, 4.5, 'weak', 2],\n",
       " [4, 60.0, 1.5, 6.0, 'weak', 2],\n",
       " [4, 58.0, 1.5, 7.5, 'weak', 2],\n",
       " [4, 56.0, 3.0, 10.5, 'weak', 2],\n",
       " [4, 63.0, 3.0, 13.5, 'weak', 2],\n",
       " [4, 60.0, 3.0, 16.5, 'weak', 2],\n",
       " [4, 63.0, 3.0, 19.5, 'weak', 2],\n",
       " [4, 60.0, 3.0, 22.5, 'weak', 2],\n",
       " [4, 60.0, 3.0, 25.5, 'weak', 2],\n",
       " [4, 63.0, 3.0, 28.5, 'weak', 2],\n",
       " [4, 60.0, 3.0, 1.5, 'weak', 3]]"
      ]
     },
     "execution_count": 27,
     "metadata": {},
     "output_type": "execute_result"
    }
   ],
   "source": [
    "model.converter(sel_out)"
   ]
  }
 ],
 "metadata": {
  "kernelspec": {
   "display_name": "SejongMusic-0Xd-sAL0",
   "language": "python",
   "name": "python3"
  },
  "language_info": {
   "codemirror_mode": {
    "name": "ipython",
    "version": 3
   },
   "file_extension": ".py",
   "mimetype": "text/x-python",
   "name": "python",
   "nbconvert_exporter": "python",
   "pygments_lexer": "ipython3",
   "version": "3.8.10"
  }
 },
 "nbformat": 4,
 "nbformat_minor": 2
}
