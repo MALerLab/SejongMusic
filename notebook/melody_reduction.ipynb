{
 "cells": [
  {
   "cell_type": "code",
   "execution_count": 9,
   "metadata": {},
   "outputs": [
    {
     "name": "stdout",
     "output_type": "stream",
     "text": [
      "/home/danbi/userdata/DANBI/gugakwon/Yeominrak\n",
      "The autoreload extension is already loaded. To reload it, use:\n",
      "  %reload_ext autoreload\n"
     ]
    }
   ],
   "source": [
    "%cd '/home/danbi/userdata/DANBI/gugakwon/Yeominrak'\n",
    "%load_ext autoreload\n",
    "%autoreload 2\n",
    "from music21 import converter, stream, note as m21_note \n",
    "from yeominrak_processing import Gnote, Part, Tokenizer\n",
    "import random as random\n",
    "from typing import List, Set, Dict, Tuple\n",
    "import music21 as m21"
   ]
  },
  {
   "cell_type": "code",
   "execution_count": 49,
   "metadata": {},
   "outputs": [],
   "source": [
    "def get_part_templates(part):\n",
    "  part_templates = []\n",
    "  for measure in part:\n",
    "    note_list = []\n",
    "    # for note in measure:\n",
    "    #   note.pitch = 0\n",
    "    # note_temp = [[note.pitch, note.duration, note.measure_offset, note.dynamic] for note in measure]\n",
    "    note_temp = [[0, note.duration, note.measure_offset, note.dynamic] for note in measure]\n",
    "    if note_temp not in part_templates and len(note_temp) > 0:\n",
    "      part_templates.append(note_temp)\n",
    "  return part_templates\n",
    "\n",
    "class Augmentation:\n",
    "    def __init__(self, xml_path='/home/danbi/userdata/DANBI/gugakwon/Yeominrak/0_edited.musicxml') -> None:\n",
    "        self.xml_path = xml_path\n",
    "        self.score = converter.parse(xml_path)\n",
    "        self.parts = [Part(part, i) for i, part in enumerate(self.score.parts)]\n",
    "        self._get_part_templates()\n",
    "        self.tokenizer = Tokenizer(self.parts)\n",
    "        self.vocab = self.tokenizer.vocab\n",
    "        self.vocab_size_dict = self.tokenizer.vocab_size_dict\n",
    "\n",
    "    def _get_part_templates(self):\n",
    "        self.first_part_temp = get_part_templates([measure for measure in self.parts[0].measures])\n",
    "        self.second_part_temp = get_part_templates([measure for measure in self.parts[1].measures])\n",
    "        self.third_part_temp = get_part_templates([measure for part in self.parts[2:6] for measure in part.measures ])\n",
    "        self.final_part_temp = get_part_templates([measure for measure in self.parts[-1].measures])\n",
    "        # self.score = converter.parse(self.xml_path)\n",
    "        # self.parts = [Part(part, i) for i, part in enumerate(self.score.parts)]\n",
    "        \n",
    "dataset = Augmentation()"
   ]
  },
  {
   "cell_type": "code",
   "execution_count": 50,
   "metadata": {},
   "outputs": [],
   "source": [
    "xml_path='/home/danbi/userdata/DANBI/gugakwon/Yeominrak/0_edited.musicxml'\n",
    "score = converter.parse(xml_path)\n",
    "i = 0\n",
    "part = Part(score.parts[0], 0)\n",
    "  "
   ]
  },
  {
   "cell_type": "code",
   "execution_count": 51,
   "metadata": {},
   "outputs": [],
   "source": [
    "def apply_tie(notes, part_idx) :\n",
    "    tied_notes = []\n",
    "    for note in notes:\n",
    "        if note.tie is not None:\n",
    "            if note.tie.type == 'start':\n",
    "                tied_notes.append(Gnote(note, part_idx))\n",
    "            elif note.tie.type == 'continue':\n",
    "                tied_notes[-1] +=  note\n",
    "            elif note.tie.type == 'stop':\n",
    "                tied_notes[-1] += note\n",
    "            else:\n",
    "                raise ValueError(f'Unknown tie type: {note.tie.type}')\n",
    "        else:\n",
    "            tied_notes.append(Gnote(note, part_idx))\n",
    "        \n",
    "    return tied_notes\n"
   ]
  },
  {
   "cell_type": "code",
   "execution_count": 52,
   "metadata": {},
   "outputs": [],
   "source": [
    "final_part = [measure for measure in dataset.parts[-1].measures]"
   ]
  },
  {
   "cell_type": "code",
   "execution_count": 68,
   "metadata": {},
   "outputs": [
    {
     "data": {
      "text/plain": [
       "[Gnote: 51.0, 1.0, 0.0, strong,\n",
       " Gnote: 51.0, 2.0, 1.0, weak,\n",
       " Gnote: 51.0, 1.0, 3.0, middle,\n",
       " Gnote: 34.0, 0.5, 4.0, weak,\n",
       " Gnote: 51.0, 0.5, 4.5, weak,\n",
       " Gnote: 51.0, 1.0, 5.0, strong,\n",
       " Gnote: 48.0, 1.0, 6.0, weak,\n",
       " Gnote: 48.0, 1.0, 7.0, middle,\n",
       " Gnote: 46.0, 1.0, 8.0, weak,\n",
       " Gnote: 44.0, 1.0, 9.0, weak]"
      ]
     },
     "execution_count": 68,
     "metadata": {},
     "output_type": "execute_result"
    }
   ],
   "source": [
    "final_part[0]"
   ]
  },
  {
   "cell_type": "code",
   "execution_count": 117,
   "metadata": {},
   "outputs": [],
   "source": [
    "import random as random\n",
    "from collections import Counter\n",
    "\n",
    "def modify_single_pitch(data, ratio=0.1): # 일정한 비율로 피치 바꾸기, # Gnote인 경우!\n",
    "  modified_list = []\n",
    "  for note in data:\n",
    "      if random.random() < ratio:\n",
    "          pitch = random.choice(dataset.vocab['pitch'][3:])\n",
    "          note.pitch = pitch\n",
    "          print(\"pitch_changed!\")\n",
    "  return data\n",
    "\n",
    "def modify_pitch(data, ratio=0.1): # 음.. 이미 gnote가 아닌 경우!\n",
    "  modified_list = []\n",
    "  isinstance(data, list)\n",
    "  most_common_note = Counter([note[0] for note in data]).most_common(1)[0][0]\n",
    "  # print('most_common_note', most_common_note)\n",
    "  most_common_pitch_idx = dataset.tokenizer.tok2idx['pitch'][most_common_note]\n",
    "  # print('most_common_pitch_idx', most_common_pitch_idx)\n",
    "  # modify_single_pitch=0\n",
    "  for note in data:\n",
    "    # print(note)\n",
    "    if random.random() < ratio:\n",
    "      if most_common_pitch_idx not in [0,1,2]:\n",
    "        # print(dataset.vocab['pitch'][most_common_pitch_idx-2: most_common_pitch_idx+2])\n",
    "        pitch = random.choice(dataset.vocab['pitch'][most_common_pitch_idx-2: most_common_pitch_idx+2])\n",
    "        # print(pitch)\n",
    "        note[0] = pitch\n",
    "      # print(\"pitch_changed!\")    \n",
    "  return data\n",
    "\n",
    "# a = modify_pitch(final_part[0])\n",
    "# a[:20]"
   ]
  },
  {
   "cell_type": "code",
   "execution_count": 81,
   "metadata": {},
   "outputs": [
    {
     "data": {
      "text/plain": [
       "0"
      ]
     },
     "execution_count": 81,
     "metadata": {},
     "output_type": "execute_result"
    }
   ],
   "source": [
    "dataset.tokenizer.tok2idx['pitch']['pad']"
   ]
  },
  {
   "cell_type": "code",
   "execution_count": 54,
   "metadata": {},
   "outputs": [],
   "source": [
    "def omit_notes(data, convert_num = 2):\n",
    "  print(data[0])\n",
    "  if isinstance(data[0], Gnote):\n",
    "  # try:\n",
    "    note_list = [[note.pitch, note.duration, note.measure_offset, note.dynamic] for note in data]\n",
    "  # except:\n",
    "  else:\n",
    "    note_list = data\n",
    "    # sum_duration = sum([note[1] for note in note_list])\n",
    "  for _ in range(convert_num):  \n",
    "    num_valid_notes = len(note_list) - 2\n",
    "    if num_valid_notes < 2:\n",
    "      break\n",
    "    converted_note_idx = random.randint(1, num_valid_notes)\n",
    "    # print(converted_note_idx)\n",
    "    if note_list[converted_note_idx][1] % 0.5 != 0.0 or note_list[converted_note_idx-1][1] % 0.5 != 0.0:\n",
    "      continue\n",
    "    note_list[converted_note_idx-1][1] += note_list[converted_note_idx][1]\n",
    "    note_list.pop(converted_note_idx )\n",
    "    print(\"omited!\")\n",
    "  return note_list"
   ]
  },
  {
   "cell_type": "code",
   "execution_count": 55,
   "metadata": {},
   "outputs": [
    {
     "data": {
      "text/plain": [
       "(160, 148)"
      ]
     },
     "execution_count": 55,
     "metadata": {},
     "output_type": "execute_result"
    }
   ],
   "source": [
    "valid_measure_idx = [i for i in range(93, 105)]\n",
    "data_set = [measure for i, measure in enumerate(final_part) if i not in valid_measure_idx]\n",
    "len(final_part), len(data_set)"
   ]
  },
  {
   "cell_type": "code",
   "execution_count": 61,
   "metadata": {},
   "outputs": [],
   "source": [
    "from yeominrak_processing import AlignedScore, SamplingScore, pack_collate, ShiftedAlignedScore\n",
    "from decode import MidiDecoder\n",
    "from torch.utils.data import Dataset, DataLoader\n",
    "val_dataset = ShiftedAlignedScore(is_valid= True)\n",
    "valid_loader = DataLoader(val_dataset, batch_size=1, shuffle=False, collate_fn=pack_collate, drop_last=True)\n",
    "\n",
    "decoder = MidiDecoder(valid_loader)"
   ]
  },
  {
   "cell_type": "code",
   "execution_count": 65,
   "metadata": {},
   "outputs": [
    {
     "name": "stdout",
     "output_type": "stream",
     "text": [
      "pitch_changed!\n",
      "Gnote: 51.0, 1.0, 0.0, strong\n",
      "omited!\n",
      "pitch_changed!\n",
      "[51.0, 3.0, 0.0, 'strong']\n",
      "omited!\n",
      "pitch_changed!\n",
      "[51.0, 6.0, 0.0, 'strong']\n",
      "pitch_changed!\n"
     ]
    }
   ],
   "source": [
    "data = final_part[0]\n",
    "# part_idx = 6\n",
    "def make_new_melody_from_final_melodies(data):\n",
    "  # ======= part_idx = 6 ========\n",
    "  part_6 = data.copy()\n",
    "  part_6 = modify_single_pitch(data, ratio=0.1)\n",
    "  part_6 = omit_notes(part_6, convert_num=1)\n",
    "  \n",
    "  # ======= part_idx = 5~2 ========\n",
    "  third_pair_dic = {0.0: 0.0, 1.0: 1.0, 2.0: 2.0, 3.0: 3.0, 4.0:4.0, 5.0: 4.0,\\\n",
    "  6.0:5.0, 7.0:6.0, 8.0:7.0, 9.0:8.0}\n",
    "  \n",
    "  random_idx = random.randint(0, len(dataset.third_part_temp)-1)\n",
    "  random_part_temp_5 = dataset.third_part_temp[random_idx]\n",
    "  part_5 = []\n",
    "  org_note = data[0]\n",
    "  for note in random_part_temp_5:\n",
    "    if float(note[2]) in third_pair_dic.keys():  \n",
    "      org_offset = third_pair_dic[float(note[2])]\n",
    "      for o_note in data:\n",
    "        if o_note.measure_offset == org_offset:\n",
    "          org_note = o_note\n",
    "          break\n",
    "      # org_notes = [note for note in data if note.measure_offset == org_offset]\n",
    "      # if len(org_notes) > 0:\n",
    "      #   org_note = org_notes[0]\n",
    "      # for org_note in data:\n",
    "      #   if org_note.measure_offset == org_offset:\n",
    "      #     break\n",
    "          # note[0] = org_note.pitch\n",
    "          # if note[0] == 0:\n",
    "            # note[0] = random.choice(dataset.vocab['pitch'][3:])\n",
    "            # note[0] = org_note.pitch\n",
    "    # else:\n",
    "      # note[0] = random.choice(dataset.vocab['pitch'][3:])\n",
    "    note[0] = org_note.pitch\n",
    "    part_5.append(note)\n",
    "  part_4 = part_5.copy()\n",
    "  # print(part_4)\n",
    "  part_4 = omit_notes(modify_pitch(part_4, ratio=0.1), convert_num=1)\n",
    "  part_3 = omit_notes(modify_pitch(part_4, ratio=0.1), convert_num=1)\n",
    "  part_2 = modify_pitch(part_3, ratio=0.1)\n",
    "  \n",
    "  # ======= part_idx = 1 ========\n",
    "  second_pair_dic = {0.0: 0.0, 1.0: 1.0, 2.0: 2.0, 3.0: 3.0, 4.0:4.0, 5.0: 4.0, \\\n",
    "                    6.0: 0.0, 7.0: 1.0}\n",
    "  random_part_temp_1 = dataset.second_part_temp[random.randint(0, len(dataset.second_part_temp)-1)]  \n",
    "  part_1 = []\n",
    "  for note in random_part_temp_1:\n",
    "    if float(note[2]) in third_pair_dic.keys():  \n",
    "      org_offset = third_pair_dic[float(note[2])]\n",
    "      for org_note in data:\n",
    "        if org_note.measure_offset == org_offset:\n",
    "          note[0] = org_note.pitch\n",
    "          if note[0] == 0:\n",
    "            note[0] = random.choice(dataset.vocab['pitch'][3:])\n",
    "    else:\n",
    "      note[0] = random.choice(dataset.vocab['pitch'][3:])\n",
    "    part_1.append(note)\n",
    "  \n",
    "  # ======= part_idx = 0 ========\n",
    "  first_pair_dic = {0.0: 0.0, 2.5: 5.0}\n",
    "  random_part_temp_0 = dataset.first_part_temp[random.randint(0, len(dataset.first_part_temp)-1)]\n",
    "  part_0 = []\n",
    "  for note in random_part_temp_0:\n",
    "    if float(note[2]) in third_pair_dic.keys():  \n",
    "      org_offset = third_pair_dic[float(note[2])]\n",
    "      for org_note in data:\n",
    "        if org_note.measure_offset == org_offset:\n",
    "          note[0] = org_note.pitch\n",
    "          if note[0] == 0:\n",
    "            note[0] = random.choice(dataset.vocab['pitch'][3:])\n",
    "    else:\n",
    "      note[0] = random.choice(dataset.vocab['pitch'][3:])\n",
    "    part_0.append(note)\n",
    "  last_part = [[note.pitch, note.duration, note.measure_offset, note.dynamic] for note in data]\n",
    "  # return [last_part, part_6, part_5, part_4, part_3, part_2, part_1, part_0]\n",
    "  return [part_0, part_1, part_2, part_3, part_4, part_5, part_6, last_part]\n",
    "\n",
    "\n"
   ]
  },
  {
   "cell_type": "code",
   "execution_count": 119,
   "metadata": {},
   "outputs": [
    {
     "name": "stdout",
     "output_type": "stream",
     "text": [
      "pitch_changed!\n",
      "Gnote: 44.0, 1.0, 0.0, strong\n",
      "omited!\n",
      "[44.0, 2.0, 0.0, 'strong']\n",
      "omited!\n",
      "[44.0, 2.0, 0.0, 'strong']\n",
      "omited!\n"
     ]
    },
    {
     "data": {
      "image/png": "[encoded data removed]",
      "text/plain": [
       "<IPython.core.display.Image object>"
      ]
     },
     "metadata": {
      "image/png": {
       "height": 90,
       "width": 310
      }
     },
     "output_type": "display_data"
    },
    {
     "data": {
      "image/png": "[encoded data removed]",
      "text/plain": [
       "<IPython.core.display.Image object>"
      ]
     },
     "metadata": {
      "image/png": {
       "height": 81,
       "width": 276
      }
     },
     "output_type": "display_data"
    },
    {
     "data": {
      "image/png": "[encoded data removed]",
      "text/plain": [
       "<IPython.core.display.Image object>"
      ]
     },
     "metadata": {
      "image/png": {
       "height": 79,
       "width": 339
      }
     },
     "output_type": "display_data"
    },
    {
     "data": {
      "image/png": "[encoded data removed]",
      "text/plain": [
       "<IPython.core.display.Image object>"
      ]
     },
     "metadata": {
      "image/png": {
       "height": 79,
       "width": 339
      }
     },
     "output_type": "display_data"
    },
    {
     "data": {
      "image/png": "[encoded data removed]",
      "text/plain": [
       "<IPython.core.display.Image object>"
      ]
     },
     "metadata": {
      "image/png": {
       "height": 79,
       "width": 339
      }
     },
     "output_type": "display_data"
    },
    {
     "data": {
      "image/png": "[encoded data removed]",
      "text/plain": [
       "<IPython.core.display.Image object>"
      ]
     },
     "metadata": {
      "image/png": {
       "height": 79,
       "width": 748
      }
     },
     "output_type": "display_data"
    },
    {
     "data": {
      "image/png": "[encoded data removed]",
      "text/plain": [
       "<IPython.core.display.Image object>"
      ]
     },
     "metadata": {
      "image/png": {
       "height": 90,
       "width": 748
      }
     },
     "output_type": "display_data"
    },
    {
     "data": {
      "image/png": "[encoded data removed]",
      "text/plain": [
       "<IPython.core.display.Image object>"
      ]
     },
     "metadata": {
      "image/png": {
       "height": 91,
       "width": 748
      }
     },
     "output_type": "display_data"
    }
   ],
   "source": [
    "a = make_new_melody_from_final_melodies(data)\n",
    "pair_set = []\n",
    "for idx in range(8):\n",
    "  new_part = [[idx]+note for note in a[idx]]\n",
    "  decoder(new_part).show()"
   ]
  },
  {
   "cell_type": "code",
   "execution_count": 46,
   "metadata": {},
   "outputs": [
    {
     "data": {
      "image/png": "[encoded data removed]",
      "text/plain": [
       "<IPython.core.display.Image object>"
      ]
     },
     "metadata": {
      "image/png": {
       "height": 76,
       "width": 748
      }
     },
     "output_type": "display_data"
    }
   ],
   "source": []
  },
  {
   "cell_type": "code",
   "execution_count": null,
   "metadata": {},
   "outputs": [],
   "source": [
    "pair_dic = {0.0: 0.0, 1.0: 1.0, 2.0: 2.0, 3.0: 3.0, 4.0:4.0, 5.0: 4.0,\\\n",
    "  6.0:5.0, 7.0:6.0, 8.0:7.0, 9.0:8.0}"
   ]
  },
  {
   "cell_type": "code",
   "execution_count": 429,
   "metadata": {},
   "outputs": [
    {
     "data": {
      "text/plain": [
       "0.6000000000000001"
      ]
     },
     "execution_count": 429,
     "metadata": {},
     "output_type": "execute_result"
    }
   ],
   "source": [
    "\n",
    "  if part_idx == 0:\n",
    "    part_temp = dataset.first_part_temp\n",
    "  elif part_idx == 1:\n",
    "    part_temp = dataset.second_part_temp\n",
    "  elif part_idx in [2,3,4,5]:\n",
    "    part_temp = dataset.third_part_temp\n",
    "  elif part_idx in [6,7]:\n",
    "    part_temp = dataset.final_part_temp"
   ]
  },
  {
   "cell_type": "code",
   "execution_count": 80,
   "metadata": {},
   "outputs": [
    {
     "data": {
      "text/plain": [
       "(500, 39)"
      ]
     },
     "execution_count": 80,
     "metadata": {},
     "output_type": "execute_result"
    }
   ],
   "source": [
    "part_templates = []\n",
    "for measure in third_part:\n",
    "  note_list = []\n",
    "  for note in measure:\n",
    "    note.pitch = 0\n",
    "  note_temp = [[note.pitch, note.duration, note.measure_offset] for note in measure]\n",
    "  if note_temp not in part_templates:\n",
    "    part_templates.append(note_temp)\n",
    "len(third_part), len(part_templates)"
   ]
  },
  {
   "cell_type": "code",
   "execution_count": 591,
   "metadata": {},
   "outputs": [],
   "source": [
    "\n"
   ]
  },
  {
   "cell_type": "code",
   "execution_count": 93,
   "metadata": {},
   "outputs": [
    {
     "data": {
      "text/plain": [
       "[[0, 3.0, 0.0], [0, 2.0, 3.0], [0, 2.0, 6.0], [0, 1.0, 8.0], [0, 1.0, 9.0]]"
      ]
     },
     "execution_count": 93,
     "metadata": {},
     "output_type": "execute_result"
    }
   ],
   "source": [
    "first_part_tem = third_part)\n",
    "first_part_tem[8]\n"
   ]
  },
  {
   "cell_type": "code",
   "execution_count": 26,
   "metadata": {},
   "outputs": [
    {
     "data": {
      "text/plain": [
       "[Gnote: 51.0, 1.0, 0.0, strong,\n",
       " Gnote: 51.0, 2.0, 1.0, weak,\n",
       " Gnote: 51.0, 1.0, 3.0, middle,\n",
       " Gnote: 46.0, 0.5, 4.0, weak,\n",
       " Gnote: 51.0, 0.5, 4.5, weak,\n",
       " Gnote: 51.0, 1.0, 5.0, strong,\n",
       " Gnote: 51.0, 1.0, 6.0, weak,\n",
       " Gnote: 48.0, 1.0, 7.0, middle,\n",
       " Gnote: 46.0, 1.0, 8.0, weak,\n",
       " Gnote: 53.0, 1.0, 9.0, weak]"
      ]
     },
     "execution_count": 26,
     "metadata": {},
     "output_type": "execute_result"
    }
   ],
   "source": [
    "# There are note's pitch, duration, offset(from start), measure_number(+1), measure_offset.\n",
    "final_part[0]"
   ]
  }
 ],
 "metadata": {
  "kernelspec": {
   "display_name": "Python 3",
   "language": "python",
   "name": "python3"
  },
  "language_info": {
   "codemirror_mode": {
    "name": "ipython",
    "version": 3
   },
   "file_extension": ".py",
   "mimetype": "text/x-python",
   "name": "python",
   "nbconvert_exporter": "python",
   "pygments_lexer": "ipython3",
   "version": "3.8.10"
  }
 },
 "nbformat": 4,
 "nbformat_minor": 2
}
