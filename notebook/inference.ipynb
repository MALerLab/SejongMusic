{
 "cells": [
  {
   "cell_type": "code",
   "execution_count": 75,
   "metadata": {},
   "outputs": [
    {
     "name": "stdout",
     "output_type": "stream",
     "text": [
      "/home/danbi/userdata/DANBI/gugakwon/Yeominrak\n",
      "The autoreload extension is already loaded. To reload it, use:\n",
      "  %reload_ext autoreload\n"
     ]
    }
   ],
   "source": [
    "%cd '/home/danbi/userdata/DANBI/gugakwon/Yeominrak'\n",
    "%load_ext autoreload\n",
    "%autoreload 2\n",
    "\n",
    "from pathlib import Path\n",
    "import music21\n",
    "from music21 import converter, stream, note as m21_note \n",
    "from typing import List, Set, Dict, Tuple\n",
    "import torch\n",
    "from collections import defaultdict, Counter\n",
    "import copy\n",
    "import numpy as np\n",
    "\n",
    "from yeominrak_processing import AlignedScore, SamplingScore, pack_collate, ShiftedAlignedScore\n",
    "from model import Seq2seq, Converter, AttentionSeq2seq, QkvAttnSeq2seq, get_emb_total_size\n",
    "import random as random\n",
    "from loss import nll_loss\n",
    "from trainer import Trainer\n",
    "from decode import MidiDecoder\n",
    "from torch.nn.utils.rnn import pack_sequence, PackedSequence, pad_packed_sequence, pack_padded_sequence\n",
    "import torch\n",
    "from torch.utils.data import Dataset, DataLoader\n",
    "from omegaconf import OmegaConf\n",
    "from metric import make_dynamic_template, convert_note_to_sampling, get_similarity, get_correspondence"
   ]
  },
  {
   "cell_type": "code",
   "execution_count": 76,
   "metadata": {},
   "outputs": [
    {
     "data": {
      "text/plain": [
       "<All keys matched successfully>"
      ]
     },
     "execution_count": 76,
     "metadata": {},
     "output_type": "execute_result"
    }
   ],
   "source": [
    "config = OmegaConf.load('yamls/baseline.yaml')\n",
    "config = get_emb_total_size(config)\n",
    "device = 'cpu'\n",
    "val_dataset = ShiftedAlignedScore(is_valid= True, slice_measure_num=4)\n",
    "valid_loader = DataLoader(val_dataset, batch_size=4, collate_fn=pack_collate, shuffle=False)\n",
    "model = QkvAttnSeq2seq(val_dataset.tokenizer, config.model).to(device)\n",
    "state = torch.load('best_model.pt')\n",
    "model.load_state_dict(state)"
   ]
  },
  {
   "cell_type": "code",
   "execution_count": null,
   "metadata": {},
   "outputs": [],
   "source": []
  },
  {
   "cell_type": "markdown",
   "metadata": {},
   "source": [
    "### 단일"
   ]
  },
  {
   "cell_type": "code",
   "execution_count": 77,
   "metadata": {},
   "outputs": [
    {
     "data": {
      "text/plain": [
       "defaultdict(list,\n",
       "            {0: [0, 1, 2, 3, 4, 5, 6, 7, 8, 9, 10, 11, 12, 13],\n",
       "             1: [14, 15, 16, 17, 18, 19, 20, 21, 22, 23, 24, 25, 26, 27],\n",
       "             2: [28, 29, 30, 31, 32, 33, 34],\n",
       "             3: [35, 36, 37, 38, 39, 40, 41],\n",
       "             5: [42, 43, 44, 45, 46, 47, 48, 49, 50, 51, 52, 53, 54, 55],\n",
       "             6: [56, 57, 58, 59, 60, 61, 62]})"
      ]
     },
     "execution_count": 77,
     "metadata": {},
     "output_type": "execute_result"
    }
   ],
   "source": [
    "valid_loader = DataLoader(val_dataset, batch_size=len(val_dataset), shuffle=False, collate_fn=pack_collate)\n",
    "model.to('cpu')\n",
    "val_part_idx_info = defaultdict(list)\n",
    "for i, val in enumerate(val_dataset):\n",
    "    val_part_idx_info[int(val[0][0][0])].append(i)\n",
    "val_part_idx_info"
   ]
  },
  {
   "cell_type": "code",
   "execution_count": 78,
   "metadata": {},
   "outputs": [],
   "source": [
    "\n",
    "def get_similarity_with_inference(src, output, dynamic_templates):\n",
    "  sampled_src = convert_note_to_sampling(src, dynamic_templates)\n",
    "  smpled_output = convert_note_to_sampling(output, dynamic_templates)\n",
    "  \n",
    "  measure_similarity = sum([note_1[1]==note_2[1] for note_1, note_2 in zip(sampled_src, smpled_output)])/len(sampled_src)\n",
    "\n",
    "  return measure_similarity\n",
    "\n",
    "def get_correspondence_with_inference(src, output, dynamic_templates):\n",
    "  sampled_src = convert_note_to_sampling(src, dynamic_templates)\n",
    "  smpled_output = convert_note_to_sampling(output, dynamic_templates)\n",
    "  strong_beat_a, strong_beat_b = [], []\n",
    "  for j, note in enumerate(sampled_src):\n",
    "    if note[3] in ['strong', 'middle']:\n",
    "      strong_beat_a.append(note[1])\n",
    "  for j, note in enumerate(smpled_output):\n",
    "    if note[3] in ['strong', 'middle']:\n",
    "      strong_beat_b.append(note[1])  \n",
    "  measure_correspondence = sum([strong_beat_a[idx]==strong_beat_b[idx] for idx in range(len(strong_beat_a))])/len(strong_beat_a)\n",
    "  return measure_correspondence"
   ]
  },
  {
   "cell_type": "code",
   "execution_count": 84,
   "metadata": {},
   "outputs": [
    {
     "name": "stdout",
     "output_type": "stream",
     "text": [
      "16 12\n"
     ]
    },
    {
     "ename": "IndexError",
     "evalue": "list index out of range",
     "output_type": "error",
     "traceback": [
      "\u001b[0;31m---------------------------------------------------------------------------\u001b[0m",
      "\u001b[0;31mIndexError\u001b[0m                                Traceback (most recent call last)",
      "\u001b[1;32m/home/danbi/userdata/DANBI/gugakwon/Yeominrak/notebook/inference.ipynb 셀 7\u001b[0m line \u001b[0;36m<module>\u001b[0;34m\u001b[0m\n\u001b[1;32m     <a href='vscode-notebook-cell://ssh-remote%2B163.239.103.19/home/danbi/userdata/DANBI/gugakwon/Yeominrak/notebook/inference.ipynb#W5sdnNjb2RlLXJlbW90ZQ%3D%3D?line=10'>11</a>\u001b[0m output_midi \u001b[39m=\u001b[39m decoder(output)\n\u001b[1;32m     <a href='vscode-notebook-cell://ssh-remote%2B163.239.103.19/home/danbi/userdata/DANBI/gugakwon/Yeominrak/notebook/inference.ipynb#W5sdnNjb2RlLXJlbW90ZQ%3D%3D?line=12'>13</a>\u001b[0m dynamic_templates \u001b[39m=\u001b[39m make_dynamic_template(offset_list\u001b[39m=\u001b[39mval_dataset\u001b[39m.\u001b[39moffset_list)\n\u001b[0;32m---> <a href='vscode-notebook-cell://ssh-remote%2B163.239.103.19/home/danbi/userdata/DANBI/gugakwon/Yeominrak/notebook/inference.ipynb#W5sdnNjb2RlLXJlbW90ZQ%3D%3D?line=13'>14</a>\u001b[0m get_similarity_with_inference(src, output, dynamic_templates), get_correspondence(src, output, dynamic_templates)\n",
      "\u001b[1;32m/home/danbi/userdata/DANBI/gugakwon/Yeominrak/notebook/inference.ipynb 셀 7\u001b[0m line \u001b[0;36mget_correspondence\u001b[0;34m(src, output, dynamic_templates)\u001b[0m\n\u001b[1;32m     <a href='vscode-notebook-cell://ssh-remote%2B163.239.103.19/home/danbi/userdata/DANBI/gugakwon/Yeominrak/notebook/inference.ipynb#W5sdnNjb2RlLXJlbW90ZQ%3D%3D?line=17'>18</a>\u001b[0m     strong_beat_b\u001b[39m.\u001b[39mappend(note[\u001b[39m1\u001b[39m])\n\u001b[1;32m     <a href='vscode-notebook-cell://ssh-remote%2B163.239.103.19/home/danbi/userdata/DANBI/gugakwon/Yeominrak/notebook/inference.ipynb#W5sdnNjb2RlLXJlbW90ZQ%3D%3D?line=18'>19</a>\u001b[0m \u001b[39mprint\u001b[39m(\u001b[39mlen\u001b[39m(strong_beat_a), \u001b[39mlen\u001b[39m(strong_beat_b))\n\u001b[0;32m---> <a href='vscode-notebook-cell://ssh-remote%2B163.239.103.19/home/danbi/userdata/DANBI/gugakwon/Yeominrak/notebook/inference.ipynb#W5sdnNjb2RlLXJlbW90ZQ%3D%3D?line=19'>20</a>\u001b[0m measure_correspondence \u001b[39m=\u001b[39m \u001b[39msum\u001b[39m([strong_beat_a[idx]\u001b[39m==\u001b[39mstrong_beat_b[idx] \u001b[39mfor\u001b[39;00m idx \u001b[39min\u001b[39;00m \u001b[39mrange\u001b[39m(\u001b[39mlen\u001b[39m(strong_beat_a))])\u001b[39m/\u001b[39m\u001b[39mlen\u001b[39m(strong_beat_a)\n\u001b[1;32m     <a href='vscode-notebook-cell://ssh-remote%2B163.239.103.19/home/danbi/userdata/DANBI/gugakwon/Yeominrak/notebook/inference.ipynb#W5sdnNjb2RlLXJlbW90ZQ%3D%3D?line=20'>21</a>\u001b[0m \u001b[39mreturn\u001b[39;00m measure_correspondence\n",
      "\u001b[1;32m/home/danbi/userdata/DANBI/gugakwon/Yeominrak/notebook/inference.ipynb 셀 7\u001b[0m line \u001b[0;36m<listcomp>\u001b[0;34m(.0)\u001b[0m\n\u001b[1;32m     <a href='vscode-notebook-cell://ssh-remote%2B163.239.103.19/home/danbi/userdata/DANBI/gugakwon/Yeominrak/notebook/inference.ipynb#W5sdnNjb2RlLXJlbW90ZQ%3D%3D?line=17'>18</a>\u001b[0m     strong_beat_b\u001b[39m.\u001b[39mappend(note[\u001b[39m1\u001b[39m])\n\u001b[1;32m     <a href='vscode-notebook-cell://ssh-remote%2B163.239.103.19/home/danbi/userdata/DANBI/gugakwon/Yeominrak/notebook/inference.ipynb#W5sdnNjb2RlLXJlbW90ZQ%3D%3D?line=18'>19</a>\u001b[0m \u001b[39mprint\u001b[39m(\u001b[39mlen\u001b[39m(strong_beat_a), \u001b[39mlen\u001b[39m(strong_beat_b))\n\u001b[0;32m---> <a href='vscode-notebook-cell://ssh-remote%2B163.239.103.19/home/danbi/userdata/DANBI/gugakwon/Yeominrak/notebook/inference.ipynb#W5sdnNjb2RlLXJlbW90ZQ%3D%3D?line=19'>20</a>\u001b[0m measure_correspondence \u001b[39m=\u001b[39m \u001b[39msum\u001b[39m([strong_beat_a[idx]\u001b[39m==\u001b[39mstrong_beat_b[idx] \u001b[39mfor\u001b[39;00m idx \u001b[39min\u001b[39;00m \u001b[39mrange\u001b[39m(\u001b[39mlen\u001b[39m(strong_beat_a))])\u001b[39m/\u001b[39m\u001b[39mlen\u001b[39m(strong_beat_a)\n\u001b[1;32m     <a href='vscode-notebook-cell://ssh-remote%2B163.239.103.19/home/danbi/userdata/DANBI/gugakwon/Yeominrak/notebook/inference.ipynb#W5sdnNjb2RlLXJlbW90ZQ%3D%3D?line=20'>21</a>\u001b[0m \u001b[39mreturn\u001b[39;00m measure_correspondence\n",
      "\u001b[0;31mIndexError\u001b[0m: list index out of range"
     ]
    }
   ],
   "source": [
    "import matplotlib.pyplot as plt\n",
    "valid_dataset_idx = 56\n",
    "output_part_idx = 7\n",
    "\n",
    "sample = valid_loader.dataset[valid_dataset_idx][0]\n",
    "# src, output, attention_map = model.inference(sample, output_part_idx)ㅂ3ㄱ \n",
    "src, output, attention_map = model.shifted_inference(sample, output_part_idx)\n",
    "\n",
    "decoder = MidiDecoder(valid_loader)\n",
    "src_midi = decoder(src)\n",
    "output_midi = decoder(output)\n",
    "\n",
    "dynamic_templates = make_dynamic_template(offset_list=val_dataset.offset_list)\n",
    "get_similarity_with_inference(src, output, dynamic_templates), get_correspondence(src, output, dynamic_templates)\n",
    "# merged_midi = stream.Stream()\n",
    "# for element in src_midi:\n",
    "#     merged_midi.append(element)\n",
    "# for element in output_midi:\n",
    "#     merged_midi.append(element)\n",
    "\n",
    "# merged_midi.write('musicxml.png', \"source_and_output.png\")"
   ]
  },
  {
   "cell_type": "code",
   "execution_count": 88,
   "metadata": {},
   "outputs": [
    {
     "data": {
      "text/plain": [
       "[4.0, 8.0, 10.0, 10.0, 10.0, 10.0, 10.0, 10.0]"
      ]
     },
     "execution_count": 88,
     "metadata": {},
     "output_type": "execute_result"
    }
   ],
   "source": [
    "val_dataset.offset_list"
   ]
  },
  {
   "cell_type": "code",
   "execution_count": 85,
   "metadata": {},
   "outputs": [
    {
     "data": {
      "text/plain": [
       "False"
      ]
     },
     "execution_count": 85,
     "metadata": {},
     "output_type": "execute_result"
    }
   ],
   "source": [
    "sum([note[2] for note in src]) == sum([note[2] for note in output]) \n",
    "  "
   ]
  },
  {
   "cell_type": "code",
   "execution_count": 87,
   "metadata": {},
   "outputs": [
    {
     "data": {
      "text/plain": [
       "[True, False, True]"
      ]
     },
     "execution_count": 87,
     "metadata": {},
     "output_type": "execute_result"
    }
   ],
   "source": [
    "[] + [True]+ [False] + [True]"
   ]
  },
  {
   "cell_type": "markdown",
   "metadata": {},
   "source": [
    "## 순서대로!"
   ]
  },
  {
   "cell_type": "code",
   "execution_count": 81,
   "metadata": {},
   "outputs": [
    {
     "name": "stdout",
     "output_type": "stream",
     "text": [
      "0\n",
      "tensor([[ 1,  1,  1,  1,  1,  1],\n",
      "        [ 1,  5, 13,  3,  3,  3],\n",
      "        [ 1,  4,  6, 19,  3,  3],\n",
      "        [ 1,  5,  6, 22,  5,  3],\n",
      "        [ 1,  4,  6, 25,  5,  3],\n",
      "        [ 1,  6,  9,  3,  3,  4],\n",
      "        [ 1,  5,  6,  7,  5,  4],\n",
      "        [ 1,  4, 11, 11,  4,  4],\n",
      "        [ 1,  4,  6, 22,  5,  4],\n",
      "        [ 1,  4,  6, 25,  5,  4],\n",
      "        [ 1, 11, 13,  3,  3,  5],\n",
      "        [ 1, 11,  9, 19,  3,  5],\n",
      "        [ 1, 13,  6, 25,  5,  5],\n",
      "        [ 1, 11, 11,  3,  3,  6],\n",
      "        [ 1, 11,  9, 11,  4,  6],\n",
      "        [ 1, 11,  6, 19,  3,  6],\n",
      "        [ 1, 11,  9, 22,  5,  6],\n",
      "        [ 1,  2,  2,  2,  2,  2]])\n",
      "1\n",
      "tensor([[ 2,  1,  1,  1,  1,  1],\n",
      "        [ 2,  5,  6,  3,  3,  3],\n",
      "        [ 2,  5,  6,  5,  5,  3],\n",
      "        [ 2,  5,  6,  7,  5,  3],\n",
      "        [ 2,  4, 11, 11,  4,  3],\n",
      "        [ 2,  5,  6, 22,  3,  3],\n",
      "        [ 2,  4,  6, 25,  5,  3],\n",
      "        [ 2,  5,  6, 29,  4,  3],\n",
      "        [ 2,  5,  6, 32,  5,  3],\n",
      "        [ 2,  6, 11,  3,  3,  4],\n",
      "        [ 2,  6, 11, 11,  4,  4],\n",
      "        [ 2,  5,  6, 22,  3,  4],\n",
      "        [ 2,  5,  6, 25,  5,  4],\n",
      "        [ 2,  5,  6, 29,  4,  4],\n",
      "        [ 2,  4,  6, 32,  5,  4],\n",
      "        [ 2,  6, 11,  3,  3,  5],\n",
      "        [ 2,  6, 11, 11,  4,  5],\n",
      "        [ 2,  6,  6, 22,  3,  5],\n",
      "        [ 2,  5,  6, 25,  5,  5],\n",
      "        [ 2,  4,  6, 29,  4,  5],\n",
      "        [ 2,  5,  6, 32,  5,  5],\n",
      "        [ 2, 11, 11,  3,  3,  6],\n",
      "        [ 2, 11, 11, 11,  4,  6],\n",
      "        [ 2, 11,  9, 22,  3,  6],\n",
      "        [ 2, 11,  6, 29,  4,  6],\n",
      "        [ 2, 15,  6, 32,  5,  6],\n",
      "        [ 2,  2,  2,  2,  2,  2]])\n",
      "2\n",
      "tensor([[ 3,  1,  1,  1,  1,  1],\n",
      "        [ 3,  5,  6,  3,  3,  3],\n",
      "        [ 3,  5,  6,  5,  5,  3],\n",
      "        [ 3,  5,  6,  7,  5,  3],\n",
      "        [ 3,  6, 11, 11,  4,  3],\n",
      "        [ 3,  5,  6, 22,  3,  3],\n",
      "        [ 3,  6,  6, 25,  5,  3],\n",
      "        [ 3,  5,  6, 29,  4,  3],\n",
      "        [ 3,  4,  6, 32,  5,  3],\n",
      "        [ 3,  5, 11,  3,  3,  4],\n",
      "        [ 3,  6, 11, 11,  4,  4],\n",
      "        [ 3,  5,  6, 22,  3,  4],\n",
      "        [ 3,  5,  6, 25,  5,  4],\n",
      "        [ 3,  4,  6, 29,  4,  4],\n",
      "        [ 3,  4,  6, 32,  5,  4],\n",
      "        [ 3,  6, 11,  3,  3,  5],\n",
      "        [ 3,  6, 11, 11,  4,  5],\n",
      "        [ 3,  6,  6, 22,  3,  5],\n",
      "        [ 3,  5,  6, 25,  5,  5],\n",
      "        [ 3,  4,  6, 29,  4,  5],\n",
      "        [ 3,  5,  6, 32,  5,  5],\n",
      "        [ 3, 11, 11,  3,  3,  6],\n",
      "        [ 3, 11, 11, 11,  4,  6],\n",
      "        [ 3, 11,  6, 22,  3,  6],\n",
      "        [ 3, 11,  9, 25,  5,  6],\n",
      "        [ 3, 11,  6, 32,  5,  6],\n",
      "        [ 3,  2,  2,  2,  2,  2]])\n",
      "3\n",
      "tensor([[ 4,  1,  1,  1,  1,  1],\n",
      "        [ 4,  5,  6,  3,  3,  3],\n",
      "        [ 4,  5,  6,  5,  5,  3],\n",
      "        [ 4,  7,  6,  7,  5,  3],\n",
      "        [ 4,  6, 11, 11,  4,  3],\n",
      "        [ 4,  5,  6, 22,  3,  3],\n",
      "        [ 4,  4,  6, 25,  5,  3],\n",
      "        [ 4,  5,  6, 29,  4,  3],\n",
      "        [ 4,  4,  6, 32,  5,  3],\n",
      "        [ 4,  5,  6,  3,  3,  4],\n",
      "        [ 4,  6,  6,  5,  5,  4],\n",
      "        [ 4,  5,  6,  7,  5,  4],\n",
      "        [ 4,  4, 11, 11,  4,  4],\n",
      "        [ 4,  5,  6, 22,  3,  4],\n",
      "        [ 4,  4,  6, 25,  5,  4],\n",
      "        [ 4,  5,  6, 29,  4,  4],\n",
      "        [ 4,  4,  6, 32,  5,  4],\n",
      "        [ 4,  6,  6,  3,  3,  5],\n",
      "        [ 4,  5,  6,  5,  5,  5],\n",
      "        [ 4,  4,  6,  7,  5,  5],\n",
      "        [ 4,  6, 11, 11,  4,  5],\n",
      "        [ 4,  5,  6, 22,  3,  5],\n",
      "        [ 4,  6,  6, 25,  5,  5],\n",
      "        [ 4,  5,  6, 29,  4,  5],\n",
      "        [ 4,  4,  6, 32,  5,  5],\n",
      "        [ 4,  6,  6,  3,  3,  6],\n",
      "        [ 4,  5,  6,  5,  5,  6],\n",
      "        [ 4,  4,  6,  7,  5,  6],\n",
      "        [ 4,  6, 11, 11,  4,  6],\n",
      "        [ 4,  5,  6, 22,  3,  6],\n",
      "        [ 4,  4,  6, 25,  5,  6],\n",
      "        [ 4,  5,  6, 29,  4,  6],\n",
      "        [ 4,  4,  6, 32,  5,  6],\n",
      "        [ 4,  2,  2,  2,  2,  2]])\n"
     ]
    },
    {
     "name": "stdout",
     "output_type": "stream",
     "text": [
      "4\n",
      "tensor([[ 5,  1,  1,  1,  1,  1],\n",
      "        [ 5,  5,  6,  3,  3,  3],\n",
      "        [ 5,  5,  6,  5,  5,  3],\n",
      "        [ 5,  7,  6,  7,  5,  3],\n",
      "        [ 5,  6, 11, 11,  4,  3],\n",
      "        [ 5,  5,  6, 22,  3,  3],\n",
      "        [ 5,  4,  6, 25,  5,  3],\n",
      "        [ 5,  5,  6, 29,  4,  3],\n",
      "        [ 5,  7,  6, 32,  5,  3],\n",
      "        [ 5,  6,  6,  3,  3,  4],\n",
      "        [ 5,  6,  6,  5,  5,  4],\n",
      "        [ 5,  7,  6,  7,  5,  4],\n",
      "        [ 5,  6, 11, 11,  4,  4],\n",
      "        [ 5,  5,  6, 22,  3,  4],\n",
      "        [ 5,  4,  6, 25,  5,  4],\n",
      "        [ 5,  5,  6, 29,  4,  4],\n",
      "        [ 5,  7,  6, 32,  5,  4],\n",
      "        [ 5,  6,  6,  3,  3,  5],\n",
      "        [ 5,  6,  6,  5,  5,  5],\n",
      "        [ 5,  4,  6,  7,  5,  5],\n",
      "        [ 5,  6, 11, 11,  4,  5],\n",
      "        [ 5,  5,  6, 22,  3,  5],\n",
      "        [ 5,  4,  6, 25,  5,  5],\n",
      "        [ 5,  5,  6, 29,  4,  5],\n",
      "        [ 5,  7,  6, 32,  5,  5],\n",
      "        [ 5,  6, 11,  3,  3,  6],\n",
      "        [ 5,  6, 11, 11,  4,  6],\n",
      "        [ 5,  6,  6, 22,  3,  6],\n",
      "        [ 5,  5,  6, 25,  5,  6],\n",
      "        [ 5,  6,  6, 29,  4,  6],\n",
      "        [ 5,  5,  6, 32,  5,  6],\n",
      "        [ 5,  2,  2,  2,  2,  2]])\n",
      "5\n",
      "tensor([[ 6,  1,  1,  1,  1,  1],\n",
      "        [ 6,  5,  6,  3,  3,  3],\n",
      "        [ 6,  5,  6,  5,  5,  3],\n",
      "        [ 6,  7,  6,  7,  5,  3],\n",
      "        [ 6,  7,  6, 11,  4,  3],\n",
      "        [ 6,  3,  6, 15,  5,  3],\n",
      "        [ 6,  5,  6, 19,  3,  3],\n",
      "        [ 6,  7,  6, 22,  5,  3],\n",
      "        [ 6,  4,  6, 25,  4,  3],\n",
      "        [ 6,  5,  6, 29,  5,  3],\n",
      "        [ 6,  7,  6, 32,  5,  3],\n",
      "        [ 6,  6,  6,  3,  3,  4],\n",
      "        [ 6,  6,  6,  5,  5,  4],\n",
      "        [ 6,  7,  6,  7,  5,  4],\n",
      "        [ 6,  6,  6, 11,  4,  4],\n",
      "        [ 6,  6,  6, 15,  5,  4],\n",
      "        [ 6,  7,  6, 19,  3,  4],\n",
      "        [ 6,  9,  6, 22,  5,  4],\n",
      "        [ 6,  9,  6, 25,  4,  4],\n",
      "        [ 6,  4,  6, 29,  5,  4],\n",
      "        [ 6,  4,  6, 32,  5,  4],\n",
      "        [ 6,  5,  6,  3,  3,  5],\n",
      "        [ 6,  7,  6,  5,  5,  5],\n",
      "        [ 6,  7,  6,  7,  5,  5],\n",
      "        [ 6,  6,  6, 11,  4,  5],\n",
      "        [ 6,  7,  6, 15,  5,  5],\n",
      "        [ 6,  6,  6, 19,  3,  5],\n",
      "        [ 6,  6,  6, 22,  5,  5],\n",
      "        [ 6,  6,  6, 25,  4,  5],\n",
      "        [ 6,  7,  6, 29,  5,  5],\n",
      "        [ 6,  7,  6, 32,  5,  5],\n",
      "        [ 6,  6,  6,  3,  3,  6],\n",
      "        [ 6,  6,  6,  5,  5,  6],\n",
      "        [ 6,  4,  6,  7,  5,  6],\n",
      "        [ 6,  6,  6, 11,  4,  6],\n",
      "        [ 6,  6,  6, 15,  5,  6],\n",
      "        [ 6,  7,  6, 19,  3,  6],\n",
      "        [ 6,  4,  6, 22,  5,  6],\n",
      "        [ 6,  7,  6, 25,  4,  6],\n",
      "        [ 6,  6,  6, 29,  5,  6],\n",
      "        [ 6,  7,  6, 32,  5,  6],\n",
      "        [ 6,  2,  2,  2,  2,  2]])\n",
      "6\n",
      "tensor([[ 7,  1,  1,  1,  1,  1],\n",
      "        [ 7,  5,  6,  3,  3,  3],\n",
      "        [ 7,  7,  6,  5,  5,  3],\n",
      "        [ 7,  7,  6,  7,  5,  3],\n",
      "        [ 7,  7,  6, 11,  4,  3],\n",
      "        [ 7,  3,  6, 15,  5,  3],\n",
      "        [ 7,  7,  6, 19,  3,  3],\n",
      "        [ 7,  6,  6, 22,  5,  3],\n",
      "        [ 7,  7,  6, 25,  4,  3],\n",
      "        [ 7,  6,  6, 29,  5,  3],\n",
      "        [ 7,  7,  6, 32,  5,  3],\n",
      "        [ 7,  5,  6,  3,  3,  4],\n",
      "        [ 7,  7,  4,  5,  5,  4],\n",
      "        [ 7,  5,  4,  6,  5,  4],\n",
      "        [ 7,  4,  6,  7,  5,  4],\n",
      "        [ 7,  6,  6, 11,  4,  4],\n",
      "        [ 7,  6,  6, 15,  5,  4],\n",
      "        [ 7,  5,  6, 19,  3,  4],\n",
      "        [ 7,  6,  6, 22,  5,  4],\n",
      "        [ 7,  7,  6, 25,  4,  4],\n",
      "        [ 7,  6,  6, 29,  5,  4],\n",
      "        [ 7,  7,  6, 32,  5,  4],\n",
      "        [ 7,  7,  6,  3,  3,  5],\n",
      "        [ 7,  7,  6,  5,  5,  5],\n",
      "        [ 7,  4,  6,  7,  5,  5],\n",
      "        [ 7,  7,  6, 11,  4,  5],\n",
      "        [ 7,  7,  6, 15,  5,  5],\n",
      "        [ 7,  7,  6, 19,  3,  5],\n",
      "        [ 7,  7,  6, 22,  5,  5],\n",
      "        [ 7,  7,  6, 25,  4,  5],\n",
      "        [ 7,  6,  6, 29,  5,  5],\n",
      "        [ 7,  6,  6, 32,  5,  5],\n",
      "        [ 7,  5,  6,  3,  3,  6],\n",
      "        [ 7,  5,  6,  5,  5,  6],\n",
      "        [ 7,  7,  6,  7,  5,  6],\n",
      "        [ 7,  7,  6, 11,  4,  6],\n",
      "        [ 7,  6,  6, 15,  5,  6],\n",
      "        [ 7,  5,  6, 19,  3,  6],\n",
      "        [ 7,  7,  6, 22,  5,  6],\n",
      "        [ 7,  7,  6, 25,  4,  6],\n",
      "        [ 7,  6,  6, 29,  5,  6],\n",
      "        [ 7,  7,  6, 32,  5,  6],\n",
      "        [ 7,  2,  2,  2,  2,  2]])\n"
     ]
    },
    {
     "data": {
      "text/plain": [
       "PosixPath('/home/danbi/userdata/DANBI/gugakwon/Yeominrak/source_and_output-1.png')"
      ]
     },
     "execution_count": 81,
     "metadata": {},
     "output_type": "execute_result"
    }
   ],
   "source": [
    "valid_dataset_idx = 1\n",
    "output_part_idx = 1\n",
    "decoder = MidiDecoder(valid_loader)\n",
    "merged_midi = stream.Stream()\n",
    "sample = valid_loader.dataset[valid_dataset_idx][0]\n",
    "\n",
    "for i in range(7):    \n",
    "  src, output, attention_map = model.shifted_inference(sample, output_part_idx)\n",
    "  if i == 0:\n",
    "    src_midi = decoder(src)\n",
    "    for element in src_midi:\n",
    "      merged_midi.append(element)\n",
    "  print(i)\n",
    "  output_midi = decoder(output)\n",
    "  for element in output_midi:\n",
    "    merged_midi.append(element)\n",
    "  pred, condition = [note[:3] for note in output], [note[3:] for note in output]\n",
    "  output = [pred[0] + [0, 'strong', 0]] + [pr + con for pr, con in zip(pred[1:], condition[:-1])] + [[i+1, 'end', 'end', 'end', 'end', 'end']]\n",
    "  output = [[i+1, 'start', 'start', 'start', 'start', 'start']] + output\n",
    "  sample = [val_dataset.tokenizer(note) for note in output]\n",
    "  sample = torch.Tensor(sample).long()\n",
    "  print(sample)\n",
    "  output_part_idx += 1\n",
    "\n",
    "merged_midi.write('musicxml.png', \"source_and_output.png\")\n",
    "\n",
    "\n",
    "# src, output, attention_map = model.inference(sample, output_part_idx)\n",
    "\n",
    "\n",
    "\n",
    "\n",
    "\n"
   ]
  },
  {
   "cell_type": "code",
   "execution_count": 82,
   "metadata": {},
   "outputs": [
    {
     "data": {
      "text/plain": [
       "<matplotlib.image.AxesImage at 0x7fab402c27f0>"
      ]
     },
     "execution_count": 82,
     "metadata": {},
     "output_type": "execute_result"
    },
    {
     "data": {
      "image/png": "[encoded data removed]",
      "text/plain": [
       "<Figure size 432x288 with 1 Axes>"
      ]
     },
     "metadata": {
      "image/png": {
       "height": 249,
       "width": 250
      },
      "needs_background": "light"
     },
     "output_type": "display_data"
    }
   ],
   "source": [
    "import matplotlib.pyplot as plt\n",
    "\n",
    "plt.imshow(attention_map)"
   ]
  },
  {
   "cell_type": "code",
   "execution_count": 83,
   "metadata": {},
   "outputs": [
    {
     "data": {
      "text/plain": [
       "tensor([[ 7,  1,  1,  1,  1,  1],\n",
       "        [ 7,  5,  6,  3,  3,  3],\n",
       "        [ 7,  7,  6,  5,  5,  3],\n",
       "        [ 7,  7,  6,  7,  5,  3],\n",
       "        [ 7,  7,  6, 11,  4,  3],\n",
       "        [ 7,  3,  6, 15,  5,  3],\n",
       "        [ 7,  7,  6, 19,  3,  3],\n",
       "        [ 7,  6,  6, 22,  5,  3],\n",
       "        [ 7,  7,  6, 25,  4,  3],\n",
       "        [ 7,  6,  6, 29,  5,  3],\n",
       "        [ 7,  7,  6, 32,  5,  3],\n",
       "        [ 7,  5,  6,  3,  3,  4],\n",
       "        [ 7,  7,  4,  5,  5,  4],\n",
       "        [ 7,  5,  4,  6,  5,  4],\n",
       "        [ 7,  4,  6,  7,  5,  4],\n",
       "        [ 7,  6,  6, 11,  4,  4],\n",
       "        [ 7,  6,  6, 15,  5,  4],\n",
       "        [ 7,  5,  6, 19,  3,  4],\n",
       "        [ 7,  6,  6, 22,  5,  4],\n",
       "        [ 7,  7,  6, 25,  4,  4],\n",
       "        [ 7,  6,  6, 29,  5,  4],\n",
       "        [ 7,  7,  6, 32,  5,  4],\n",
       "        [ 7,  7,  6,  3,  3,  5],\n",
       "        [ 7,  7,  6,  5,  5,  5],\n",
       "        [ 7,  4,  6,  7,  5,  5],\n",
       "        [ 7,  7,  6, 11,  4,  5],\n",
       "        [ 7,  7,  6, 15,  5,  5],\n",
       "        [ 7,  7,  6, 19,  3,  5],\n",
       "        [ 7,  7,  6, 22,  5,  5],\n",
       "        [ 7,  7,  6, 25,  4,  5],\n",
       "        [ 7,  6,  6, 29,  5,  5],\n",
       "        [ 7,  6,  6, 32,  5,  5],\n",
       "        [ 7,  5,  6,  3,  3,  6],\n",
       "        [ 7,  5,  6,  5,  5,  6],\n",
       "        [ 7,  7,  6,  7,  5,  6],\n",
       "        [ 7,  7,  6, 11,  4,  6],\n",
       "        [ 7,  6,  6, 15,  5,  6],\n",
       "        [ 7,  5,  6, 19,  3,  6],\n",
       "        [ 7,  7,  6, 22,  5,  6],\n",
       "        [ 7,  7,  6, 25,  4,  6],\n",
       "        [ 7,  6,  6, 29,  5,  6],\n",
       "        [ 7,  7,  6, 32,  5,  6],\n",
       "        [ 7,  2,  2,  2,  2,  2]])"
      ]
     },
     "execution_count": 83,
     "metadata": {},
     "output_type": "execute_result"
    }
   ],
   "source": [
    "sample"
   ]
  }
 ],
 "metadata": {
  "kernelspec": {
   "display_name": "Python 3",
   "language": "python",
   "name": "python3"
  },
  "language_info": {
   "codemirror_mode": {
    "name": "ipython",
    "version": 3
   },
   "file_extension": ".py",
   "mimetype": "text/x-python",
   "name": "python",
   "nbconvert_exporter": "python",
   "pygments_lexer": "ipython3",
   "version": "3.8.10"
  }
 },
 "nbformat": 4,
 "nbformat_minor": 2
}
