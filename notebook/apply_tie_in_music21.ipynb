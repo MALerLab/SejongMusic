{
 "cells": [
  {
   "cell_type": "code",
   "execution_count": 1,
   "metadata": {},
   "outputs": [],
   "source": [
    "import music21"
   ]
  },
  {
   "cell_type": "code",
   "execution_count": 2,
   "metadata": {},
   "outputs": [],
   "source": [
    "from music21 import converter\n",
    "\n",
    "score_fn = '../music_score/chihwapyeong_evom.musicxml'\n",
    "\n",
    "score = converter.parse(score_fn)"
   ]
  },
  {
   "cell_type": "code",
   "execution_count": 9,
   "metadata": {},
   "outputs": [],
   "source": [
    "from typing import List\n",
    "class Gnote:\n",
    "    def __init__(self, note: music21.note.Note, part_idx:int) -> None:\n",
    "        self.note = [note]  \n",
    "\n",
    "        self.pitch = note.pitch.ps\n",
    "        self.tie = note.tie\n",
    "        self.part_idx = part_idx\n",
    "        if part_idx == 0:\n",
    "            self.pitch -= (9+12) # C4 -> EB2\n",
    "        self.measure_number = note.measureNumber\n",
    "        self.offset = note.offset\n",
    "        self.measure_offset = 0.0 # dummy value, float로 함!(offset: float)\n",
    "        # self.duration = sum([note.duration.quarterLength for note in self.note])\n",
    "        # self.dynamic = 0.0\n",
    "        \n",
    "    def __add__(self, note: music21.note.Note):\n",
    "        # assert self.pitch == note.pitch.ps\n",
    "        self.note.append(note)\n",
    "        return self\n",
    "\n",
    "    @property\n",
    "    def duration(self):\n",
    "        return sum([note.duration.quarterLength for note in self.note])\n",
    "\n",
    "    @property\n",
    "    def end_measure_number(self):\n",
    "        return self.note[-1].measureNumber\n",
    "  \n",
    "    \n",
    "    def __repr__(self) -> str:\n",
    "        return f'Gnote: {self.pitch}, {self.duration}, {self.measure_offset}'\n",
    "\n",
    "\n",
    "def apply_tie(notes: List[music21.note.Note], part_idx) -> List[music21.note.Note]:\n",
    "    tied_notes = []\n",
    "    for note in notes:\n",
    "        if note.tie is not None:\n",
    "            if note.tie.type == 'start':\n",
    "                tied_notes.append(Gnote(note, part_idx))\n",
    "            elif note.tie.type == 'continue':\n",
    "                tied_notes[-1] +=  note\n",
    "            elif note.tie.type == 'stop':\n",
    "                tied_notes[-1] += note\n",
    "            else:\n",
    "                raise ValueError(f'Unknown tie type: {note.tie.type}')\n",
    "        else:\n",
    "            tied_notes.append(Gnote(note, part_idx))\n",
    "        \n",
    "    return tied_notes\n"
   ]
  },
  {
   "cell_type": "code",
   "execution_count": 11,
   "metadata": {},
   "outputs": [],
   "source": [
    "for idx, part in enumerate(score.parts):\n",
    "  tied_notes = apply_tie(part.flat.notes, idx)\n",
    "  break"
   ]
  },
  {
   "cell_type": "code",
   "execution_count": 12,
   "metadata": {},
   "outputs": [
    {
     "data": {
      "text/plain": [
       "[Gnote: 54.0, 0.25, 0.0,\n",
       " Gnote: 54.0, 1.25, 0.0,\n",
       " Gnote: 54.0, 1.0, 0.0,\n",
       " Gnote: 56.0, 0.5, 0.0,\n",
       " Gnote: 61.0, 0.25, 0.0,\n",
       " Gnote: 56.0, 0.75, 0.0,\n",
       " Gnote: 56.0, 0.75, 0.0,\n",
       " Gnote: 47.0, 0.25, 0.0,\n",
       " Gnote: 54.0, 1.25, 0.0,\n",
       " Gnote: 56.0, 0.25, 0.0]"
      ]
     },
     "execution_count": 12,
     "metadata": {},
     "output_type": "execute_result"
    }
   ],
   "source": [
    "tied_notes[:10]"
   ]
  },
  {
   "cell_type": "code",
   "execution_count": 13,
   "metadata": {},
   "outputs": [],
   "source": [
    "stream = music21.stream.Stream()\n",
    "for note in tied_notes:\n",
    "    stream.append(music21.note.Note(note.pitch, quarterLength=note.duration))"
   ]
  },
  {
   "cell_type": "code",
   "execution_count": 14,
   "metadata": {},
   "outputs": [
    {
     "data": {
      "text/plain": [
       "PosixPath('/home/teo/userdata/SejongMusic/notebook/tie_test.musicxml')"
      ]
     },
     "execution_count": 14,
     "metadata": {},
     "output_type": "execute_result"
    }
   ],
   "source": [
    "stream.write('musicxml', 'tie_test.musicxml')"
   ]
  }
 ],
 "metadata": {
  "kernelspec": {
   "display_name": "SejongMusic-0Xd-sAL0",
   "language": "python",
   "name": "python3"
  },
  "language_info": {
   "codemirror_mode": {
    "name": "ipython",
    "version": 3
   },
   "file_extension": ".py",
   "mimetype": "text/x-python",
   "name": "python",
   "nbconvert_exporter": "python",
   "pygments_lexer": "ipython3",
   "version": "3.8.10"
  }
 },
 "nbformat": 4,
 "nbformat_minor": 2
}
