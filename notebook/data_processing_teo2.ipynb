{
 "cells": [
  {
   "cell_type": "code",
   "execution_count": 1,
   "metadata": {},
   "outputs": [
    {
     "name": "stdout",
     "output_type": "stream",
     "text": [
      "/home/teo/userdata/git_libraries/Yeominrak\n"
     ]
    }
   ],
   "source": [
    "%cd ..\n",
    "%load_ext autoreload\n",
    "%autoreload 2"
   ]
  },
  {
   "cell_type": "code",
   "execution_count": 2,
   "metadata": {},
   "outputs": [],
   "source": [
    "from pathlib import Path\n",
    "import music21\n",
    "from music21 import converter, stream, note as m21_note \n",
    "from typing import List, Set, Dict, Tuple\n",
    "import torch\n",
    "from collections import defaultdict, Counter\n",
    "import copy\n",
    "import numpy as np\n",
    "\n",
    "from yeominrak_processing import AlignedScore, SamplingScore, pack_collate, ShiftedAlignedScore\n",
    "from model_zoo import Seq2seq, Converter, AttentionSeq2seq, QkvAttnSeq2seq, get_emb_total_size\n",
    "import random as random\n",
    "from loss import nll_loss\n",
    "from trainer import Trainer\n",
    "from decode import MidiDecoder\n",
    "from torch.nn.utils.rnn import pack_sequence, PackedSequence, pad_packed_sequence, pack_padded_sequence\n",
    "import torch\n",
    "from torch.utils.data import Dataset, DataLoader\n",
    "from omegaconf import OmegaConf"
   ]
  },
  {
   "cell_type": "code",
   "execution_count": 3,
   "metadata": {},
   "outputs": [],
   "source": [
    "config = OmegaConf.load('yamls/baseline.yaml')\n",
    "config = get_emb_total_size(config)"
   ]
  },
  {
   "cell_type": "code",
   "execution_count": 3,
   "metadata": {},
   "outputs": [],
   "source": [
    "train_dataset = ShiftedAlignedScore(is_valid= False, min_meas=4, max_meas=6, use_pitch_modification=True, pitch_modification_ratio=0.3)\n",
    "val_dataset = ShiftedAlignedScore(is_valid= True, slice_measure_num=4)\n",
    "train_loader = DataLoader(train_dataset, batch_size=64 , shuffle=True, collate_fn=pack_collate)\n",
    "valid_loader = DataLoader(val_dataset, batch_size=1, shuffle=False, collate_fn=pack_collate, drop_last=True)"
   ]
  },
  {
   "cell_type": "code",
   "execution_count": 4,
   "metadata": {},
   "outputs": [
    {
     "data": {
      "text/plain": [
       "[Gnote: 46.0, 0.5, 0.0, strong,\n",
       " Gnote: 51.0, 0.5, 0.5, weak,\n",
       " Gnote: 39.0, 0.0, 1.0, weak,\n",
       " Gnote: 51.0, 1.0, 1.0, weak,\n",
       " Gnote: 51.0, 1.0, 2.0, weak,\n",
       " Gnote: 48.0, 0.5, 3.0, middle,\n",
       " Gnote: 51.0, 0.5, 3.5, weak,\n",
       " Gnote: 53.0, 0.5, 4.0, weak,\n",
       " Gnote: 56.0, 0.5, 4.5, weak,\n",
       " Gnote: 39.0, 0.0, 5.0, strong,\n",
       " Gnote: 56.0, 1.0, 5.0, strong,\n",
       " Gnote: 56.0, 1.0, 6.0, weak,\n",
       " Gnote: 53.0, 1.0, 7.0, middle,\n",
       " Gnote: 51.0, 1.0, 8.0, weak,\n",
       " Gnote: 51.0, 1.0, 9.0, weak]"
      ]
     },
     "execution_count": 4,
     "metadata": {},
     "output_type": "execute_result"
    }
   ],
   "source": [
    "val_dataset.parts[-1].measures[1]"
   ]
  },
  {
   "cell_type": "code",
   "execution_count": 48,
   "metadata": {},
   "outputs": [
    {
     "data": {
      "text/plain": [
       "[[7, 39.0, 0.0, 0.0, 'strong', 7],\n",
       " [7, 41.0, 1.0, 0.0, 'strong', 7],\n",
       " [7, 46.0, 0.5, 1.0, 'weak', 7],\n",
       " [7, 41.0, 0.5, 1.5, 'weak', 7],\n",
       " [7, 39.0, 1.0, 2.0, 'weak', 7],\n",
       " [7, 44.0, 1.0, 3.0, 'middle', 7],\n",
       " [7, 44.0, 1.0, 4.0, 'weak', 7],\n",
       " [7, 41.0, 1.0, 5.0, 'strong', 7],\n",
       " [7, 44.0, 1.0, 6.0, 'weak', 7],\n",
       " [7, 46.0, Fraction(1, 3), 7.0, 'middle', 7],\n",
       " [7, 44.0, Fraction(1, 3), 7.333, 'weak', 7],\n",
       " [7, 41.0, Fraction(1, 3), 7.666, 'weak', 7],\n",
       " [7, 39.0, 1.0, 8.0, 'weak', 7],\n",
       " [7, 39.0, 1.0, 9.0, 'weak', 7]]"
      ]
     },
     "execution_count": 48,
     "metadata": {},
     "output_type": "execute_result"
    }
   ],
   "source": [
    "val_dataset.measure_features[-1][6]"
   ]
  },
  {
   "cell_type": "code",
   "execution_count": null,
   "metadata": {},
   "outputs": [],
   "source": [
    "a, b, c = val_dataset.get_processed_feature"
   ]
  },
  {
   "cell_type": "code",
   "execution_count": 40,
   "metadata": {},
   "outputs": [
    {
     "data": {
      "image/png": "[encoded data removed]",
      "text/plain": [
       "<IPython.core.display.Image object>"
      ]
     },
     "metadata": {
      "image/png": {
       "height": 79,
       "width": 748
      }
     },
     "output_type": "display_data"
    }
   ],
   "source": [
    "a, b, c = val_dataset.get_processed_feature(7, 7, [1])\n",
    "decoder(encoding_converter(b[1:])).show()"
   ]
  },
  {
   "cell_type": "code",
   "execution_count": 44,
   "metadata": {},
   "outputs": [
    {
     "data": {
      "text/plain": [
       "[[7, 46.0, 1, 'strong'],\n",
       " [7, 46.0, 0, 'none'],\n",
       " [7, 46.0, 0, 'none'],\n",
       " [7, 51.0, 1, 'none'],\n",
       " [7, 51.0, 0, 'none'],\n",
       " [7, 51.0, 0, 'none'],\n",
       " [7, 51.0, 1, 'weak'],\n",
       " [7, 51.0, 0, 'none'],\n",
       " [7, 51.0, 0, 'none'],\n",
       " [7, 51.0, 0, 'none'],\n",
       " [7, 51.0, 0, 'none'],\n",
       " [7, 51.0, 0, 'none'],\n",
       " [7, 51.0, 1, 'weak'],\n",
       " [7, 51.0, 0, 'none'],\n",
       " [7, 51.0, 0, 'none'],\n",
       " [7, 51.0, 0, 'none'],\n",
       " [7, 51.0, 0, 'none'],\n",
       " [7, 51.0, 0, 'none'],\n",
       " [7, 48.0, 1, 'middle'],\n",
       " [7, 48.0, 0, 'none'],\n",
       " [7, 48.0, 0, 'none'],\n",
       " [7, 51.0, 1, 'none'],\n",
       " [7, 51.0, 0, 'none'],\n",
       " [7, 51.0, 0, 'none'],\n",
       " [7, 53.0, 1, 'weak'],\n",
       " [7, 53.0, 0, 'none'],\n",
       " [7, 53.0, 0, 'none'],\n",
       " [7, 56.0, 1, 'none'],\n",
       " [7, 56.0, 0, 'none'],\n",
       " [7, 56.0, 0, 'none'],\n",
       " [7, 56.0, 1, 'strong'],\n",
       " [7, 56.0, 0, 'none'],\n",
       " [7, 56.0, 0, 'none'],\n",
       " [7, 56.0, 0, 'none'],\n",
       " [7, 56.0, 0, 'none'],\n",
       " [7, 56.0, 0, 'none'],\n",
       " [7, 56.0, 1, 'weak'],\n",
       " [7, 56.0, 0, 'none'],\n",
       " [7, 56.0, 0, 'none'],\n",
       " [7, 56.0, 0, 'none'],\n",
       " [7, 56.0, 0, 'none'],\n",
       " [7, 56.0, 0, 'none'],\n",
       " [7, 53.0, 1, 'middle'],\n",
       " [7, 53.0, 0, 'none'],\n",
       " [7, 53.0, 0, 'none'],\n",
       " [7, 53.0, 0, 'none'],\n",
       " [7, 53.0, 0, 'none'],\n",
       " [7, 53.0, 0, 'none'],\n",
       " [7, 51.0, 1, 'weak'],\n",
       " [7, 51.0, 0, 'none'],\n",
       " [7, 51.0, 0, 'none'],\n",
       " [7, 51.0, 0, 'none'],\n",
       " [7, 51.0, 0, 'none'],\n",
       " [7, 51.0, 0, 'none'],\n",
       " [7, 51.0, 1, 'weak'],\n",
       " [7, 51.0, 0, 'none'],\n",
       " [7, 51.0, 0, 'none'],\n",
       " [7, 51.0, 0, 'none'],\n",
       " [7, 51.0, 0, 'none'],\n",
       " [7, 51.0, 0, 'none']]"
      ]
     },
     "execution_count": 44,
     "metadata": {},
     "output_type": "execute_result"
    }
   ],
   "source": [
    "from metric import convert_note_to_sampling_with_str, make_dynamic_template\n",
    "dynamic_templates = make_dynamic_template()\n",
    "converted_inf_result = encoding_converter(b[1:])\n",
    "\n",
    "convert_note_to_sampling_with_str(converted_inf_result, dynamic_templates)"
   ]
  },
  {
   "cell_type": "code",
   "execution_count": 25,
   "metadata": {},
   "outputs": [
    {
     "data": {
      "image/png": "[encoded data removed]",
      "text/plain": [
       "<IPython.core.display.Image object>"
      ]
     },
     "metadata": {
      "image/png": {
       "height": 80,
       "width": 748
      }
     },
     "output_type": "display_data"
    }
   ],
   "source": [
    "x, y, shifted_y = val_dataset[-1]\n",
    "encoding_converter = Converter(val_dataset.tokenizer)\n",
    "decoder = MidiDecoder(val_dataset.tokenizer)\n",
    "decoder(encoding_converter(y[1:])).show()"
   ]
  },
  {
   "cell_type": "code",
   "execution_count": 26,
   "metadata": {},
   "outputs": [
    {
     "data": {
      "text/plain": [
       "[[7, 51.0, 2.0, 2.0, 'weak', 0],\n",
       " [7, 39.0, 1.0, 3.0, 'middle', 0],\n",
       " [7, 51.0, 2.0, 5.0, 'strong', 0],\n",
       " [7, 51.0, 1.0, 6.0, 'weak', 0],\n",
       " [7, 56.0, 1.0, 7.0, 'middle', 0],\n",
       " [7, 53.0, 1.0, 8.0, 'weak', 0],\n",
       " [7, 56.0, 2.0, 0.0, 'strong', 1],\n",
       " [7, 53.0, 2.0, 2.0, 'weak', 1],\n",
       " [7, 39.0, 1.0, 3.0, 'middle', 1],\n",
       " [7, 53.0, 2.0, 5.0, 'strong', 1],\n",
       " [7, 39.0, 0.0, 5.0, 'strong', 1],\n",
       " [7, 53.0, 2.0, 7.0, 'middle', 1],\n",
       " [7, 58.0, 1.0, 8.0, 'weak', 1],\n",
       " [7, 56.0, 2.0, 0.0, 'strong', 2],\n",
       " [7, 53.0, 2.0, 2.0, 'weak', 2],\n",
       " [7, 39.0, 1.0, 3.0, 'middle', 2],\n",
       " [7, 53.0, 2.0, 5.0, 'strong', 2],\n",
       " [7, 39.0, 0.0, 5.0, 'strong', 2],\n",
       " [7, 53.0, 2.0, 7.0, 'middle', 2],\n",
       " [7, 53.0, 1.0, 8.0, 'weak', 2],\n",
       " [7, 51.0, 2.0, 0.0, 'strong', 3],\n",
       " [7, 56.0, 1.0, 1.0, 'weak', 3],\n",
       " [7, 53.0, 1.0, 2.0, 'weak', 3],\n",
       " [7, 56.0, 1.0, 3.0, 'middle', 3],\n",
       " [7, 58.0, 2.0, 5.0, 'strong', 3],\n",
       " [7, 56.0, 2.0, 7.0, 'middle', 3],\n",
       " [7, 56.0, 1.0, 8.0, 'weak', 3],\n",
       " [7, 53.0, 1.0, 9.0, 'weak', 3],\n",
       " [7, 51.0, 1.0, 0.0, 'strong', 8]]"
      ]
     },
     "execution_count": 26,
     "metadata": {},
     "output_type": "execute_result"
    }
   ],
   "source": [
    "encoding_converter(y[1:])"
   ]
  },
  {
   "cell_type": "code",
   "execution_count": 18,
   "metadata": {},
   "outputs": [
    {
     "ename": "MusicXMLExportException",
     "evalue": "In part (None), measure (2): Cannot convert durations without types to MusicXML.",
     "output_type": "error",
     "traceback": [
      "\u001b[0;31m---------------------------------------------------------------------------\u001b[0m",
      "\u001b[0;31mMusicXMLExportException\u001b[0m                   Traceback (most recent call last)",
      "\u001b[1;32m/home/teo/userdata/git_libraries/Yeominrak/notebook/data_processing_teo2.ipynb 셀 7\u001b[0m line \u001b[0;36m<module>\u001b[0;34m\u001b[0m\n\u001b[0;32m----> <a href='vscode-notebook-cell://ssh-remote%2Bsym2-teo/home/teo/userdata/git_libraries/Yeominrak/notebook/data_processing_teo2.ipynb#Y103sdnNjb2RlLXJlbW90ZQ%3D%3D?line=0'>1</a>\u001b[0m decoder(encoding_converter(shifted_y[:\u001b[39m-\u001b[39;49m\u001b[39m1\u001b[39;49m]))\u001b[39m.\u001b[39;49mshow()\n",
      "File \u001b[0;32m~/.local/lib/python3.8/site-packages/music21/stream/base.py:334\u001b[0m, in \u001b[0;36mStream.show\u001b[0;34m(self, fmt, app, **keywords)\u001b[0m\n\u001b[1;32m    332\u001b[0m \u001b[39mif\u001b[39;00m \u001b[39mself\u001b[39m\u001b[39m.\u001b[39misSorted \u001b[39mis\u001b[39;00m \u001b[39mFalse\u001b[39;00m \u001b[39mand\u001b[39;00m \u001b[39mself\u001b[39m\u001b[39m.\u001b[39mautoSort:\n\u001b[1;32m    333\u001b[0m     \u001b[39mself\u001b[39m\u001b[39m.\u001b[39msort()\n\u001b[0;32m--> 334\u001b[0m \u001b[39mreturn\u001b[39;00m \u001b[39msuper\u001b[39;49m()\u001b[39m.\u001b[39;49mshow(fmt\u001b[39m=\u001b[39;49mfmt, app\u001b[39m=\u001b[39;49mapp, \u001b[39m*\u001b[39;49m\u001b[39m*\u001b[39;49mkeywords)\n",
      "File \u001b[0;32m~/.local/lib/python3.8/site-packages/music21/base.py:2788\u001b[0m, in \u001b[0;36mMusic21Object.show\u001b[0;34m(self, fmt, app, **keywords)\u001b[0m\n\u001b[1;32m   2786\u001b[0m scClass \u001b[39m=\u001b[39m common\u001b[39m.\u001b[39mfindSubConverterForFormat(regularizedConverterFormat)\n\u001b[1;32m   2787\u001b[0m formatWriter \u001b[39m=\u001b[39m scClass()\n\u001b[0;32m-> 2788\u001b[0m \u001b[39mreturn\u001b[39;00m formatWriter\u001b[39m.\u001b[39;49mshow(\u001b[39mself\u001b[39;49m,\n\u001b[1;32m   2789\u001b[0m                          regularizedConverterFormat,\n\u001b[1;32m   2790\u001b[0m                          app\u001b[39m=\u001b[39;49mapp,\n\u001b[1;32m   2791\u001b[0m                          subformats\u001b[39m=\u001b[39;49msubformats,\n\u001b[1;32m   2792\u001b[0m                          \u001b[39m*\u001b[39;49m\u001b[39m*\u001b[39;49mkeywords)\n",
      "File \u001b[0;32m~/.local/lib/python3.8/site-packages/music21/converter/subConverters.py:378\u001b[0m, in \u001b[0;36mConverterIPython.show\u001b[0;34m(self, obj, fmt, app, subformats, **keywords)\u001b[0m\n\u001b[1;32m    375\u001b[0m     scores \u001b[39m=\u001b[39m \u001b[39mlist\u001b[39m(obj\u001b[39m.\u001b[39mscores)\n\u001b[1;32m    377\u001b[0m \u001b[39mfor\u001b[39;00m s \u001b[39min\u001b[39;00m scores:\n\u001b[0;32m--> 378\u001b[0m     fp \u001b[39m=\u001b[39m helperSubConverter\u001b[39m.\u001b[39;49mwrite(s,\n\u001b[1;32m    379\u001b[0m                                   helperFormat,\n\u001b[1;32m    380\u001b[0m                                   subformats\u001b[39m=\u001b[39;49mhelperSubformats,\n\u001b[1;32m    381\u001b[0m                                   \u001b[39m*\u001b[39;49m\u001b[39m*\u001b[39;49mkeywords\n\u001b[1;32m    382\u001b[0m                                   )\n\u001b[1;32m    384\u001b[0m     \u001b[39mif\u001b[39;00m helperSubformats[\u001b[39m0\u001b[39m] \u001b[39m==\u001b[39m \u001b[39m'\u001b[39m\u001b[39mpng\u001b[39m\u001b[39m'\u001b[39m:\n\u001b[1;32m    385\u001b[0m         \u001b[39mif\u001b[39;00m \u001b[39mnot\u001b[39;00m \u001b[39mstr\u001b[39m(environLocal[\u001b[39m'\u001b[39m\u001b[39mmusescoreDirectPNGPath\u001b[39m\u001b[39m'\u001b[39m])\u001b[39m.\u001b[39mstartswith(\u001b[39m'\u001b[39m\u001b[39m/skip\u001b[39m\u001b[39m'\u001b[39m):\n",
      "File \u001b[0;32m~/.local/lib/python3.8/site-packages/music21/converter/subConverters.py:1074\u001b[0m, in \u001b[0;36mConverterMusicXML.write\u001b[0;34m(self, obj, fmt, fp, subformats, makeNotation, compress, **keywords)\u001b[0m\n\u001b[1;32m   1072\u001b[0m generalExporter \u001b[39m=\u001b[39m m21ToXml\u001b[39m.\u001b[39mGeneralObjectExporter(obj)\n\u001b[1;32m   1073\u001b[0m generalExporter\u001b[39m.\u001b[39mmakeNotation \u001b[39m=\u001b[39m makeNotation\n\u001b[0;32m-> 1074\u001b[0m dataBytes \u001b[39m=\u001b[39m generalExporter\u001b[39m.\u001b[39;49mparse()\n\u001b[1;32m   1076\u001b[0m writeDataStreamFp \u001b[39m=\u001b[39m fp\n\u001b[1;32m   1077\u001b[0m \u001b[39mif\u001b[39;00m fp \u001b[39mis\u001b[39;00m \u001b[39mnot\u001b[39;00m \u001b[39mNone\u001b[39;00m \u001b[39mand\u001b[39;00m subformats:  \u001b[39m# could be empty list\u001b[39;00m\n",
      "File \u001b[0;32m~/.local/lib/python3.8/site-packages/music21/musicxml/m21ToXml.py:419\u001b[0m, in \u001b[0;36mGeneralObjectExporter.parse\u001b[0;34m(self, obj)\u001b[0m\n\u001b[1;32m    417\u001b[0m \u001b[39mif\u001b[39;00m \u001b[39mself\u001b[39m\u001b[39m.\u001b[39mmakeNotation:\n\u001b[1;32m    418\u001b[0m     outObj \u001b[39m=\u001b[39m \u001b[39mself\u001b[39m\u001b[39m.\u001b[39mfromGeneralObject(obj)\n\u001b[0;32m--> 419\u001b[0m     \u001b[39mreturn\u001b[39;00m \u001b[39mself\u001b[39;49m\u001b[39m.\u001b[39;49mparseWellformedObject(outObj)\n\u001b[1;32m    420\u001b[0m \u001b[39melse\u001b[39;00m:\n\u001b[1;32m    421\u001b[0m     \u001b[39mif\u001b[39;00m \u001b[39mnot\u001b[39;00m \u001b[39misinstance\u001b[39m(obj, stream\u001b[39m.\u001b[39mScore):\n",
      "File \u001b[0;32m~/.local/lib/python3.8/site-packages/music21/musicxml/m21ToXml.py:435\u001b[0m, in \u001b[0;36mGeneralObjectExporter.parseWellformedObject\u001b[0;34m(self, sc)\u001b[0m\n\u001b[1;32m    426\u001b[0m \u001b[39m'''\u001b[39;00m\n\u001b[1;32m    427\u001b[0m \u001b[39mParse an object that has already gone through the\u001b[39;00m\n\u001b[1;32m    428\u001b[0m \u001b[39m`.fromGeneralObject` conversion, which has produced a copy with\u001b[39;00m\n\u001b[0;32m   (...)\u001b[0m\n\u001b[1;32m    432\u001b[0m \u001b[39mReturns bytes.\u001b[39;00m\n\u001b[1;32m    433\u001b[0m \u001b[39m'''\u001b[39;00m\n\u001b[1;32m    434\u001b[0m scoreExporter \u001b[39m=\u001b[39m ScoreExporter(sc, makeNotation\u001b[39m=\u001b[39m\u001b[39mself\u001b[39m\u001b[39m.\u001b[39mmakeNotation)\n\u001b[0;32m--> 435\u001b[0m scoreExporter\u001b[39m.\u001b[39;49mparse()\n\u001b[1;32m    436\u001b[0m \u001b[39mreturn\u001b[39;00m scoreExporter\u001b[39m.\u001b[39masBytes()\n",
      "File \u001b[0;32m~/.local/lib/python3.8/site-packages/music21/musicxml/m21ToXml.py:1480\u001b[0m, in \u001b[0;36mScoreExporter.parse\u001b[0;34m(self)\u001b[0m\n\u001b[1;32m   1478\u001b[0m     \u001b[39mself\u001b[39m\u001b[39m.\u001b[39m_populatePartExporterList()\n\u001b[1;32m   1479\u001b[0m     \u001b[39mself\u001b[39m\u001b[39m.\u001b[39mgroupsToJoin \u001b[39m=\u001b[39m \u001b[39mself\u001b[39m\u001b[39m.\u001b[39mjoinableGroups()\n\u001b[0;32m-> 1480\u001b[0m     \u001b[39mself\u001b[39;49m\u001b[39m.\u001b[39;49mparsePartlikeScore()\n\u001b[1;32m   1481\u001b[0m \u001b[39melse\u001b[39;00m:\n\u001b[1;32m   1482\u001b[0m     \u001b[39mself\u001b[39m\u001b[39m.\u001b[39mparseFlatScore()\n",
      "File \u001b[0;32m~/.local/lib/python3.8/site-packages/music21/musicxml/m21ToXml.py:1695\u001b[0m, in \u001b[0;36mScoreExporter.parsePartlikeScore\u001b[0;34m(self)\u001b[0m\n\u001b[1;32m   1693\u001b[0m     \u001b[39mself\u001b[39m\u001b[39m.\u001b[39m_populatePartExporterList()\n\u001b[1;32m   1694\u001b[0m \u001b[39mfor\u001b[39;00m part_ex \u001b[39min\u001b[39;00m \u001b[39mself\u001b[39m\u001b[39m.\u001b[39mpartExporterList:\n\u001b[0;32m-> 1695\u001b[0m     part_ex\u001b[39m.\u001b[39;49mparse()\n",
      "File \u001b[0;32m~/.local/lib/python3.8/site-packages/music21/musicxml/m21ToXml.py:2586\u001b[0m, in \u001b[0;36mPartExporter.parse\u001b[0;34m(self)\u001b[0m\n\u001b[1;32m   2584\u001b[0m             e\u001b[39m.\u001b[39mpartName \u001b[39m=\u001b[39m \u001b[39mself\u001b[39m\u001b[39m.\u001b[39mstream\u001b[39m.\u001b[39mpartName\n\u001b[1;32m   2585\u001b[0m         \u001b[39m# else: could be a Score without parts (flat)\u001b[39;00m\n\u001b[0;32m-> 2586\u001b[0m         \u001b[39mraise\u001b[39;00m e\n\u001b[1;32m   2587\u001b[0m     \u001b[39mself\u001b[39m\u001b[39m.\u001b[39mxmlRoot\u001b[39m.\u001b[39mappend(mxMeasure)\n\u001b[1;32m   2589\u001b[0m \u001b[39mreturn\u001b[39;00m \u001b[39mself\u001b[39m\u001b[39m.\u001b[39mxmlRoot\n",
      "File \u001b[0;32m~/.local/lib/python3.8/site-packages/music21/musicxml/m21ToXml.py:2580\u001b[0m, in \u001b[0;36mPartExporter.parse\u001b[0;34m(self)\u001b[0m\n\u001b[1;32m   2578\u001b[0m measureExporter\u001b[39m.\u001b[39mspannerBundle \u001b[39m=\u001b[39m \u001b[39mself\u001b[39m\u001b[39m.\u001b[39mspannerBundle\n\u001b[1;32m   2579\u001b[0m \u001b[39mtry\u001b[39;00m:\n\u001b[0;32m-> 2580\u001b[0m     mxMeasure \u001b[39m=\u001b[39m measureExporter\u001b[39m.\u001b[39;49mparse()\n\u001b[1;32m   2581\u001b[0m \u001b[39mexcept\u001b[39;00m MusicXMLExportException \u001b[39mas\u001b[39;00m e:\n\u001b[1;32m   2582\u001b[0m     e\u001b[39m.\u001b[39mmeasureNumber \u001b[39m=\u001b[39m \u001b[39mstr\u001b[39m(m\u001b[39m.\u001b[39mnumber)\n",
      "File \u001b[0;32m~/.local/lib/python3.8/site-packages/music21/musicxml/m21ToXml.py:3013\u001b[0m, in \u001b[0;36mMeasureExporter.parse\u001b[0;34m(self)\u001b[0m\n\u001b[1;32m   3011\u001b[0m \u001b[39mself\u001b[39m\u001b[39m.\u001b[39msetLeftBarline()\n\u001b[1;32m   3012\u001b[0m \u001b[39m# BIG ONE\u001b[39;00m\n\u001b[0;32m-> 3013\u001b[0m \u001b[39mself\u001b[39;49m\u001b[39m.\u001b[39;49mmainElementsParse()\n\u001b[1;32m   3014\u001b[0m \u001b[39m# continue\u001b[39;00m\n\u001b[1;32m   3015\u001b[0m \u001b[39mself\u001b[39m\u001b[39m.\u001b[39msetRightBarline()\n",
      "File \u001b[0;32m~/.local/lib/python3.8/site-packages/music21/musicxml/m21ToXml.py:3027\u001b[0m, in \u001b[0;36mMeasureExporter.mainElementsParse\u001b[0;34m(self)\u001b[0m\n\u001b[1;32m   3023\u001b[0m \u001b[39m# need to handle objects in order when creating musicxml\u001b[39;00m\n\u001b[1;32m   3024\u001b[0m \u001b[39m# we thus assume that objects are sorted here\u001b[39;00m\n\u001b[1;32m   3026\u001b[0m \u001b[39mif\u001b[39;00m \u001b[39mnot\u001b[39;00m m\u001b[39m.\u001b[39mhasVoices():\n\u001b[0;32m-> 3027\u001b[0m     \u001b[39mself\u001b[39;49m\u001b[39m.\u001b[39;49mparseFlatElements(m, backupAfterwards\u001b[39m=\u001b[39;49m\u001b[39mFalse\u001b[39;49;00m)\n\u001b[1;32m   3028\u001b[0m     \u001b[39mreturn\u001b[39;00m\n\u001b[1;32m   3030\u001b[0m nonVoiceMeasureItems \u001b[39m=\u001b[39m m\u001b[39m.\u001b[39mgetElementsNotOfClass(\u001b[39m'\u001b[39m\u001b[39mVoice\u001b[39m\u001b[39m'\u001b[39m)\u001b[39m.\u001b[39mstream()\n",
      "File \u001b[0;32m~/.local/lib/python3.8/site-packages/music21/musicxml/m21ToXml.py:3101\u001b[0m, in \u001b[0;36mMeasureExporter.parseFlatElements\u001b[0;34m(self, m, backupAfterwards)\u001b[0m\n\u001b[1;32m   3097\u001b[0m         \u001b[39mif\u001b[39;00m n\u001b[39m.\u001b[39misRest \u001b[39mand\u001b[39;00m n\u001b[39m.\u001b[39mstyle\u001b[39m.\u001b[39mhideObjectOnPrint \u001b[39mand\u001b[39;00m n\u001b[39m.\u001b[39mduration\u001b[39m.\u001b[39mtype \u001b[39m==\u001b[39m \u001b[39m'\u001b[39m\u001b[39minexpressible\u001b[39m\u001b[39m'\u001b[39m:\n\u001b[1;32m   3098\u001b[0m             \u001b[39m# Prefer a gap in stream, to be filled with a <forward> tag by\u001b[39;00m\n\u001b[1;32m   3099\u001b[0m             \u001b[39m# fill_gap_with_forward_tag() rather than raising exceptions\u001b[39;00m\n\u001b[1;32m   3100\u001b[0m             \u001b[39mcontinue\u001b[39;00m\n\u001b[0;32m-> 3101\u001b[0m         \u001b[39mself\u001b[39;49m\u001b[39m.\u001b[39;49mparseOneElement(n)\n\u001b[1;32m   3103\u001b[0m \u001b[39mif\u001b[39;00m backupAfterwards:\n\u001b[1;32m   3104\u001b[0m     \u001b[39m# return to the beginning of the measure.\u001b[39;00m\n\u001b[1;32m   3105\u001b[0m     amountToBackup \u001b[39m=\u001b[39m \u001b[39mround\u001b[39m(divisions \u001b[39m*\u001b[39m \u001b[39mself\u001b[39m\u001b[39m.\u001b[39moffsetInMeasure)\n",
      "File \u001b[0;32m~/.local/lib/python3.8/site-packages/music21/musicxml/m21ToXml.py:3148\u001b[0m, in \u001b[0;36mMeasureExporter.parseOneElement\u001b[0;34m(self, obj)\u001b[0m\n\u001b[1;32m   3146\u001b[0m meth \u001b[39m=\u001b[39m \u001b[39mgetattr\u001b[39m(\u001b[39mself\u001b[39m, methName)\n\u001b[1;32m   3147\u001b[0m \u001b[39mfor\u001b[39;00m o \u001b[39min\u001b[39;00m objList:\n\u001b[0;32m-> 3148\u001b[0m     meth(o)\n\u001b[1;32m   3149\u001b[0m parsedObject \u001b[39m=\u001b[39m \u001b[39mTrue\u001b[39;00m\n\u001b[1;32m   3150\u001b[0m \u001b[39mbreak\u001b[39;00m\n",
      "File \u001b[0;32m~/.local/lib/python3.8/site-packages/music21/musicxml/m21ToXml.py:3657\u001b[0m, in \u001b[0;36mMeasureExporter.noteToXml\u001b[0;34m(self, n, noteIndexInChord, chordParent)\u001b[0m\n\u001b[1;32m   3655\u001b[0m \u001b[39melse\u001b[39;00m:\n\u001b[1;32m   3656\u001b[0m     \u001b[39mtry\u001b[39;00m:\n\u001b[0;32m-> 3657\u001b[0m         mxType\u001b[39m.\u001b[39mtext \u001b[39m=\u001b[39m typeToMusicXMLType(d\u001b[39m.\u001b[39;49mtype)\n\u001b[1;32m   3658\u001b[0m     \u001b[39mexcept\u001b[39;00m MusicXMLExportException:\n\u001b[1;32m   3659\u001b[0m         \u001b[39mif\u001b[39;00m n\u001b[39m.\u001b[39misRest \u001b[39mand\u001b[39;00m helpers\u001b[39m.\u001b[39misFullMeasureRest(n):\n\u001b[1;32m   3660\u001b[0m             \u001b[39m# type will be removed in xmlToRest()\u001b[39;00m\n",
      "File \u001b[0;32m~/.local/lib/python3.8/site-packages/music21/musicxml/m21ToXml.py:104\u001b[0m, in \u001b[0;36mtypeToMusicXMLType\u001b[0;34m(value)\u001b[0m\n\u001b[1;32m    100\u001b[0m     \u001b[39mraise\u001b[39;00m MusicXMLExportException(\n\u001b[1;32m    101\u001b[0m         \u001b[39m'\u001b[39m\u001b[39mCannot convert complex durations to MusicXML. \u001b[39m\u001b[39m'\u001b[39m\n\u001b[1;32m    102\u001b[0m         \u001b[39m+\u001b[39m \u001b[39m'\u001b[39m\u001b[39mTry exporting with makeNotation=True or manually running splitAtDurations()\u001b[39m\u001b[39m'\u001b[39m)\n\u001b[1;32m    103\u001b[0m \u001b[39melif\u001b[39;00m value \u001b[39m==\u001b[39m \u001b[39m'\u001b[39m\u001b[39mzero\u001b[39m\u001b[39m'\u001b[39m:\n\u001b[0;32m--> 104\u001b[0m     \u001b[39mraise\u001b[39;00m MusicXMLExportException(\u001b[39m'\u001b[39m\u001b[39mCannot convert durations without types to MusicXML.\u001b[39m\u001b[39m'\u001b[39m)\n\u001b[1;32m    105\u001b[0m \u001b[39melse\u001b[39;00m:\n\u001b[1;32m    106\u001b[0m     \u001b[39mreturn\u001b[39;00m value\n",
      "\u001b[0;31mMusicXMLExportException\u001b[0m: In part (None), measure (2): Cannot convert durations without types to MusicXML."
     ]
    }
   ],
   "source": []
  },
  {
   "cell_type": "code",
   "execution_count": 9,
   "metadata": {},
   "outputs": [
    {
     "data": {
      "text/plain": [
       "(tensor([[ 0,  1,  1,  1,  1,  1],\n",
       "         [ 0,  8, 15,  3,  3,  3],\n",
       "         [ 0,  6, 13, 19,  3,  3],\n",
       "         [ 0,  5,  3,  3,  3,  4],\n",
       "         [ 0,  5,  3,  3,  3,  5],\n",
       "         [ 0, 13,  3,  3,  3,  6],\n",
       "         [ 0,  2,  2,  2,  2,  2]]),\n",
       " tensor([[ 1,  1,  1,  3,  3,  3],\n",
       "         [ 1,  5,  4,  3,  3,  3],\n",
       "         [ 1,  6, 11,  7,  5,  3],\n",
       "         [ 1,  8,  8, 11,  4,  3],\n",
       "         [ 1,  9, 11, 19,  3,  3],\n",
       "         [ 1,  5,  4, 19,  3,  3],\n",
       "         [ 1,  8, 11, 25,  5,  3],\n",
       "         [ 1,  6,  8,  3,  3,  4],\n",
       "         [ 1,  5,  4,  3,  3,  4],\n",
       "         [ 1,  5, 15, 19,  3,  4],\n",
       "         [ 1,  5, 13,  3,  3,  5],\n",
       "         [ 1,  5,  4,  3,  3,  5],\n",
       "         [ 1,  5, 15, 19,  3,  5],\n",
       "         [ 1,  5, 13,  3,  3,  6],\n",
       "         [ 1,  5,  4,  3,  3,  6],\n",
       "         [ 1, 13, 15, 19,  3,  6],\n",
       "         [ 1, 13, 13,  3,  3,  5]]),\n",
       " tensor([[ 1,  5,  4,  3,  3,  3],\n",
       "         [ 1,  6, 11,  7,  5,  3],\n",
       "         [ 1,  8,  8, 11,  4,  3],\n",
       "         [ 1,  9, 11, 19,  3,  3],\n",
       "         [ 1,  5,  4, 19,  3,  3],\n",
       "         [ 1,  8, 11, 25,  5,  3],\n",
       "         [ 1,  6,  8,  3,  3,  4],\n",
       "         [ 1,  5,  4,  3,  3,  4],\n",
       "         [ 1,  5, 15, 19,  3,  4],\n",
       "         [ 1,  5, 13,  3,  3,  5],\n",
       "         [ 1,  5,  4,  3,  3,  5],\n",
       "         [ 1,  5, 15, 19,  3,  5],\n",
       "         [ 1,  5, 13,  3,  3,  6],\n",
       "         [ 1,  5,  4,  3,  3,  6],\n",
       "         [ 1, 13, 15, 19,  3,  6],\n",
       "         [ 1, 13, 13,  3,  3,  5],\n",
       "         [ 1,  2,  2,  2,  2,  2]]))"
      ]
     },
     "execution_count": 9,
     "metadata": {},
     "output_type": "execute_result"
    }
   ],
   "source": [
    "val_dataset[0]"
   ]
  },
  {
   "cell_type": "code",
   "execution_count": 30,
   "metadata": {},
   "outputs": [
    {
     "data": {
      "text/plain": [
       "(tensor([[ 1,  1,  1,  1,  1,  1],\n",
       "         [ 1, 10, 13,  3,  3,  3],\n",
       "         [ 1, 10, 11, 19,  3,  3],\n",
       "         [ 1, 10, 13,  3,  3,  4],\n",
       "         [ 1, 10,  6, 19,  3,  4],\n",
       "         [ 1, 11,  6, 22,  5,  4],\n",
       "         [ 1, 10,  6, 25,  5,  4],\n",
       "         [ 1,  8, 11,  3,  3,  5],\n",
       "         [ 1,  7,  9, 11,  4,  5],\n",
       "         [ 1,  8,  6, 19,  3,  5],\n",
       "         [ 1, 10,  6, 22,  5,  5],\n",
       "         [ 1,  8,  6, 25,  5,  5],\n",
       "         [ 1,  7,  9,  3,  3,  6],\n",
       "         [ 1,  6,  6,  7,  5,  6],\n",
       "         [ 1,  7,  9, 11,  4,  6],\n",
       "         [ 1,  8,  6, 19,  3,  6],\n",
       "         [ 1,  7,  6, 22,  5,  6],\n",
       "         [ 1,  8,  6, 25,  5,  6],\n",
       "         [ 1,  2,  2,  2,  2,  2]]),\n",
       " tensor([[ 3,  1,  1,  3,  3,  3],\n",
       "         [ 3, 12,  6,  5,  5,  3],\n",
       "         [ 3, 12,  9, 11,  4,  3],\n",
       "         [ 3, 15, 11, 22,  3,  3],\n",
       "         [ 3,  9,  9, 29,  4,  3],\n",
       "         [ 3, 16,  6, 32,  5,  3],\n",
       "         [ 3, 12,  6,  3,  3,  4],\n",
       "         [ 3, 10,  9,  7,  5,  4],\n",
       "         [ 3,  8,  6, 11,  4,  4],\n",
       "         [ 3, 10, 11, 22,  3,  4],\n",
       "         [ 3, 13,  9, 29,  4,  4],\n",
       "         [ 3,  8,  6, 32,  5,  4],\n",
       "         [ 3, 14,  6,  3,  3,  5],\n",
       "         [ 3,  8, 11, 11,  4,  5],\n",
       "         [ 3,  6, 11, 22,  3,  5],\n",
       "         [ 3,  8,  6, 25,  5,  5],\n",
       "         [ 3, 11,  6, 29,  4,  5],\n",
       "         [ 3, 10,  6, 32,  5,  5],\n",
       "         [ 3,  8,  6,  3,  3,  6],\n",
       "         [ 3,  7,  9,  7,  5,  6],\n",
       "         [ 3, 12,  6, 11,  4,  6],\n",
       "         [ 3,  7, 11, 22,  3,  6],\n",
       "         [ 3, 16,  6, 25,  5,  6],\n",
       "         [ 3,  8,  6, 29,  4,  6],\n",
       "         [ 3, 12,  6, 32,  5,  6],\n",
       "         [ 3,  6,  6,  3,  3,  7]]),\n",
       " tensor([[ 3, 10,  6,  5,  5,  3],\n",
       "         [ 3, 10,  9, 11,  4,  3],\n",
       "         [ 3, 10, 11, 22,  3,  3],\n",
       "         [ 3, 10,  9, 29,  4,  3],\n",
       "         [ 3,  8,  6, 32,  5,  3],\n",
       "         [ 3, 11,  6,  3,  3,  4],\n",
       "         [ 3, 10,  9,  7,  5,  4],\n",
       "         [ 3,  8,  6, 11,  4,  4],\n",
       "         [ 3, 10, 11, 22,  3,  4],\n",
       "         [ 3, 13,  9, 29,  4,  4],\n",
       "         [ 3, 11,  6, 32,  5,  4],\n",
       "         [ 3, 10,  6,  3,  3,  5],\n",
       "         [ 3,  8, 11, 11,  4,  5],\n",
       "         [ 3,  7, 11, 22,  3,  5],\n",
       "         [ 3,  8,  6, 25,  5,  5],\n",
       "         [ 3, 11,  6, 29,  4,  5],\n",
       "         [ 3, 10,  6, 32,  5,  5],\n",
       "         [ 3,  8,  6,  3,  3,  6],\n",
       "         [ 3,  7,  9,  7,  5,  6],\n",
       "         [ 3,  6,  6, 11,  4,  6],\n",
       "         [ 3,  7, 11, 22,  3,  6],\n",
       "         [ 3, 10,  6, 25,  5,  6],\n",
       "         [ 3,  8,  6, 29,  4,  6],\n",
       "         [ 3,  7,  6, 32,  5,  6],\n",
       "         [ 3,  6,  6,  3,  3,  7],\n",
       "         [ 3,  2,  2,  2,  2,  2]]))"
      ]
     },
     "execution_count": 30,
     "metadata": {},
     "output_type": "execute_result"
    }
   ],
   "source": [
    "train_dataset[0]"
   ]
  },
  {
   "cell_type": "code",
   "execution_count": 4,
   "metadata": {},
   "outputs": [],
   "source": [
    "batch = next(iter(valid_loader))"
   ]
  },
  {
   "cell_type": "code",
   "execution_count": 31,
   "metadata": {},
   "outputs": [],
   "source": [
    "device = 'cuda'\n",
    "model = QkvAttnSeq2seq(train_dataset.tokenizer, config.model).to(device)\n",
    "optimizer = torch.optim.Adam(model.parameters(), lr=1e-3)\n",
    "loss_fn = nll_loss\n",
    "trainer = Trainer(model, optimizer, loss_fn, train_loader, valid_loader, device, save_log=False)"
   ]
  },
  {
   "cell_type": "code",
   "execution_count": 32,
   "metadata": {},
   "outputs": [
    {
     "data": {
      "application/vnd.jupyter.widget-view+json": {
       "model_id": "0fdc31247bad43c0b376e016164134a8",
       "version_major": 2,
       "version_minor": 0
      },
      "text/plain": [
       "  0%|          | 0/160 [00:00<?, ?it/s]"
      ]
     },
     "metadata": {},
     "output_type": "display_data"
    },
    {
     "name": "stdout",
     "output_type": "stream",
     "text": [
      "Best Model Saved! Accuracy: 0.27210765028711\n",
      "Best Model Saved! Accuracy: 0.3237123905654244\n",
      "Best Model Saved! Accuracy: 0.3517254773173204\n",
      "Best Model Saved! Accuracy: 0.364043287737884\n",
      "Best Model Saved! Accuracy: 0.38078974563336204\n",
      "Best Model Saved! Accuracy: 0.42863297329603206\n",
      "Best Model Saved! Accuracy: 0.44407366849481367\n",
      "Best Model Saved! Accuracy: 0.45589003675709794\n",
      "Best Model Saved! Accuracy: 0.4611038740454967\n",
      "Best Model Saved! Accuracy: 0.4847369064401809\n",
      "Best Model Saved! Accuracy: 0.5040129888245669\n",
      "Best Model Saved! Accuracy: 0.5154437205011068\n",
      "Best Model Saved! Accuracy: 0.5303314868924839\n",
      "Best Model Saved! Accuracy: 0.5438915738152313\n",
      "Best Model Saved! Accuracy: 0.5631381896604198\n",
      "Best Model Saved! Accuracy: 0.582302542913389\n",
      "Best Model Saved! Accuracy: 0.5947231453358756\n",
      "Best Model Saved! Accuracy: 0.5996162038274114\n",
      "Best Model Saved! Accuracy: 0.6150918013421277\n",
      "Best Model Saved! Accuracy: 0.6392289032351236\n",
      "Best Model Saved! Accuracy: 0.6436800912190596\n",
      "Best Model Saved! Accuracy: 0.6518230403200769\n",
      "Best Model Saved! Accuracy: 0.6613799583607086\n",
      "Best Model Saved! Accuracy: 0.6712954010856572\n",
      "Best Model Saved! Accuracy: 0.6754681450026454\n",
      "Best Model Saved! Accuracy: 0.6834645687847902\n",
      "Best Model Saved! Accuracy: 0.6876491260818849\n",
      "Best Model Saved! Accuracy: 0.6888750284767123\n",
      "Best Model Saved! Accuracy: 0.7004337728426642\n",
      "Best Model Saved! Accuracy: 0.7120109650301539\n",
      "Best Model Saved! Accuracy: 0.7232071000583252\n",
      "Best Model Saved! Accuracy: 0.7400398288604559\n",
      "Best Model Saved! Accuracy: 0.7449315491007042\n",
      "Best Model Saved! Accuracy: 0.7489768062279458\n",
      "Best Model Saved! Accuracy: 0.7513485117541622\n",
      "Best Model Saved! Accuracy: 0.7678742534689221\n",
      "Best Model Saved! Accuracy: 0.7682833520655353\n",
      "Best Model Saved! Accuracy: 0.7751119889899748\n",
      "Best Model Saved! Accuracy: 0.7791211892677006\n",
      "Best Model Saved! Accuracy: 0.7814955261793552\n",
      "Best Model Saved! Accuracy: 0.7888696604926806\n",
      "Best Model Saved! Accuracy: 0.7903758722749481\n",
      "Best Model Saved! Accuracy: 0.7949067588603371\n",
      "Measure Match: 0.4545, Similarity: 0.6950, Dynamic Corr: 0.7875\n",
      "Best Model Saved! Accuracy: 0.803696499541356\n",
      "Measure Match: 0.4545, Similarity: 0.7175, Dynamic Corr: 0.8125\n"
     ]
    },
    {
     "data": {
      "text/plain": [
       "[tensor([[[5.0537e-04, 6.3610e-04, 4.9355e-05,  ..., 3.3314e-02,\n",
       "           3.3314e-02, 3.3314e-02],\n",
       "          [9.7436e-01, 8.5222e-01, 8.4629e-04,  ..., 4.6411e-02,\n",
       "           4.6411e-02, 4.6411e-02],\n",
       "          [1.0690e-02, 1.0735e-01, 1.0884e-02,  ..., 5.7896e-02,\n",
       "           5.7896e-02, 5.7896e-02],\n",
       "          ...,\n",
       "          [0.0000e+00, 0.0000e+00, 0.0000e+00,  ..., 0.0000e+00,\n",
       "           0.0000e+00, 0.0000e+00],\n",
       "          [0.0000e+00, 0.0000e+00, 0.0000e+00,  ..., 0.0000e+00,\n",
       "           0.0000e+00, 0.0000e+00],\n",
       "          [0.0000e+00, 0.0000e+00, 0.0000e+00,  ..., 0.0000e+00,\n",
       "           0.0000e+00, 0.0000e+00]],\n",
       " \n",
       "         [[2.5076e-02, 5.3752e-03, 9.1033e-04,  ..., 3.1645e-02,\n",
       "           3.1645e-02, 3.1645e-02],\n",
       "          [7.7976e-01, 9.5330e-01, 4.1342e-04,  ..., 4.7138e-02,\n",
       "           4.7138e-02, 4.7138e-02],\n",
       "          [1.9420e-01, 8.6862e-03, 9.9857e-01,  ..., 2.7795e-02,\n",
       "           2.7795e-02, 2.7795e-02],\n",
       "          ...,\n",
       "          [0.0000e+00, 0.0000e+00, 0.0000e+00,  ..., 0.0000e+00,\n",
       "           0.0000e+00, 0.0000e+00],\n",
       "          [0.0000e+00, 0.0000e+00, 0.0000e+00,  ..., 0.0000e+00,\n",
       "           0.0000e+00, 0.0000e+00],\n",
       "          [0.0000e+00, 0.0000e+00, 0.0000e+00,  ..., 0.0000e+00,\n",
       "           0.0000e+00, 0.0000e+00]],\n",
       " \n",
       "         [[2.9581e-05, 1.9849e-01, 8.6774e-04,  ..., 8.1043e-02,\n",
       "           8.1043e-02, 8.1043e-02],\n",
       "          [9.8634e-01, 7.6345e-01, 9.8817e-01,  ..., 1.0217e-01,\n",
       "           1.0217e-01, 1.0217e-01],\n",
       "          [6.7814e-03, 3.7648e-02, 7.9286e-03,  ..., 1.3737e-01,\n",
       "           1.3737e-01, 1.3737e-01],\n",
       "          ...,\n",
       "          [0.0000e+00, 0.0000e+00, 0.0000e+00,  ..., 0.0000e+00,\n",
       "           0.0000e+00, 0.0000e+00],\n",
       "          [0.0000e+00, 0.0000e+00, 0.0000e+00,  ..., 0.0000e+00,\n",
       "           0.0000e+00, 0.0000e+00],\n",
       "          [0.0000e+00, 0.0000e+00, 0.0000e+00,  ..., 0.0000e+00,\n",
       "           0.0000e+00, 0.0000e+00]],\n",
       " \n",
       "         ...,\n",
       " \n",
       "         [[1.7761e-04, 1.6610e-02, 1.5161e-05,  ..., 2.5255e-02,\n",
       "           2.5255e-02, 2.5255e-02],\n",
       "          [8.2615e-01, 7.4053e-02, 9.0079e-05,  ..., 3.0630e-02,\n",
       "           3.0630e-02, 3.0630e-02],\n",
       "          [5.8360e-02, 6.5451e-01, 4.1460e-02,  ..., 3.2761e-02,\n",
       "           3.2761e-02, 3.2761e-02],\n",
       "          ...,\n",
       "          [0.0000e+00, 0.0000e+00, 0.0000e+00,  ..., 0.0000e+00,\n",
       "           0.0000e+00, 0.0000e+00],\n",
       "          [0.0000e+00, 0.0000e+00, 0.0000e+00,  ..., 0.0000e+00,\n",
       "           0.0000e+00, 0.0000e+00],\n",
       "          [0.0000e+00, 0.0000e+00, 0.0000e+00,  ..., 0.0000e+00,\n",
       "           0.0000e+00, 0.0000e+00]],\n",
       " \n",
       "         [[2.2943e-03, 1.5649e-02, 7.6311e-04,  ..., 6.4955e-02,\n",
       "           6.4955e-02, 6.4955e-02],\n",
       "          [9.5326e-01, 6.7673e-01, 2.2848e-01,  ..., 7.6816e-02,\n",
       "           7.6816e-02, 7.6816e-02],\n",
       "          [1.1608e-02, 2.1629e-01, 7.1643e-01,  ..., 8.7668e-02,\n",
       "           8.7668e-02, 8.7668e-02],\n",
       "          ...,\n",
       "          [0.0000e+00, 0.0000e+00, 0.0000e+00,  ..., 0.0000e+00,\n",
       "           0.0000e+00, 0.0000e+00],\n",
       "          [0.0000e+00, 0.0000e+00, 0.0000e+00,  ..., 0.0000e+00,\n",
       "           0.0000e+00, 0.0000e+00],\n",
       "          [0.0000e+00, 0.0000e+00, 0.0000e+00,  ..., 0.0000e+00,\n",
       "           0.0000e+00, 0.0000e+00]],\n",
       " \n",
       "         [[3.5076e-03, 1.9335e-04, 4.3642e-03,  ..., 1.4364e-02,\n",
       "           1.4364e-02, 1.4364e-02],\n",
       "          [4.4830e-01, 3.1739e-02, 5.6518e-04,  ..., 1.7160e-02,\n",
       "           1.7160e-02, 1.7160e-02],\n",
       "          [5.3053e-01, 9.0499e-01, 2.5244e-03,  ..., 1.4406e-02,\n",
       "           1.4406e-02, 1.4406e-02],\n",
       "          ...,\n",
       "          [0.0000e+00, 0.0000e+00, 0.0000e+00,  ..., 0.0000e+00,\n",
       "           0.0000e+00, 0.0000e+00],\n",
       "          [0.0000e+00, 0.0000e+00, 0.0000e+00,  ..., 0.0000e+00,\n",
       "           0.0000e+00, 0.0000e+00],\n",
       "          [0.0000e+00, 0.0000e+00, 0.0000e+00,  ..., 0.0000e+00,\n",
       "           0.0000e+00, 0.0000e+00]]], device='cuda:0',\n",
       "        grad_fn=<SoftmaxBackward0>),\n",
       " tensor([[[1.9953e-05, 1.1374e-05, 3.1435e-06,  ..., 1.7362e-02,\n",
       "           1.7362e-02, 1.7362e-02],\n",
       "          [9.8916e-01, 9.3168e-06, 1.7086e-03,  ..., 2.8221e-02,\n",
       "           2.8221e-02, 2.8221e-02],\n",
       "          [6.0298e-04, 9.9964e-01, 3.9202e-05,  ..., 2.0327e-02,\n",
       "           2.0327e-02, 2.0327e-02],\n",
       "          ...,\n",
       "          [0.0000e+00, 0.0000e+00, 0.0000e+00,  ..., 0.0000e+00,\n",
       "           0.0000e+00, 0.0000e+00],\n",
       "          [0.0000e+00, 0.0000e+00, 0.0000e+00,  ..., 0.0000e+00,\n",
       "           0.0000e+00, 0.0000e+00],\n",
       "          [0.0000e+00, 0.0000e+00, 0.0000e+00,  ..., 0.0000e+00,\n",
       "           0.0000e+00, 0.0000e+00]],\n",
       " \n",
       "         [[1.3192e-04, 2.3754e-02, 5.8101e-03,  ..., 9.3456e-02,\n",
       "           9.3456e-02, 9.3456e-02],\n",
       "          [5.7825e-01, 9.7518e-01, 9.9248e-01,  ..., 1.2835e-01,\n",
       "           1.2835e-01, 1.2835e-01],\n",
       "          [4.2104e-01, 9.3949e-04, 1.6801e-03,  ..., 1.7324e-01,\n",
       "           1.7324e-01, 1.7324e-01],\n",
       "          ...,\n",
       "          [0.0000e+00, 0.0000e+00, 0.0000e+00,  ..., 0.0000e+00,\n",
       "           0.0000e+00, 0.0000e+00],\n",
       "          [0.0000e+00, 0.0000e+00, 0.0000e+00,  ..., 0.0000e+00,\n",
       "           0.0000e+00, 0.0000e+00],\n",
       "          [0.0000e+00, 0.0000e+00, 0.0000e+00,  ..., 0.0000e+00,\n",
       "           0.0000e+00, 0.0000e+00]],\n",
       " \n",
       "         [[1.6469e-02, 9.4374e-03, 2.0239e-02,  ..., 1.2751e-01,\n",
       "           1.2751e-01, 1.2751e-01],\n",
       "          [8.1901e-01, 9.7333e-01, 9.2037e-01,  ..., 1.8985e-01,\n",
       "           1.8985e-01, 1.8985e-01],\n",
       "          [1.6438e-01, 1.7231e-02, 5.9376e-02,  ..., 2.0269e-01,\n",
       "           2.0269e-01, 2.0269e-01],\n",
       "          ...,\n",
       "          [0.0000e+00, 0.0000e+00, 0.0000e+00,  ..., 0.0000e+00,\n",
       "           0.0000e+00, 0.0000e+00],\n",
       "          [0.0000e+00, 0.0000e+00, 0.0000e+00,  ..., 0.0000e+00,\n",
       "           0.0000e+00, 0.0000e+00],\n",
       "          [0.0000e+00, 0.0000e+00, 0.0000e+00,  ..., 0.0000e+00,\n",
       "           0.0000e+00, 0.0000e+00]],\n",
       " \n",
       "         ...,\n",
       " \n",
       "         [[9.0882e-04, 4.5189e-02, 7.5855e-04,  ..., 4.1140e-02,\n",
       "           4.1140e-02, 4.1140e-02],\n",
       "          [9.5343e-01, 9.0504e-01, 1.0487e-02,  ..., 4.4011e-02,\n",
       "           4.4011e-02, 4.4011e-02],\n",
       "          [8.6918e-03, 1.8248e-02, 9.6140e-01,  ..., 5.7108e-02,\n",
       "           5.7108e-02, 5.7108e-02],\n",
       "          ...,\n",
       "          [0.0000e+00, 0.0000e+00, 0.0000e+00,  ..., 0.0000e+00,\n",
       "           0.0000e+00, 0.0000e+00],\n",
       "          [0.0000e+00, 0.0000e+00, 0.0000e+00,  ..., 0.0000e+00,\n",
       "           0.0000e+00, 0.0000e+00],\n",
       "          [0.0000e+00, 0.0000e+00, 0.0000e+00,  ..., 0.0000e+00,\n",
       "           0.0000e+00, 0.0000e+00]],\n",
       " \n",
       "         [[1.3254e-04, 5.5078e-03, 1.9057e-05,  ..., 2.5162e-02,\n",
       "           2.5162e-02, 2.5162e-02],\n",
       "          [9.9076e-01, 5.2107e-04, 1.6248e-04,  ..., 3.4852e-02,\n",
       "           3.4852e-02, 3.4852e-02],\n",
       "          [2.6092e-03, 9.2563e-01, 2.3313e-03,  ..., 3.9611e-02,\n",
       "           3.9611e-02, 3.9611e-02],\n",
       "          ...,\n",
       "          [0.0000e+00, 0.0000e+00, 0.0000e+00,  ..., 0.0000e+00,\n",
       "           0.0000e+00, 0.0000e+00],\n",
       "          [0.0000e+00, 0.0000e+00, 0.0000e+00,  ..., 0.0000e+00,\n",
       "           0.0000e+00, 0.0000e+00],\n",
       "          [0.0000e+00, 0.0000e+00, 0.0000e+00,  ..., 0.0000e+00,\n",
       "           0.0000e+00, 0.0000e+00]],\n",
       " \n",
       "         [[1.4455e-04, 3.4337e-02, 3.5309e-06,  ..., 2.2680e-02,\n",
       "           2.2680e-02, 2.2680e-02],\n",
       "          [9.8383e-01, 8.2438e-02, 1.3101e-05,  ..., 3.1326e-02,\n",
       "           3.1326e-02, 3.1326e-02],\n",
       "          [1.4406e-02, 8.0684e-01, 7.3990e-04,  ..., 2.8452e-02,\n",
       "           2.8452e-02, 2.8452e-02],\n",
       "          ...,\n",
       "          [0.0000e+00, 0.0000e+00, 0.0000e+00,  ..., 0.0000e+00,\n",
       "           0.0000e+00, 0.0000e+00],\n",
       "          [0.0000e+00, 0.0000e+00, 0.0000e+00,  ..., 0.0000e+00,\n",
       "           0.0000e+00, 0.0000e+00],\n",
       "          [0.0000e+00, 0.0000e+00, 0.0000e+00,  ..., 0.0000e+00,\n",
       "           0.0000e+00, 0.0000e+00]]], device='cuda:0',\n",
       "        grad_fn=<SoftmaxBackward0>),\n",
       " tensor([[[2.1479e-03, 9.5216e-01, 8.3702e-01,  ..., 1.2661e-01,\n",
       "           1.2661e-01, 1.2661e-01],\n",
       "          [9.9491e-01, 4.6673e-02, 1.6298e-01,  ..., 1.4806e-01,\n",
       "           1.4806e-01, 1.4806e-01],\n",
       "          [2.9359e-03, 1.1650e-03, 1.8069e-07,  ..., 1.8041e-01,\n",
       "           1.8041e-01, 1.8041e-01],\n",
       "          ...,\n",
       "          [0.0000e+00, 0.0000e+00, 0.0000e+00,  ..., 0.0000e+00,\n",
       "           0.0000e+00, 0.0000e+00],\n",
       "          [0.0000e+00, 0.0000e+00, 0.0000e+00,  ..., 0.0000e+00,\n",
       "           0.0000e+00, 0.0000e+00],\n",
       "          [0.0000e+00, 0.0000e+00, 0.0000e+00,  ..., 0.0000e+00,\n",
       "           0.0000e+00, 0.0000e+00]],\n",
       " \n",
       "         [[2.1795e-02, 3.0214e-03, 4.0181e-04,  ..., 2.9873e-02,\n",
       "           2.9873e-02, 2.9873e-02],\n",
       "          [7.6404e-01, 9.8402e-01, 1.0021e-03,  ..., 4.5230e-02,\n",
       "           4.5230e-02, 4.5230e-02],\n",
       "          [2.1215e-01, 8.0361e-03, 9.9855e-01,  ..., 2.7391e-02,\n",
       "           2.7391e-02, 2.7391e-02],\n",
       "          ...,\n",
       "          [0.0000e+00, 0.0000e+00, 0.0000e+00,  ..., 0.0000e+00,\n",
       "           0.0000e+00, 0.0000e+00],\n",
       "          [0.0000e+00, 0.0000e+00, 0.0000e+00,  ..., 0.0000e+00,\n",
       "           0.0000e+00, 0.0000e+00],\n",
       "          [0.0000e+00, 0.0000e+00, 0.0000e+00,  ..., 0.0000e+00,\n",
       "           0.0000e+00, 0.0000e+00]],\n",
       " \n",
       "         [[1.8118e-05, 4.8313e-04, 3.7693e-05,  ..., 5.7595e-02,\n",
       "           5.7595e-02, 5.7595e-02],\n",
       "          [6.5632e-01, 3.2416e-01, 1.7284e-01,  ..., 7.6881e-02,\n",
       "           7.6881e-02, 7.6881e-02],\n",
       "          [3.3034e-01, 6.5971e-01, 7.3566e-01,  ..., 8.7666e-02,\n",
       "           8.7666e-02, 8.7666e-02],\n",
       "          ...,\n",
       "          [0.0000e+00, 0.0000e+00, 0.0000e+00,  ..., 0.0000e+00,\n",
       "           0.0000e+00, 0.0000e+00],\n",
       "          [0.0000e+00, 0.0000e+00, 0.0000e+00,  ..., 0.0000e+00,\n",
       "           0.0000e+00, 0.0000e+00],\n",
       "          [0.0000e+00, 0.0000e+00, 0.0000e+00,  ..., 0.0000e+00,\n",
       "           0.0000e+00, 0.0000e+00]],\n",
       " \n",
       "         ...,\n",
       " \n",
       "         [[5.2540e-06, 1.5410e-05, 1.9226e-04,  ..., 3.8055e-02,\n",
       "           3.8055e-02, 3.8055e-02],\n",
       "          [9.9000e-01, 9.7317e-01, 7.8905e-01,  ..., 7.3342e-02,\n",
       "           7.3342e-02, 7.3342e-02],\n",
       "          [8.7033e-03, 2.6249e-02, 2.0566e-01,  ..., 6.9069e-02,\n",
       "           6.9069e-02, 6.9069e-02],\n",
       "          ...,\n",
       "          [0.0000e+00, 0.0000e+00, 0.0000e+00,  ..., 0.0000e+00,\n",
       "           0.0000e+00, 0.0000e+00],\n",
       "          [0.0000e+00, 0.0000e+00, 0.0000e+00,  ..., 0.0000e+00,\n",
       "           0.0000e+00, 0.0000e+00],\n",
       "          [0.0000e+00, 0.0000e+00, 0.0000e+00,  ..., 0.0000e+00,\n",
       "           0.0000e+00, 0.0000e+00]],\n",
       " \n",
       "         [[1.1022e-05, 5.9946e-05, 1.9213e-03,  ..., 8.2038e-02,\n",
       "           8.2038e-02, 8.2038e-02],\n",
       "          [9.7967e-01, 9.8252e-01, 9.8358e-01,  ..., 1.1845e-01,\n",
       "           1.1845e-01, 1.1845e-01],\n",
       "          [2.0187e-02, 1.7417e-02, 1.4494e-02,  ..., 1.5608e-01,\n",
       "           1.5608e-01, 1.5608e-01],\n",
       "          ...,\n",
       "          [0.0000e+00, 0.0000e+00, 0.0000e+00,  ..., 0.0000e+00,\n",
       "           0.0000e+00, 0.0000e+00],\n",
       "          [0.0000e+00, 0.0000e+00, 0.0000e+00,  ..., 0.0000e+00,\n",
       "           0.0000e+00, 0.0000e+00],\n",
       "          [0.0000e+00, 0.0000e+00, 0.0000e+00,  ..., 0.0000e+00,\n",
       "           0.0000e+00, 0.0000e+00]],\n",
       " \n",
       "         [[3.6236e-03, 2.1888e-03, 2.7233e-04,  ..., 2.6653e-02,\n",
       "           2.6653e-02, 2.6653e-02],\n",
       "          [4.8120e-01, 1.1226e-04, 1.2850e-03,  ..., 3.5472e-02,\n",
       "           3.5472e-02, 3.5472e-02],\n",
       "          [5.6409e-02, 8.2048e-01, 2.4072e-03,  ..., 2.8738e-02,\n",
       "           2.8738e-02, 2.8738e-02],\n",
       "          ...,\n",
       "          [0.0000e+00, 0.0000e+00, 0.0000e+00,  ..., 0.0000e+00,\n",
       "           0.0000e+00, 0.0000e+00],\n",
       "          [0.0000e+00, 0.0000e+00, 0.0000e+00,  ..., 0.0000e+00,\n",
       "           0.0000e+00, 0.0000e+00],\n",
       "          [0.0000e+00, 0.0000e+00, 0.0000e+00,  ..., 0.0000e+00,\n",
       "           0.0000e+00, 0.0000e+00]]], device='cuda:0',\n",
       "        grad_fn=<SoftmaxBackward0>)]"
      ]
     },
     "execution_count": 32,
     "metadata": {},
     "output_type": "execute_result"
    }
   ],
   "source": [
    "trainer.train_by_num_epoch(160)"
   ]
  },
  {
   "cell_type": "code",
   "execution_count": 35,
   "metadata": {},
   "outputs": [
    {
     "name": "stdout",
     "output_type": "stream",
     "text": [
      "tensor(5)\n",
      "tensor([[ 5,  1,  1,  1,  1,  1],\n",
      "        [ 5, 10,  9,  3,  3,  3],\n",
      "        [ 5,  8,  6,  7,  5,  3],\n",
      "        [ 5,  7, 11, 11,  4,  3],\n",
      "        [ 5,  7,  9, 22,  3,  3],\n",
      "        [ 5,  8,  6, 29,  4,  3],\n",
      "        [ 5, 11,  6, 32,  5,  3],\n",
      "        [ 5, 10,  9,  3,  3,  4],\n",
      "        [ 5,  4,  6,  7,  5,  4],\n",
      "        [ 5, 10, 11, 11,  4,  4],\n",
      "        [ 5, 10,  6, 22,  3,  4],\n",
      "        [ 5, 13,  6, 25,  5,  4],\n",
      "        [ 5, 11,  6, 29,  4,  4],\n",
      "        [ 5, 13,  6, 32,  5,  4],\n",
      "        [ 5,  2,  2,  2,  2,  2]])\n"
     ]
    }
   ],
   "source": [
    "print(sample[0][0])\n",
    "input_part_idx = sample[0][0]\n",
    "src, output, attn_map = model.shifted_inference(sample, input_part_idx+1)"
   ]
  },
  {
   "cell_type": "code",
   "execution_count": 10,
   "metadata": {},
   "outputs": [
    {
     "data": {
      "text/plain": [
       "<All keys matched successfully>"
      ]
     },
     "execution_count": 10,
     "metadata": {},
     "output_type": "execute_result"
    }
   ],
   "source": [
    "state = torch.load('best_model.pt')\n",
    "model.load_state_dict(state)"
   ]
  },
  {
   "cell_type": "code",
   "execution_count": null,
   "metadata": {},
   "outputs": [],
   "source": [
    "len(attn_map)"
   ]
  },
  {
   "cell_type": "code",
   "execution_count": 493,
   "metadata": {},
   "outputs": [
    {
     "ename": "NameError",
     "evalue": "name 'attn_map' is not defined",
     "output_type": "error",
     "traceback": [
      "\u001b[0;31m---------------------------------------------------------------------------\u001b[0m",
      "\u001b[0;31mNameError\u001b[0m                                 Traceback (most recent call last)",
      "\u001b[1;32m/home/danbi/userdata/DANBI/gugakwon/Yeominrak/notebook/data_processing.ipynb 셀 9\u001b[0m line \u001b[0;36m<module>\u001b[0;34m\u001b[0m\n\u001b[1;32m      <a href='vscode-notebook-cell://ssh-remote%2B163.239.103.19/home/danbi/userdata/DANBI/gugakwon/Yeominrak/notebook/data_processing.ipynb#X21sdnNjb2RlLXJlbW90ZQ%3D%3D?line=0'>1</a>\u001b[0m \u001b[39mimport\u001b[39;00m \u001b[39mmatplotlib\u001b[39;00m\u001b[39m.\u001b[39;00m\u001b[39mpyplot\u001b[39;00m \u001b[39mas\u001b[39;00m \u001b[39mplt\u001b[39;00m\n\u001b[0;32m----> <a href='vscode-notebook-cell://ssh-remote%2B163.239.103.19/home/danbi/userdata/DANBI/gugakwon/Yeominrak/notebook/data_processing.ipynb#X21sdnNjb2RlLXJlbW90ZQ%3D%3D?line=2'>3</a>\u001b[0m plt\u001b[39m.\u001b[39mimshow(attn_map[\u001b[39m0\u001b[39m][\u001b[39m5\u001b[39m]\u001b[39m.\u001b[39mdetach()\u001b[39m.\u001b[39mcpu()\u001b[39m.\u001b[39mnumpy())\n",
      "\u001b[0;31mNameError\u001b[0m: name 'attn_map' is not defined"
     ]
    }
   ],
   "source": [
    "import matplotlib.pyplot as plt\n",
    "\n",
    "plt.imshow(attn_map[0][5].detach().cpu().numpy())"
   ]
  },
  {
   "cell_type": "code",
   "execution_count": 26,
   "metadata": {},
   "outputs": [
    {
     "data": {
      "text/plain": [
       "[<matplotlib.lines.Line2D at 0x7f83cd5736d0>]"
      ]
     },
     "execution_count": 26,
     "metadata": {},
     "output_type": "execute_result"
    },
    {
     "data": {
      "image/png": "[encoded data removed]",
      "text/plain": [
       "<Figure size 432x288 with 2 Axes>"
      ]
     },
     "metadata": {
      "image/png": {
       "height": 248,
       "width": 379
      },
      "needs_background": "light"
     },
     "output_type": "display_data"
    }
   ],
   "source": [
    "from matplotlib import pyplot as plt\n",
    "\n",
    "plt.subplot(2,1,1)\n",
    "plt.plot(trainer.training_loss)\n",
    "plt.subplot(2,1,2)\n",
    "plt.plot(trainer.validation_loss)"
   ]
  },
  {
   "cell_type": "code",
   "execution_count": 12,
   "metadata": {},
   "outputs": [
    {
     "data": {
      "text/plain": [
       "[<matplotlib.lines.Line2D at 0x7f6da4711490>]"
      ]
     },
     "execution_count": 12,
     "metadata": {},
     "output_type": "execute_result"
    },
    {
     "data": {
      "image/png": "[encoded data removed]",
      "text/plain": [
       "<Figure size 432x288 with 1 Axes>"
      ]
     },
     "metadata": {
      "image/png": {
       "height": 248,
       "width": 372
      },
      "needs_background": "light"
     },
     "output_type": "display_data"
    }
   ],
   "source": [
    "plt.plot(trainer.validation_acc)"
   ]
  },
  {
   "cell_type": "markdown",
   "metadata": {},
   "source": [
    "## Inference"
   ]
  },
  {
   "cell_type": "code",
   "execution_count": 5,
   "metadata": {},
   "outputs": [
    {
     "data": {
      "text/plain": [
       "[0, 7, 14, 21, 28, 35, 42, 49, 56]"
      ]
     },
     "execution_count": 5,
     "metadata": {},
     "output_type": "execute_result"
    }
   ],
   "source": [
    "selected_idx_list = [i for i in range(63)][0::7]\n",
    "selected_idx_list"
   ]
  },
  {
   "cell_type": "code",
   "execution_count": 25,
   "metadata": {},
   "outputs": [
    {
     "data": {
      "text/plain": [
       "defaultdict(list,\n",
       "            {0: [0, 1, 2, 3, 4, 5, 6, 7, 8, 9, 10, 11, 12, 13, 14, 15],\n",
       "             1: [16,\n",
       "              17,\n",
       "              18,\n",
       "              19,\n",
       "              20,\n",
       "              21,\n",
       "              22,\n",
       "              23,\n",
       "              24,\n",
       "              25,\n",
       "              26,\n",
       "              27,\n",
       "              28,\n",
       "              29,\n",
       "              30,\n",
       "              31],\n",
       "             2: [32, 33, 34, 35, 36, 37, 38, 39],\n",
       "             3: [40, 41, 42, 43, 44, 45, 46, 47],\n",
       "             5: [48,\n",
       "              49,\n",
       "              50,\n",
       "              51,\n",
       "              52,\n",
       "              53,\n",
       "              54,\n",
       "              55,\n",
       "              56,\n",
       "              57,\n",
       "              58,\n",
       "              59,\n",
       "              60,\n",
       "              61,\n",
       "              62,\n",
       "              63],\n",
       "             6: [64, 65, 66, 67, 68, 69, 70, 71]})"
      ]
     },
     "execution_count": 25,
     "metadata": {},
     "output_type": "execute_result"
    }
   ],
   "source": [
    "valid_loader = DataLoader(val_dataset, batch_size=len(val_dataset), shuffle=False, collate_fn=pack_collate)\n",
    "model.to('cpu')\n",
    "val_part_idx_info = defaultdict(list)\n",
    "for i, val in enumerate(val_dataset):\n",
    "    val_part_idx_info[int(val[0][0][0])].append(i)\n",
    "val_part_idx_info"
   ]
  },
  {
   "cell_type": "code",
   "execution_count": 7,
   "metadata": {},
   "outputs": [
    {
     "data": {
      "text/plain": [
       "63"
      ]
     },
     "execution_count": 7,
     "metadata": {},
     "output_type": "execute_result"
    }
   ],
   "source": [
    "len(valid_loader.dataset)"
   ]
  },
  {
   "cell_type": "code",
   "execution_count": 37,
   "metadata": {},
   "outputs": [
    {
     "name": "stdout",
     "output_type": "stream",
     "text": [
      "tensor([[ 5,  1,  1,  1,  1,  1],\n",
      "        [ 5, 10,  9,  3,  3,  3],\n",
      "        [ 5,  8,  6,  7,  5,  3],\n",
      "        [ 5,  7, 11, 11,  4,  3],\n",
      "        [ 5,  7,  9, 22,  3,  3],\n",
      "        [ 5,  8,  6, 29,  4,  3],\n",
      "        [ 5, 11,  6, 32,  5,  3],\n",
      "        [ 5, 10,  9,  3,  3,  4],\n",
      "        [ 5,  4,  6,  7,  5,  4],\n",
      "        [ 5, 10, 11, 11,  4,  4],\n",
      "        [ 5, 10,  6, 22,  3,  4],\n",
      "        [ 5, 13,  6, 25,  5,  4],\n",
      "        [ 5, 11,  6, 29,  4,  4],\n",
      "        [ 5, 13,  6, 32,  5,  4],\n",
      "        [ 5,  2,  2,  2,  2,  2]])\n"
     ]
    },
    {
     "data": {
      "text/plain": [
       "PosixPath('/home/danbi/userdata/DANBI/gugakwon/Yeominrak/source_and_output-1.png')"
      ]
     },
     "execution_count": 37,
     "metadata": {},
     "output_type": "execute_result"
    }
   ],
   "source": [
    "import matplotlib.pyplot as plt\n",
    "valid_dataset_idx = 0\n",
    "output_part_idx = 1\n",
    "\n",
    "sample = valid_loader.dataset[valid_dataset_idx][0]\n",
    "# src, output, attention_map = model.inference(sample, output_part_idx)\n",
    "src, output, attention_map = model.shifted_inference(sample, output_part_idx)\n",
    "\n",
    "decoder = MidiDecoder(valid_loader)\n",
    "src_midi = decoder(src)\n",
    "output_midi = decoder(output)\n",
    "\n",
    "merged_midi = stream.Stream()\n",
    "for element in src_midi:\n",
    "    merged_midi.append(element)\n",
    "for element in output_midi:\n",
    "    merged_midi.append(element)\n",
    "\n",
    "merged_midi.write('musicxml.png', \"source_and_output.png\")\n",
    "\n",
    "# output_midi.show()\n"
   ]
  },
  {
   "cell_type": "code",
   "execution_count": 18,
   "metadata": {},
   "outputs": [
    {
     "data": {
      "text/plain": [
       "tensor([[ 0,  1,  1,  1,  1,  1],\n",
       "        [ 0,  6, 10,  3,  3,  3],\n",
       "        [ 0,  5,  7,  9,  3,  3],\n",
       "        [ 0,  4, 12,  3,  3,  4],\n",
       "        [ 0,  2,  2,  2,  2,  2]])"
      ]
     },
     "execution_count": 18,
     "metadata": {},
     "output_type": "execute_result"
    }
   ],
   "source": [
    "\n",
    "sample"
   ]
  },
  {
   "cell_type": "code",
   "execution_count": 56,
   "metadata": {},
   "outputs": [
    {
     "ename": "KeyError",
     "evalue": "6",
     "output_type": "error",
     "traceback": [
      "\u001b[0;31m---------------------------------------------------------------------------\u001b[0m",
      "\u001b[0;31mKeyError\u001b[0m                                  Traceback (most recent call last)",
      "\u001b[1;32m/home/danbi/userdata/DANBI/gugakwon/Yeominrak/notebook/data_processing.ipynb 셀 21\u001b[0m line \u001b[0;36m<module>\u001b[0;34m\u001b[0m\n\u001b[0;32m----> <a href='vscode-notebook-cell://ssh-remote%2B163.239.103.19/home/danbi/userdata/DANBI/gugakwon/Yeominrak/notebook/data_processing.ipynb#Y100sdnNjb2RlLXJlbW90ZQ%3D%3D?line=0'>1</a>\u001b[0m output \u001b[39m=\u001b[39m [val_dataset\u001b[39m.\u001b[39mtokenizer(note) \u001b[39mfor\u001b[39;00m note \u001b[39min\u001b[39;00m output]\n",
      "\u001b[1;32m/home/danbi/userdata/DANBI/gugakwon/Yeominrak/notebook/data_processing.ipynb 셀 21\u001b[0m line \u001b[0;36m<listcomp>\u001b[0;34m(.0)\u001b[0m\n\u001b[0;32m----> <a href='vscode-notebook-cell://ssh-remote%2B163.239.103.19/home/danbi/userdata/DANBI/gugakwon/Yeominrak/notebook/data_processing.ipynb#Y100sdnNjb2RlLXJlbW90ZQ%3D%3D?line=0'>1</a>\u001b[0m output \u001b[39m=\u001b[39m [val_dataset\u001b[39m.\u001b[39;49mtokenizer(note) \u001b[39mfor\u001b[39;00m note \u001b[39min\u001b[39;00m output]\n",
      "File \u001b[0;32m~/userdata/DANBI/gugakwon/Yeominrak/yeominrak_processing.py:220\u001b[0m, in \u001b[0;36mTokenizer.__call__\u001b[0;34m(self, note_feature)\u001b[0m\n\u001b[1;32m    218\u001b[0m \u001b[39mdef\u001b[39;00m \u001b[39m__call__\u001b[39m(\u001b[39mself\u001b[39m, note_feature:\u001b[39mlist\u001b[39m):\n\u001b[1;32m    219\u001b[0m     \u001b[39m# key_types = ['index', 'pitch', 'duration', 'offset', 'dynamic']\u001b[39;00m\n\u001b[0;32m--> 220\u001b[0m     converted_lists \u001b[39m=\u001b[39m [\u001b[39mself\u001b[39m\u001b[39m.\u001b[39mtok2idx[\u001b[39mself\u001b[39m\u001b[39m.\u001b[39mkey_types[i]][element] \u001b[39mfor\u001b[39;00m i, element \u001b[39min\u001b[39;00m \u001b[39menumerate\u001b[39m(note_feature)]\n\u001b[1;32m    221\u001b[0m     \u001b[39m# key_types = ['index', 'pitch', 'duration', 'offset', 'dynamic']\u001b[39;00m\n\u001b[1;32m    222\u001b[0m     \u001b[39m# converted_lists = [self.tok2idx[self.key_types[i]][element] for i, element in enumerate(note_feature)]\u001b[39;00m\n\u001b[1;32m    224\u001b[0m     \u001b[39mreturn\u001b[39;00m converted_lists\n",
      "File \u001b[0;32m~/userdata/DANBI/gugakwon/Yeominrak/yeominrak_processing.py:220\u001b[0m, in \u001b[0;36m<listcomp>\u001b[0;34m(.0)\u001b[0m\n\u001b[1;32m    218\u001b[0m \u001b[39mdef\u001b[39;00m \u001b[39m__call__\u001b[39m(\u001b[39mself\u001b[39m, note_feature:\u001b[39mlist\u001b[39m):\n\u001b[1;32m    219\u001b[0m     \u001b[39m# key_types = ['index', 'pitch', 'duration', 'offset', 'dynamic']\u001b[39;00m\n\u001b[0;32m--> 220\u001b[0m     converted_lists \u001b[39m=\u001b[39m [\u001b[39mself\u001b[39;49m\u001b[39m.\u001b[39;49mtok2idx[\u001b[39mself\u001b[39;49m\u001b[39m.\u001b[39;49mkey_types[i]][element] \u001b[39mfor\u001b[39;00m i, element \u001b[39min\u001b[39;00m \u001b[39menumerate\u001b[39m(note_feature)]\n\u001b[1;32m    221\u001b[0m     \u001b[39m# key_types = ['index', 'pitch', 'duration', 'offset', 'dynamic']\u001b[39;00m\n\u001b[1;32m    222\u001b[0m     \u001b[39m# converted_lists = [self.tok2idx[self.key_types[i]][element] for i, element in enumerate(note_feature)]\u001b[39;00m\n\u001b[1;32m    224\u001b[0m     \u001b[39mreturn\u001b[39;00m converted_lists\n",
      "\u001b[0;31mKeyError\u001b[0m: 6"
     ]
    }
   ],
   "source": [
    "\n",
    "output = [val_dataset.tokenizer(note) for note in output]\n",
    "\n"
   ]
  },
  {
   "cell_type": "code",
   "execution_count": 32,
   "metadata": {},
   "outputs": [
    {
     "data": {
      "text/plain": [
       "[[1, 6, 9, 7, 5],\n",
       " [1, 4, 6, 11, 4],\n",
       " [1, 6, 9, 19, 3],\n",
       " [1, 9, 6, 22, 5],\n",
       " [1, 6, 6, 25, 5],\n",
       " [1, 5, 6, 3, 3],\n",
       " [1, 6, 13, 19, 3],\n",
       " [1, 10, 11, 3, 3],\n",
       " [1, 11, 13, 19, 3],\n",
       " [1, 11, 11, 3, 3],\n",
       " [1, 13, 9, 7, 5],\n",
       " [1, 13, 6, 11, 4],\n",
       " [1, 14, 9, 19, 3],\n",
       " [1, 14, 9, 25, 5],\n",
       " [1, 5, 6, 3, 3],\n",
       " [1, 11, 13, 19, 3],\n",
       " [1, 13, 11, 3, 3],\n",
       " [1, 11, 9, 7, 5],\n",
       " [1, 13, 6, 11, 4],\n",
       " [1, 14, 9, 19, 3],\n",
       " [1, 13, 6, 22, 5],\n",
       " [1, 14, 6, 25, 5],\n",
       " [1, 13, 6, 3, 3]]"
      ]
     },
     "execution_count": 32,
     "metadata": {},
     "output_type": "execute_result"
    }
   ],
   "source": [
    "output"
   ]
  },
  {
   "cell_type": "code",
   "execution_count": 16,
   "metadata": {},
   "outputs": [],
   "source": []
  },
  {
   "cell_type": "code",
   "execution_count": 19,
   "metadata": {},
   "outputs": [
    {
     "data": {
      "image/png": "[encoded data removed]",
      "text/plain": [
       "<IPython.core.display.Image object>"
      ]
     },
     "metadata": {
      "image/png": {
       "height": 210,
       "width": 751
      }
     },
     "output_type": "display_data"
    }
   ],
   "source": [
    "from metric import get_correspondence_with_inference, make_dynamic_template, get_similarity_with_inference\n",
    "\n",
    "model.to('cpu')\n",
    "# for idx in range(self.valid_loader.batch_size):\n",
    "selected_idx_list = [i for i in range(len(valid_loader.dataset))][0::7]\n",
    "measure_match = []\n",
    "similarity = []\n",
    "dynamic_corr = []\n",
    "dynamic_templates = make_dynamic_template(offset_list=[4.0, 8.0, 10.0, 10.0, 10.0, 10.0, 10.0, 10.0])\n",
    "for idx in selected_idx_list:\n",
    "  sample = valid_loader.dataset[idx][0]\n",
    "  input_part_idx = sample[0][0]\n",
    "  src, output, attn_map = model.shifted_inference(sample, input_part_idx+1)\n",
    "  is_match = sum([note[2] for note in src]) == sum([note[2] for note in output])\n",
    "  measure_match += [is_match]\n",
    "  if is_match:\n",
    "    similarity += [get_similarity_with_inference(src, output, dynamic_templates)]\n",
    "    dynamic_corr += [get_correspondence_with_inference(src, output, dynamic_templates)]\n",
    "  \n",
    "  src_midi, output_midi = trainer.midi_decoder(src), trainer.midi_decoder(output)\n",
    "\n",
    "  merged_midi = stream.Stream()\n",
    "  for element in src_midi:\n",
    "    merged_midi.append(element)\n",
    "  for element in output_midi:\n",
    "    merged_midi.append(element)\n",
    "\n",
    "merged_midi.show()"
   ]
  },
  {
   "cell_type": "code",
   "execution_count": 20,
   "metadata": {},
   "outputs": [
    {
     "name": "stdout",
     "output_type": "stream",
     "text": [
      "0\n",
      "tensor([[ 1,  6,  9,  7,  5,  3],\n",
      "        [ 1,  5,  9, 15,  5,  3],\n",
      "        [ 1,  5,  6, 19,  3,  3],\n",
      "        [ 1,  6,  9, 25,  5,  3],\n",
      "        [ 1,  5,  6,  3,  3,  4],\n",
      "        [ 1,  4, 11, 11,  4,  4],\n",
      "        [ 1,  4,  9, 19,  3,  4],\n",
      "        [ 1,  5, 11,  3,  3,  5],\n",
      "        [ 1, 11,  9,  7,  5,  5],\n",
      "        [ 1, 10,  6, 11,  4,  5],\n",
      "        [ 1,  9,  9, 19,  3,  5],\n",
      "        [ 1,  5,  9, 25,  5,  5],\n",
      "        [ 1,  6,  6,  3,  3,  6]])\n"
     ]
    },
    {
     "ename": "KeyError",
     "evalue": "10",
     "output_type": "error",
     "traceback": [
      "\u001b[0;31m---------------------------------------------------------------------------\u001b[0m",
      "\u001b[0;31mKeyError\u001b[0m                                  Traceback (most recent call last)",
      "\u001b[1;32m/home/teo/userdata/git_libraries/Yeominrak/notebook/data_processing_teo2.ipynb 셀 25\u001b[0m line \u001b[0;36m<module>\u001b[0;34m\u001b[0m\n\u001b[1;32m      <a href='vscode-notebook-cell://ssh-remote%2Bsym2-teo/home/teo/userdata/git_libraries/Yeominrak/notebook/data_processing_teo2.ipynb#X26sdnNjb2RlLXJlbW90ZQ%3D%3D?line=5'>6</a>\u001b[0m sample \u001b[39m=\u001b[39m valid_loader\u001b[39m.\u001b[39mdataset[valid_dataset_idx][\u001b[39m0\u001b[39m]\n\u001b[1;32m      <a href='vscode-notebook-cell://ssh-remote%2Bsym2-teo/home/teo/userdata/git_libraries/Yeominrak/notebook/data_processing_teo2.ipynb#X26sdnNjb2RlLXJlbW90ZQ%3D%3D?line=7'>8</a>\u001b[0m \u001b[39mfor\u001b[39;00m i \u001b[39min\u001b[39;00m \u001b[39mrange\u001b[39m(\u001b[39m7\u001b[39m):    \n\u001b[0;32m----> <a href='vscode-notebook-cell://ssh-remote%2Bsym2-teo/home/teo/userdata/git_libraries/Yeominrak/notebook/data_processing_teo2.ipynb#X26sdnNjb2RlLXJlbW90ZQ%3D%3D?line=8'>9</a>\u001b[0m   src, output, attention_map \u001b[39m=\u001b[39m model\u001b[39m.\u001b[39;49mshifted_inference(sample, output_part_idx)\n\u001b[1;32m     <a href='vscode-notebook-cell://ssh-remote%2Bsym2-teo/home/teo/userdata/git_libraries/Yeominrak/notebook/data_processing_teo2.ipynb#X26sdnNjb2RlLXJlbW90ZQ%3D%3D?line=9'>10</a>\u001b[0m   \u001b[39mif\u001b[39;00m i \u001b[39m==\u001b[39m \u001b[39m0\u001b[39m:\n\u001b[1;32m     <a href='vscode-notebook-cell://ssh-remote%2Bsym2-teo/home/teo/userdata/git_libraries/Yeominrak/notebook/data_processing_teo2.ipynb#X26sdnNjb2RlLXJlbW90ZQ%3D%3D?line=10'>11</a>\u001b[0m     src_midi \u001b[39m=\u001b[39m decoder(src)\n",
      "File \u001b[0;32m~/userdata/git_libraries/Yeominrak/model.py:633\u001b[0m, in \u001b[0;36mQkvAttnSeq2seq.shifted_inference\u001b[0;34m(self, src, part_idx)\u001b[0m\n\u001b[1;32m    631\u001b[0m dynamic \u001b[39m=\u001b[39m get_dynamic(current_beat, part_idx)\n\u001b[1;32m    632\u001b[0m dynamic_idx \u001b[39m=\u001b[39m \u001b[39mself\u001b[39m\u001b[39m.\u001b[39mvocab\u001b[39m.\u001b[39mtok2idx[\u001b[39m'\u001b[39m\u001b[39mdynamic\u001b[39m\u001b[39m'\u001b[39m][dynamic]\n\u001b[0;32m--> 633\u001b[0m measure_idx \u001b[39m=\u001b[39m \u001b[39mself\u001b[39;49m\u001b[39m.\u001b[39;49mvocab\u001b[39m.\u001b[39;49mtok2idx[\u001b[39m'\u001b[39;49m\u001b[39mmeasure_idx\u001b[39;49m\u001b[39m'\u001b[39;49m][current_measure_idx]\n\u001b[1;32m    634\u001b[0m \u001b[39m# print(\"line 634\", current_beat, current_measure_idx, measure_offset_idx, measure_idx)\u001b[39;00m\n\u001b[1;32m    635\u001b[0m \u001b[39m# make new token for next rnn timestep\u001b[39;00m\n\u001b[1;32m    636\u001b[0m selected_token \u001b[39m=\u001b[39m torch\u001b[39m.\u001b[39mcat([torch\u001b[39m.\u001b[39mLongTensor([[part_idx]]), selected_token, torch\u001b[39m.\u001b[39mLongTensor([[measure_offset_idx, dynamic_idx, measure_idx]])], dim\u001b[39m=\u001b[39m\u001b[39m1\u001b[39m)\n",
      "\u001b[0;31mKeyError\u001b[0m: 10"
     ]
    }
   ],
   "source": [
    "model.cpu()\n",
    "valid_dataset_idx = 0\n",
    "output_part_idx = 1\n",
    "decoder = MidiDecoder(valid_loader)\n",
    "merged_midi = stream.Stream()\n",
    "sample = valid_loader.dataset[valid_dataset_idx][0]\n",
    "\n",
    "for i in range(7):    \n",
    "  src, output, attention_map = model.shifted_inference(sample, output_part_idx)\n",
    "  if i == 0:\n",
    "    src_midi = decoder(src)\n",
    "    for element in src_midi:\n",
    "      merged_midi.append(element)\n",
    "  print(i)\n",
    "  output_midi = decoder(output)\n",
    "  for element in output_midi:\n",
    "    merged_midi.append(element)\n",
    "  sample = [val_dataset.tokenizer(note) for note in output]\n",
    "  sample = torch.Tensor(sample).long()\n",
    "  print(sample)\n",
    "  output_part_idx += 1\n",
    "\n",
    "merged_midi.write('musicxml.png', \"source_and_output.png\")\n",
    "\n",
    "\n",
    "# src, output, attention_map = model.inference(sample, output_part_idx)\n",
    "\n",
    "\n",
    "\n",
    "\n",
    "\n"
   ]
  },
  {
   "cell_type": "code",
   "execution_count": null,
   "metadata": {},
   "outputs": [],
   "source": [
    "import matplotlib.pyplot as plt\n",
    "plt.subplot(2,1,1)\n"
   ]
  },
  {
   "cell_type": "markdown",
   "metadata": {},
   "source": [
    "## Attention map"
   ]
  },
  {
   "cell_type": "code",
   "execution_count": null,
   "metadata": {},
   "outputs": [],
   "source": [
    "# src = attn_map[0][0].shape[0]\n",
    "# output = attn_map[0][0].shape[1]\n",
    "plt.figure(figsize=(15, 15))\n",
    "x_axis_label = ['start']+[i for i, x in enumerate(src)]+['end']\n",
    "y_axis_label = [i for i, x in enumerate(output)]\n",
    "\n",
    "\n",
    "plt.imshow(attention_map.detach())\n",
    "plt.yticks(range(len(x_axis_label)), x_axis_label, fontsize=15,rotation = 45)\n",
    "plt.xticks(range(len(y_axis_label)), y_axis_label, fontsize=15)\n"
   ]
  },
  {
   "cell_type": "code",
   "execution_count": null,
   "metadata": {},
   "outputs": [],
   "source": [
    "plt.figure(figsize=(10,10))\n",
    "plt.imshow(attn_map[3][3].cpu().detach().numpy())"
   ]
  },
  {
   "cell_type": "code",
   "execution_count": null,
   "metadata": {},
   "outputs": [],
   "source": [
    "plt.figure(figsize = (30, 30))\n",
    "wei = abs(model.decoder.proj.weight.detach())\n",
    "plt.imshow(wei)"
   ]
  },
  {
   "cell_type": "code",
   "execution_count": null,
   "metadata": {},
   "outputs": [],
   "source": []
  },
  {
   "cell_type": "markdown",
   "metadata": {},
   "source": []
  },
  {
   "cell_type": "markdown",
   "metadata": {},
   "source": [
    "# Other works"
   ]
  },
  {
   "cell_type": "code",
   "execution_count": null,
   "metadata": {},
   "outputs": [],
   "source": [
    "score_set = train_dataset = AlignedScore(slice_measure_num = 4, sample_len = 1000, is_valid = False, use_pitch_modification=False)"
   ]
  },
  {
   "cell_type": "code",
   "execution_count": null,
   "metadata": {},
   "outputs": [],
   "source": [
    "import matplotlib.pyplot as plt\n",
    "\n",
    "plt.plot(part5.make_pitch_contour())"
   ]
  },
  {
   "cell_type": "code",
   "execution_count": null,
   "metadata": {},
   "outputs": [],
   "source": [
    "part, i = score_set.score.parts[5], 5\n",
    "part5 = Part(part, i)\n",
    "part5.measure_duration\n",
    "print(part5.measures)\n",
    "\n",
    "# # while True:\n",
    "#   entire_beat = part5.measure_duration\n",
    "#   for measure in part5.measures:\n",
    "#     part = score_set.score.parts[5]\n",
    "# # part5 = Part(part, i) \n",
    "#     current_beat = sum(note.duration for note in measure)\n",
    "#     # print(current_beat, entire_beat)\n",
    "#     if current_beat < entire_beat:\n",
    "#       # print(current_beat, entire_beat)\n",
    "#       # print(measure)\n",
    "#       # print(measure[-1].offset, measure[-1].duration)\n",
    "#       new_note = m21_note.Note(pitch=30, quarterLength=entire_beat - current_beat)\n",
    "#       part.insert(measure[-1].offset+measure[-1].duration, new_note)\n",
    "#       # measure.append(Gnote(m21_note.Note(pitch=30, quarterLength=entire_beat - current_beat, offset=measure[-1].offset+measure[-1].duration), 5))\n",
    "#       print('added!')\n",
    "#       break\n",
    "  \n",
    "#   # sum_list = [sum(note.duration for note in measure) for measure in part5.measures]\n",
    "#   # if sum(sum_list) == len(part5.measures) * entire_beat:\n",
    "#   #   print(\"done?\")\n",
    "#   #   break\n",
    "  \n",
    "# # for i, measure in enumerate(part5.measures):\n",
    "# #   current_beat = sum(note.duration for note in measure)\n",
    "# #   entire_beat = part5.measure_duration\n",
    "# #   if current_beat < entire_beat:\n",
    "# #     print(measure)"
   ]
  },
  {
   "cell_type": "code",
   "execution_count": null,
   "metadata": {},
   "outputs": [],
   "source": [
    "whole_score = converter.parse(file_list[0])\n",
    "\n",
    "by_measure_parse_dic = defaultdict()\n",
    "for part_idx in range(len(whole_score.parts)):\n",
    "  part_dic = defaultdict(list)\n",
    "  for note in whole_score.parts[part_idx].flat.notes:\n",
    "    if not note.duration.isGrace:\n",
    "      part_dic[note.measureNumber].append(note)\n",
    "  by_measure_parse_dic[part_idx] = part_dic\n"
   ]
  },
  {
   "cell_type": "code",
   "execution_count": null,
   "metadata": {},
   "outputs": [],
   "source": [
    "part.measure"
   ]
  },
  {
   "cell_type": "code",
   "execution_count": null,
   "metadata": {},
   "outputs": [],
   "source": [
    "print(score_set.parts[5].make_pitch_contour())"
   ]
  },
  {
   "cell_type": "code",
   "execution_count": null,
   "metadata": {},
   "outputs": [],
   "source": [
    "contours = [part.make_pitch_contour() for part in score_set.parts]"
   ]
  },
  {
   "cell_type": "code",
   "execution_count": null,
   "metadata": {},
   "outputs": [],
   "source": [
    "import matplotlib.pyplot as plt\n",
    "import numpy as np\n",
    "\n",
    "measure_sample = 120\n",
    "measure_by_contour = [contours[-1][i * measure_sample : (i + 1) * measure_sample] for i in range(160)]\n",
    "\n",
    "self_similarity_matrix = np.zeros((160, 160))\n",
    "\n",
    "for i, measure1 in enumerate(measure_by_contour):\n",
    "    for j, measure2 in enumerate(measure_by_contour):\n",
    "        similarity = np.sum(measure1 == measure2) / measure_sample  # Calculate similarity\n",
    "        self_similarity_matrix[i, j] = similarity\n",
    "\n",
    "plt.figure(figsize=(12, 12))\n",
    "plt.imshow(self_similarity_matrix, cmap='viridis', origin='lower')\n",
    "plt.colorbar()\n",
    "plt.title('Self-Similarity Matrix')\n",
    "plt.show()\n"
   ]
  },
  {
   "cell_type": "code",
   "execution_count": null,
   "metadata": {},
   "outputs": [],
   "source": [
    "import matplotlib.pyplot as plt\n",
    "\n",
    "measure_start = 0\n",
    "measure_end = 30\n",
    "\n",
    "sampling_rate = 12\n",
    "\n",
    "start_idx = measure_start * 10 * sampling_rate\n",
    "end_idx = measure_end * 10 * sampling_rate\n",
    "\n",
    "plt.figure(figsize = (50, 10))\n",
    "for contour in contours:\n",
    "  plt.plot(contour[start_idx:end_idx])\n"
   ]
  },
  {
   "cell_type": "code",
   "execution_count": null,
   "metadata": {},
   "outputs": [],
   "source": []
  },
  {
   "cell_type": "markdown",
   "metadata": {},
   "source": []
  },
  {
   "cell_type": "code",
   "execution_count": null,
   "metadata": {},
   "outputs": [],
   "source": [
    "len(score_set.parts[0].measures)"
   ]
  },
  {
   "cell_type": "code",
   "execution_count": null,
   "metadata": {},
   "outputs": [],
   "source": [
    "12/5"
   ]
  },
  {
   "cell_type": "code",
   "execution_count": null,
   "metadata": {},
   "outputs": [],
   "source": [
    "score_set.parts[-1].measure_duration"
   ]
  },
  {
   "cell_type": "code",
   "execution_count": null,
   "metadata": {},
   "outputs": [],
   "source": [
    "min([note.duration for note in score_set.parts[-3].tie_cleaned_notes])"
   ]
  },
  {
   "cell_type": "code",
   "execution_count": null,
   "metadata": {},
   "outputs": [],
   "source": [
    "for i, part in enumerate(train_dataset.parts):\n",
    "  for j, measure in enumerate(part.measures):\n",
    "    for note in measure:\n",
    "      if note.pitch == 49:\n",
    "        print(i, j, note)\n"
   ]
  }
 ],
 "metadata": {
  "kernelspec": {
   "display_name": "Python 3",
   "language": "python",
   "name": "python3"
  },
  "language_info": {
   "codemirror_mode": {
    "name": "ipython",
    "version": 3
   },
   "file_extension": ".py",
   "mimetype": "text/x-python",
   "name": "python",
   "nbconvert_exporter": "python",
   "pygments_lexer": "ipython3",
   "version": "3.8.10"
  },
  "orig_nbformat": 4
 },
 "nbformat": 4,
 "nbformat_minor": 2
}
